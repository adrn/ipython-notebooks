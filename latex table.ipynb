{
 "metadata": {
  "name": "latex table"
 },
 "nbformat": 3,
 "nbformat_minor": 0,
 "worksheets": [
  {
   "cells": [
    {
     "cell_type": "code",
     "collapsed": false,
     "input": [
      "from astropy.io import ascii\n",
      "from astropy.table import Table, Column, MaskedColumn"
     ],
     "language": "python",
     "metadata": {},
     "outputs": [],
     "prompt_number": 65
    },
    {
     "cell_type": "code",
     "collapsed": false,
     "input": [
      "txt = r\"\"\"\\begin{table}\n",
      "\\scriptsize\n",
      "\\centering\n",
      "\\caption{Candidates}\n",
      "\\begin{tabular}{| c | c | c | c | c | c | c | c | c | c |}\n",
      "\\hline\n",
      "ID & $g'$ & $R$ & $J$ & $H$ & $K_s$ & $W1$ & $W2$ & $W3$ & $W4$  \\\\\n",
      "\\hline\n",
      "W & - & 18.28$\\pm$0.12 & 16.591$\\pm$0.132 & 15.860$\\pm$0.123 & 15.067$\\pm$0.133 & 15.065$\\pm$0.039 & 14.880$\\pm$0.085 & - & - \\\\\n",
      "X & - & 19.69$\\pm$0.28 & - & - & - & 15.373$\\pm$0.037 & 14.563$\\pm$0.047 & 12.098$\\pm$0.165 & 9.134$\\pm$0.329 \\\\\n",
      "Y & - & 19.25$\\pm$0.21  & - & - & -  & 16.198$\\pm$0.049 & 16.625$\\pm$0.203 & - & -\\\\\n",
      "Z & 18.66$\\pm$0.25 & 17.53$\\pm$0.10 & 15.767$\\pm$0.074 & 15.031$\\pm$0.083 & 14.446$\\pm$0.094 & 14.162$\\pm$0.027 & 14.014$\\pm$0.034 & 13.077$\\pm$0.439 & - \\\\\n",
      "\\hline\n",
      "\\end{tabular}\n",
      "\\label{table:candidates1}\n",
      "\\end{table}\n",
      "\"\"\""
     ],
     "language": "python",
     "metadata": {},
     "outputs": [],
     "prompt_number": 123
    },
    {
     "cell_type": "code",
     "collapsed": false,
     "input": [
      "t = ascii.read(txt)"
     ],
     "language": "python",
     "metadata": {},
     "outputs": [],
     "prompt_number": 124
    },
    {
     "cell_type": "code",
     "collapsed": false,
     "input": [
      "t2 = Table(masked=True)\n",
      "for col in t.colnames[1:]:\n",
      "    name = col.replace(\"$\",\"\")\n",
      "    data = []\n",
      "    err = []\n",
      "    for row in t[col]:\n",
      "        try:\n",
      "            c,dc = row.split(\"$\\\\pm$\")\n",
      "            data.append(float(c))\n",
      "            err.append(float(dc))\n",
      "        except:\n",
      "            data.append(999.)\n",
      "            err.append(999.)\n",
      "    \n",
      "    err_name = \"d{0}\".format(name)\n",
      "    t2.add_column(Column(data, name=name))\n",
      "    t2.add_column(Column(err, name=err_name))\n",
      "    \n",
      "    mask = np.logical_or((t2[name] == 999.0), (t2[err_name] == 999.0))\n",
      "    \n",
      "    t2[name].mask = mask\n",
      "    t2[err_name].mask = mask"
     ],
     "language": "python",
     "metadata": {},
     "outputs": [],
     "prompt_number": 125
    },
    {
     "cell_type": "code",
     "collapsed": false,
     "input": [
      "t2.add_column(MaskedColumn(t2[\"g'\"] - t2[\"R\"], \\\n",
      "                           name=\"g-R'\"))\n",
      "t2.add_column(MaskedColumn(t2[\"J\"] - t2[\"H\"], \\\n",
      "                           name=\"J-H\"))\n",
      "t2.add_column(MaskedColumn(t2[\"H\"] - t2[\"K_s\"], \\\n",
      "                           name=\"H-K_s\"))\n",
      "t2.add_column(MaskedColumn(t2[\"W1\"] - t2[\"W2\"], \\\n",
      "                           name=\"W1-W2\"))\n",
      "t2.add_column(MaskedColumn(t2[\"W2\"] - t2[\"W3\"], \\\n",
      "                           name=\"W2-W3\"))\n",
      "t2.add_column(MaskedColumn(t2[\"W3\"] - t2[\"W4\"], \\\n",
      "                           name=\"W3-W4\"))"
     ],
     "language": "python",
     "metadata": {},
     "outputs": [],
     "prompt_number": 141
    },
    {
     "cell_type": "code",
     "collapsed": false,
     "input": [
      "t2.add_column(MaskedColumn(np.sqrt(t2[\"dW3\"]**2 + t2[\"dW4\"]**2), \\\n",
      "                           name=\"d(W3-W4)\"))"
     ],
     "language": "python",
     "metadata": {},
     "outputs": [],
     "prompt_number": 134
    },
    {
     "cell_type": "code",
     "collapsed": false,
     "input": [
      "t2.colnames"
     ],
     "language": "python",
     "metadata": {},
     "outputs": [
      {
       "output_type": "pyout",
       "prompt_number": 143,
       "text": [
        "[\"g'\",\n",
        " \"dg'\",\n",
        " 'R',\n",
        " 'dR',\n",
        " 'J',\n",
        " 'dJ',\n",
        " 'H',\n",
        " 'dH',\n",
        " 'K_s',\n",
        " 'dK_s',\n",
        " 'W1',\n",
        " 'dW1',\n",
        " 'W2',\n",
        " 'dW2',\n",
        " 'W3',\n",
        " 'dW3',\n",
        " 'W4',\n",
        " 'dW4',\n",
        " \"d(g'-R)\",\n",
        " 'd(J-H)',\n",
        " 'd(H-K_s)',\n",
        " 'd(W1-W2)',\n",
        " 'd(W2-W3)',\n",
        " 'd(W3-W4)',\n",
        " 'd(J)',\n",
        " 'd(R)',\n",
        " 'd(W1)',\n",
        " '$R$',\n",
        " '$J$',\n",
        " '$W1$',\n",
        " \"g-R'\",\n",
        " 'J-H',\n",
        " 'H-K_s',\n",
        " 'W1-W2',\n",
        " 'W2-W3',\n",
        " 'W3-W4']"
       ]
      }
     ],
     "prompt_number": 143
    },
    {
     "cell_type": "code",
     "collapsed": false,
     "input": [
      "t2[\"d(J)\"] = t2[\"dJ\"]\n",
      "t2[\"d(R)\"] = t2[\"dR\"]\n",
      "t2[\"d(W1)\"] = t2[\"dW1\"]\n",
      "t2[\"g'-R\"] = t2[\"g-R'\"]"
     ],
     "language": "python",
     "metadata": {},
     "outputs": [],
     "prompt_number": 146
    },
    {
     "cell_type": "code",
     "collapsed": false,
     "input": [
      "for col in [\"g'-R\", \"J-H\", \"H-K_s\", \"W1-W2\", \"W2-W3\", \"W3-W4\"]:\n",
      "    t2.add_column(\n",
      "        MaskedColumn([\"{0:.2f}$\\pm${1:.2f}\"\n",
      "             .format(float(x),float(y)) for x,y in zip(t2[col],t2[\"d({0})\".format(col)])],\n",
      "             name=\"${0}$\".format(col)))"
     ],
     "language": "python",
     "metadata": {},
     "outputs": [],
     "prompt_number": 147
    },
    {
     "cell_type": "code",
     "collapsed": false,
     "input": [
      "t2"
     ],
     "language": "python",
     "metadata": {},
     "outputs": [
      {
       "html": [
        "<table><tr><th>g'</th><th>dg'</th><th>R</th><th>dR</th><th>...</th><th>$W1-W2$</th><th>$W2-W3$</th><th>$W3-W4$</th></tr><tr><td>--</td><td>--</td><td>18.28</td><td>0.12</td><td>...</td><td>0.18$\\pm$0.09</td><td>nan$\\pm$nan</td><td>nan$\\pm$nan</td></tr><tr><td>--</td><td>--</td><td>19.69</td><td>0.28</td><td>...</td><td>0.81$\\pm$0.06</td><td>2.46$\\pm$0.17</td><td>2.96$\\pm$0.37</td></tr><tr><td>--</td><td>--</td><td>19.25</td><td>0.21</td><td>...</td><td>-0.43$\\pm$0.21</td><td>nan$\\pm$nan</td><td>nan$\\pm$nan</td></tr><tr><td>18.66</td><td>0.25</td><td>17.53</td><td>0.1</td><td>...</td><td>0.15$\\pm$0.04</td><td>0.94$\\pm$0.44</td><td>nan$\\pm$nan</td></tr></table>"
       ],
       "output_type": "pyout",
       "prompt_number": 148,
       "text": [
        "<Table rows=4 names=('g'','dg'','R','dR','J','dJ','H','dH','K_s','dK_s','W1','dW1','W2','dW2','W3','dW3','W4','dW4','d(g'-R)','d(J-H)','d(H-K_s)','d(W1-W2)','d(W2-W3)','d(W3-W4)','d(J)','d(R)','d(W1)','$R$','$J$','$W1$','g-R'','J-H','H-K_s','W1-W2','W2-W3','W3-W4','g'-R','$g'-R$','$J-H$','$H-K_s$','$W1-W2$','$W2-W3$','$W3-W4$')>\n",
        "masked_array(data = [ (--, --, 18.28, 0.12, 16.591, 0.132, 15.86, 0.123, 15.067, 0.133, 15.065, 0.039, 14.88, 0.085, --, --, --, --, --, 0.18042449944505873, 0.1811573901335521, 0.09352005132590552, --, --, 0.132, 0.12, 0.039, '18.28$\\\\pm$0.12', '16.59$\\\\pm$0.13', '15.06$\\\\pm$0.04', --, 0.7310000000000016, 0.7929999999999993, 0.18499999999999872, --, --, --, 'nan$\\\\pm$nan', '0.73$\\\\pm$0.18', '0.79$\\\\pm$0.18', '0.18$\\\\pm$0.09', 'nan$\\\\pm$nan', 'nan$\\\\pm$nan')\n",
        " (--, --, 19.69, 0.28, --, --, --, --, --, --, 15.373, 0.037, 14.563, 0.047, 12.098, 0.165, 9.134, 0.329, --, --, --, 0.059816385714952715, 0.17156339936011994, 0.3680570607935677, --, 0.28, 0.037, '19.69$\\\\pm$0.28', 'nan$\\\\pm$nan', '15.37$\\\\pm$0.04', --, --, --, 0.8099999999999987, 2.465, 2.9640000000000004, --, 'nan$\\\\pm$nan', 'nan$\\\\pm$nan', 'nan$\\\\pm$nan', '0.81$\\\\pm$0.06', '2.46$\\\\pm$0.17', '2.96$\\\\pm$0.37')\n",
        " (--, --, 19.25, 0.21, --, --, --, --, --, --, 16.198, 0.049, 16.625, 0.203, --, --, --, --, --, --, --, 0.20883007446246818, --, --, --, 0.21, 0.049, '19.25$\\\\pm$0.21', 'nan$\\\\pm$nan', '16.20$\\\\pm$0.05', --, --, --, -0.4269999999999996, --, --, --, 'nan$\\\\pm$nan', 'nan$\\\\pm$nan', 'nan$\\\\pm$nan', '-0.43$\\\\pm$0.21', 'nan$\\\\pm$nan', 'nan$\\\\pm$nan')\n",
        " (18.66, 0.25, 17.53, 0.1, 15.767, 0.074, 15.031, 0.083, 14.446, 0.094, 14.162, 0.027, 14.014, 0.034, 13.077, 0.439, --, --, 0.26925824035672524, 0.11119802156513398, 0.12539936203984453, 0.043416586692184816, 0.4403146602147151, --, 0.074, 0.1, 0.027, '17.53$\\\\pm$0.10', '15.77$\\\\pm$0.07', '14.16$\\\\pm$0.03', 1.129999999999999, 0.7359999999999989, 0.5850000000000009, 0.14800000000000146, 0.9369999999999994, --, 1.129999999999999, '1.13$\\\\pm$0.27', '0.74$\\\\pm$0.11', '0.59$\\\\pm$0.13', '0.15$\\\\pm$0.04', '0.94$\\\\pm$0.44', 'nan$\\\\pm$nan')],\n",
        "             mask = [ (True, True, False, False, False, False, False, False, False, False, False, False, False, False, True, True, True, True, True, False, False, False, True, True, False, False, False, False, False, False, True, False, False, False, True, True, True, False, False, False, False, False, False)\n",
        " (True, True, False, False, True, True, True, True, True, True, False, False, False, False, False, False, False, False, True, True, True, False, False, False, True, False, False, False, False, False, True, True, True, False, False, False, True, False, False, False, False, False, False)\n",
        " (True, True, False, False, True, True, True, True, True, True, False, False, False, False, True, True, True, True, True, True, True, False, True, True, True, False, False, False, False, False, True, True, True, False, True, True, True, False, False, False, False, False, False)\n",
        " (False, False, False, False, False, False, False, False, False, False, False, False, False, False, False, False, True, True, False, False, False, False, False, True, False, False, False, False, False, False, False, False, False, False, False, True, False, False, False, False, False, False, False)],\n",
        "       fill_value = (1e+20, 1e+20, 1e+20, 1e+20, 1e+20, 1e+20, 1e+20, 1e+20, 1e+20, 1e+20, 1e+20, 1e+20, 1e+20, 1e+20, 1e+20, 1e+20, 1e+20, 1e+20, 1e+20, 1e+20, 1e+20, 1e+20, 1e+20, 1e+20, 1e+20, 1e+20, 1e+20, 'N/A', 'N/A', 'N/A', 1e+20, 1e+20, 1e+20, 1e+20, 1e+20, 1e+20, 1e+20, 'N/A', 'N/A', 'N/A', 'N/A', 'N/A', 'N/A'),\n",
        "            dtype = [(\"g'\", '<f8'), (\"dg'\", '<f8'), ('R', '<f8'), ('dR', '<f8'), ('J', '<f8'), ('dJ', '<f8'), ('H', '<f8'), ('dH', '<f8'), ('K_s', '<f8'), ('dK_s', '<f8'), ('W1', '<f8'), ('dW1', '<f8'), ('W2', '<f8'), ('dW2', '<f8'), ('W3', '<f8'), ('dW3', '<f8'), ('W4', '<f8'), ('dW4', '<f8'), (\"d(g'-R)\", '<f8'), ('d(J-H)', '<f8'), ('d(H-K_s)', '<f8'), ('d(W1-W2)', '<f8'), ('d(W2-W3)', '<f8'), ('d(W3-W4)', '<f8'), ('d(J)', '<f8'), ('d(R)', '<f8'), ('d(W1)', '<f8'), ('$R$', 'S14'), ('$J$', 'S14'), ('$W1$', 'S14'), (\"g-R'\", '<f8'), ('J-H', '<f8'), ('H-K_s', '<f8'), ('W1-W2', '<f8'), ('W2-W3', '<f8'), ('W3-W4', '<f8'), (\"g'-R\", '<f8'), (\"$g'-R$\", 'S13'), ('$J-H$', 'S13'), ('$H-K_s$', 'S13'), ('$W1-W2$', 'S14'), ('$W2-W3$', 'S13'), ('$W3-W4$', 'S13')])\n"
       ]
      }
     ],
     "prompt_number": 148
    },
    {
     "cell_type": "code",
     "collapsed": false,
     "input": [
      "t2.colnames"
     ],
     "language": "python",
     "metadata": {},
     "outputs": [
      {
       "output_type": "pyout",
       "prompt_number": 149,
       "text": [
        "[\"g'\",\n",
        " \"dg'\",\n",
        " 'R',\n",
        " 'dR',\n",
        " 'J',\n",
        " 'dJ',\n",
        " 'H',\n",
        " 'dH',\n",
        " 'K_s',\n",
        " 'dK_s',\n",
        " 'W1',\n",
        " 'dW1',\n",
        " 'W2',\n",
        " 'dW2',\n",
        " 'W3',\n",
        " 'dW3',\n",
        " 'W4',\n",
        " 'dW4',\n",
        " \"d(g'-R)\",\n",
        " 'd(J-H)',\n",
        " 'd(H-K_s)',\n",
        " 'd(W1-W2)',\n",
        " 'd(W2-W3)',\n",
        " 'd(W3-W4)',\n",
        " 'd(J)',\n",
        " 'd(R)',\n",
        " 'd(W1)',\n",
        " '$R$',\n",
        " '$J$',\n",
        " '$W1$',\n",
        " \"g-R'\",\n",
        " 'J-H',\n",
        " 'H-K_s',\n",
        " 'W1-W2',\n",
        " 'W2-W3',\n",
        " 'W3-W4',\n",
        " \"g'-R\",\n",
        " \"$g'-R$\",\n",
        " '$J-H$',\n",
        " '$H-K_s$',\n",
        " '$W1-W2$',\n",
        " '$W2-W3$',\n",
        " '$W3-W4$']"
       ]
      }
     ],
     "prompt_number": 149
    },
    {
     "cell_type": "code",
     "collapsed": false,
     "input": [
      "import copy\n",
      "t3 = copy.copy(t2)"
     ],
     "language": "python",
     "metadata": {},
     "outputs": [],
     "prompt_number": 150
    },
    {
     "cell_type": "code",
     "collapsed": false,
     "input": [
      "x = [\"R\", \"J\", \"W1\", \"g'-R\", \"J-H\", \"H-K_s\", \"W1-W2\", \"W2-W3\", \"W3-W4\"]\n",
      "y = [\"${0}$\".format(derp) for derp in x]\n",
      "print y\n",
      "#t3.keep_columns(y)"
     ],
     "language": "python",
     "metadata": {},
     "outputs": [
      {
       "output_type": "stream",
       "stream": "stdout",
       "text": [
        "['$R$', '$J$', '$W1$', \"$g'-R$\", '$J-H$', '$H-K_s$', '$W1-W2$', '$W2-W3$', '$W3-W4$']\n"
       ]
      }
     ],
     "prompt_number": 151
    },
    {
     "cell_type": "code",
     "collapsed": false,
     "input": [
      "t3 = t3['$R$', \"$g'-R$\", '$J$', '$J-H$', '$H-K_s$', '$W1$', '$W1-W2$', '$W2-W3$', '$W3-W4$']"
     ],
     "language": "python",
     "metadata": {},
     "outputs": [],
     "prompt_number": 152
    },
    {
     "cell_type": "code",
     "collapsed": false,
     "input": [
      "ascii.write(t3, Writer=ascii.Latex)"
     ],
     "language": "python",
     "metadata": {},
     "outputs": [
      {
       "output_type": "stream",
       "stream": "stdout",
       "text": [
        "\\begin{table}\n",
        "\\begin{tabular}{ccccccccc}\n",
        "$R$ & $g'-R$ & $J$ & $J-H$ & $H-K_s$ & $W1$ & $W1-W2$ & $W2-W3$ & $W3-W4$ \\\\\n",
        "18.28$\\pm$0.12 & nan$\\pm$nan & 16.59$\\pm$0.13 & 0.73$\\pm$0.18 & 0.79$\\pm$0.18 & 15.06$\\pm$0.04 & 0.18$\\pm$0.09 & nan$\\pm$nan & nan$\\pm$nan \\\\\n",
        "19.69$\\pm$0.28 & nan$\\pm$nan & nan$\\pm$nan & nan$\\pm$nan & nan$\\pm$nan & 15.37$\\pm$0.04 & 0.81$\\pm$0.06 & 2.46$\\pm$0.17 & 2.96$\\pm$0.37 \\\\\n",
        "19.25$\\pm$0.21 & nan$\\pm$nan & nan$\\pm$nan & nan$\\pm$nan & nan$\\pm$nan & 16.20$\\pm$0.05 & -0.43$\\pm$0.21 & nan$\\pm$nan & nan$\\pm$nan \\\\\n",
        "17.53$\\pm$0.10 & 1.13$\\pm$0.27 & 15.77$\\pm$0.07 & 0.74$\\pm$0.11 & 0.59$\\pm$0.13 & 14.16$\\pm$0.03 & 0.15$\\pm$0.04 & 0.94$\\pm$0.44 & nan$\\pm$nan \\\\\n",
        "\\end{tabular}\n",
        "\\end{table}\n"
       ]
      }
     ],
     "prompt_number": 153
    },
    {
     "cell_type": "code",
     "collapsed": false,
     "input": [],
     "language": "python",
     "metadata": {},
     "outputs": []
    }
   ],
   "metadata": {}
  }
 ]
}