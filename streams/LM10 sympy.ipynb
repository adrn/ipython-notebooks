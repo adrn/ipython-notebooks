{
 "metadata": {
  "name": "",
  "signature": "sha256:d0d76c5697f9f4a14aa922efddb374b28b57ea45538c38264ed755ee97193f79"
 },
 "nbformat": 3,
 "nbformat_minor": 0,
 "worksheets": [
  {
   "cells": [
    {
     "cell_type": "code",
     "collapsed": false,
     "input": [
      "import sympy as sym\n",
      "import numpy as np\n",
      "sym.init_printing()"
     ],
     "language": "python",
     "metadata": {},
     "outputs": [],
     "prompt_number": 1
    },
    {
     "cell_type": "code",
     "collapsed": false,
     "input": [
      "x,y,z = sym.symbols(\"x,y,z\")\n",
      "G = sym.symbols(\"G\")\n",
      "\n",
      "# halo\n",
      "C1,C2,C3 = sym.symbols(\"C_1,C_2,C_3\")\n",
      "q1,q2,qz = sym.symbols(\"q_1,q_2,q_z\")\n",
      "vh,rh,phi = sym.symbols(\"v_h, r_h, phi\")\n",
      "\n",
      "# bulg + disk\n",
      "a,b,c = sym.symbols(\"a,b,c\")\n",
      "Mdisk,Mspher = sym.symbols(\"M_D, M_B\")\n",
      "r = sym.sqrt(x**2+y**2+z**2)\n",
      "R = sym.sqrt(x**2+y**2)"
     ],
     "language": "python",
     "metadata": {},
     "outputs": [],
     "prompt_number": 9
    },
    {
     "cell_type": "code",
     "collapsed": false,
     "input": [
      "PHI_disk = -(G*Mdisk)/sym.sqrt(R**2 + (a + sym.sqrt(z**2 + b**2))**2)\n",
      "PHI_bulge = -(G*Mspher)/(r + c)\n",
      "PHI_halo = vh**2*sym.ln(C1*x**2 + C2*y**2 + C3*x*y + (z/qz)**2 + rh**2)\n",
      "\n",
      "# PHI = PHI_disk + PHI_bulge + PHI_halo\n",
      "PHI = PHI_disk\n",
      "PHI"
     ],
     "language": "python",
     "metadata": {},
     "outputs": [
      {
       "latex": [
        "$$- \\frac{G M_{D}}{\\sqrt{x^{2} + y^{2} + \\left(a + \\sqrt{b^{2} + z^{2}}\\right)^{2}}}$$"
       ],
       "metadata": {},
       "output_type": "pyout",
       "png": "[encoded data removed]",
       "prompt_number": 10,
       "text": [
        "              -G\u22c5M_D                \n",
        "\u2500\u2500\u2500\u2500\u2500\u2500\u2500\u2500\u2500\u2500\u2500\u2500\u2500\u2500\u2500\u2500\u2500\u2500\u2500\u2500\u2500\u2500\u2500\u2500\u2500\u2500\u2500\u2500\u2500\u2500\u2500\u2500\u2500\u2500\u2500\u2500\n",
        "     _______________________________\n",
        "    \u2571                             2 \n",
        "   \u2571            \u239b       _________\u239e  \n",
        "  \u2571    2    2   \u239c      \u2571  2    2 \u239f  \n",
        "\u2572\u2571    x  + y  + \u239da + \u2572\u2571  b  + z  \u23a0  "
       ]
      }
     ],
     "prompt_number": 10
    },
    {
     "cell_type": "code",
     "collapsed": false,
     "input": [
      "rho = (sym.diff(PHI,x,2) + sym.diff(PHI,y,2) + sym.diff(PHI,z,2)) / 4 / sym.pi / G\n",
      "print(rho.simplify().as_expr())"
     ],
     "language": "python",
     "metadata": {},
     "outputs": [
      {
       "output_type": "stream",
       "stream": "stdout",
       "text": [
        "M_D*(-3*z**2*(a + sqrt(b**2 + z**2))**2*(b**2 + z**2)**3 - z**2*(a + sqrt(b**2 + z**2))*(b**2 + z**2)**(5/2)*(x**2 + y**2 + (a + sqrt(b**2 + z**2))**2) + z**2*(b**2 + z**2)**3*(x**2 + y**2 + (a + sqrt(b**2 + z**2))**2) + (a + sqrt(b**2 + z**2))*(b**2 + z**2)**(7/2)*(x**2 + y**2 + (a + sqrt(b**2 + z**2))**2) + (b**2 + z**2)**4*(-x**2 - y**2 + 2*(a + sqrt(b**2 + z**2))**2))/(4*pi*(b**2 + z**2)**4*(x**2 + y**2 + (a + sqrt(b**2 + z**2))**2)**(5/2))\n"
       ]
      }
     ],
     "prompt_number": 13
    },
    {
     "cell_type": "markdown",
     "metadata": {},
     "source": [
      "---\n",
      "Replacements to clean up symbols"
     ]
    },
    {
     "cell_type": "code",
     "collapsed": false,
     "input": [
      "r,R,H,D,RD,bz,rcr = sym.symbols('r,R,H,D,RD,bz,rcr')\n",
      "xx,yy,zz = sym.symbols('xx,yy,zz')\n",
      "\n",
      "from collections import OrderedDict\n",
      "replacements = OrderedDict()\n",
      "replacements[x**2 + y**2 + (a + sym.sqrt(z**2 + b**2))**2] = RD\n",
      "replacements[sym.sqrt(z**2 + b**2)] = bz\n",
      "replacements[sym.sqrt(x**2+y**2+z**2)] = r\n",
      "replacements[(x**2+y**2)] = R**2\n",
      "replacements[C1*x**2 + C2*y**2 + C3*x*y + (z/qz)**2 + rh**2] = H\n",
      "replacements[r*(r+c)] = rcr\n",
      "replacements[x**2] = xx\n",
      "replacements[y**2] = yy\n",
      "replacements[z**2] = zz\n",
      "replacements[(R**2 + RD**2)] = D"
     ],
     "language": "python",
     "metadata": {},
     "outputs": [],
     "prompt_number": 126
    },
    {
     "cell_type": "markdown",
     "metadata": {},
     "source": [
      "---\n",
      "\n",
      "First find expressions for accelerations (single derivatives)"
     ]
    },
    {
     "cell_type": "code",
     "collapsed": false,
     "input": [
      "-sym.diff(PHI, x).subs(replacements)"
     ],
     "language": "python",
     "metadata": {},
     "outputs": [
      {
       "latex": [
        "$$- \\frac{G M_{{B}} x}{rcr \\left(c + r\\right)} - \\frac{G M_{{D}}}{RD^{\\frac{3}{2}}} x - \\frac{v_{h}^{2}}{H} \\left(2 C_{1} x + C_{3} y\\right)$$"
       ],
       "metadata": {},
       "output_type": "pyout",
       "png": "[encoded data removed]",
       "prompt_number": 127,
       "text": [
        "                               2                \n",
        "   G\u22c5M_{B}\u22c5x    G\u22c5M_{D}\u22c5x   v_h \u22c5(2\u22c5C\u2081\u22c5x + C\u2083\u22c5y)\n",
        "- \u2500\u2500\u2500\u2500\u2500\u2500\u2500\u2500\u2500\u2500\u2500 - \u2500\u2500\u2500\u2500\u2500\u2500\u2500\u2500\u2500 - \u2500\u2500\u2500\u2500\u2500\u2500\u2500\u2500\u2500\u2500\u2500\u2500\u2500\u2500\u2500\u2500\u2500\u2500\u2500\u2500\n",
        "  rcr\u22c5(c + r)       3/2              H          \n",
        "                  RD                            "
       ]
      }
     ],
     "prompt_number": 127
    },
    {
     "cell_type": "code",
     "collapsed": false,
     "input": [
      "-sym.diff(PHI, y).subs(replacements)"
     ],
     "language": "python",
     "metadata": {},
     "outputs": [
      {
       "latex": [
        "$$- \\frac{G M_{{B}} y}{rcr \\left(c + r\\right)} - \\frac{G M_{{D}}}{RD^{\\frac{3}{2}}} y - \\frac{v_{h}^{2}}{H} \\left(2 C_{2} y + C_{3} x\\right)$$"
       ],
       "metadata": {},
       "output_type": "pyout",
       "png": "[encoded data removed]",
       "prompt_number": 128,
       "text": [
        "                               2                \n",
        "   G\u22c5M_{B}\u22c5y    G\u22c5M_{D}\u22c5y   v_h \u22c5(2\u22c5C\u2082\u22c5y + C\u2083\u22c5x)\n",
        "- \u2500\u2500\u2500\u2500\u2500\u2500\u2500\u2500\u2500\u2500\u2500 - \u2500\u2500\u2500\u2500\u2500\u2500\u2500\u2500\u2500 - \u2500\u2500\u2500\u2500\u2500\u2500\u2500\u2500\u2500\u2500\u2500\u2500\u2500\u2500\u2500\u2500\u2500\u2500\u2500\u2500\n",
        "  rcr\u22c5(c + r)       3/2              H          \n",
        "                  RD                            "
       ]
      }
     ],
     "prompt_number": 128
    },
    {
     "cell_type": "code",
     "collapsed": false,
     "input": [
      "-sym.diff(PHI, z).subs(replacements)"
     ],
     "language": "python",
     "metadata": {},
     "outputs": [
      {
       "latex": [
        "$$- \\frac{G M_{{B}} z}{rcr \\left(c + r\\right)} - \\frac{G M_{{D}} z}{RD^{\\frac{3}{2}} bz} \\left(a + bz\\right) - \\frac{2 v_{h}^{2} z}{H q_{z}^{2}}$$"
       ],
       "metadata": {},
       "output_type": "pyout",
       "png": "[encoded data removed]",
       "prompt_number": 129,
       "text": [
        "                                          2  \n",
        "   G\u22c5M_{B}\u22c5z    G\u22c5M_{D}\u22c5z\u22c5(a + bz)   2\u22c5v_h \u22c5z\n",
        "- \u2500\u2500\u2500\u2500\u2500\u2500\u2500\u2500\u2500\u2500\u2500 - \u2500\u2500\u2500\u2500\u2500\u2500\u2500\u2500\u2500\u2500\u2500\u2500\u2500\u2500\u2500\u2500\u2500\u2500 - \u2500\u2500\u2500\u2500\u2500\u2500\u2500\u2500\n",
        "  rcr\u22c5(c + r)          3/2                 2 \n",
        "                     RD   \u22c5bz         H\u22c5q_z  "
       ]
      }
     ],
     "prompt_number": 129
    },
    {
     "cell_type": "code",
     "collapsed": false,
     "input": [
      "fB,fD,fH = sym.symbols('fB,fD,fH')\n",
      "\n",
      "replacements2 = OrderedDict()\n",
      "replacements2[G*Mspher/(rcr*(r+c))] = fB\n",
      "replacements2[G*Mdisk/sym.sqrt(RD)**3] = fD\n",
      "replacements2[vh**2 / H] = fH\n",
      "-sym.diff(PHI, x).subs(replacements).subs(replacements2)"
     ],
     "language": "python",
     "metadata": {},
     "outputs": [
      {
       "latex": [
        "$$- fB x - fD x - fH \\left(2 C_{1} x + C_{3} y\\right)$$"
       ],
       "metadata": {},
       "output_type": "pyout",
       "png": "[encoded data removed]",
       "prompt_number": 130,
       "text": [
        "-fB\u22c5x - fD\u22c5x - fH\u22c5(2\u22c5C\u2081\u22c5x + C\u2083\u22c5y)"
       ]
      }
     ],
     "prompt_number": 130
    },
    {
     "cell_type": "markdown",
     "metadata": {},
     "source": [
      "----"
     ]
    },
    {
     "cell_type": "code",
     "collapsed": false,
     "input": [
      "dx,dy,dz = sym.symbols(r\"{\\delta}x,{\\delta}y,{\\delta}z\")"
     ],
     "language": "python",
     "metadata": {},
     "outputs": [],
     "prompt_number": 131
    },
    {
     "cell_type": "code",
     "collapsed": false,
     "input": [
      "expr = 0.\n",
      "for qj,dqj in [(x,dx),(y,dy),(z,dz)]:\n",
      "    expr += sym.diff(PHI, qj)*dqj\n",
      "\n",
      "#-sym.diff(expr,x)\n",
      "xterm = sym.diff(expr, dx)\n",
      "yterm = sym.diff(expr, dy)\n",
      "zterm = sym.diff(expr, dz)"
     ],
     "language": "python",
     "metadata": {},
     "outputs": [],
     "prompt_number": 132
    },
    {
     "cell_type": "code",
     "collapsed": false,
     "input": [
      "d_deltaxdot_dt = -(sym.diff(xterm,x)*dx + sym.diff(yterm,x)*dy + sym.diff(zterm,x)*dz)\n",
      "d_deltaydot_dt = -(sym.diff(xterm,y)*dx + sym.diff(yterm,y)*dy + sym.diff(zterm,y)*dz)\n",
      "d_deltazdot_dt = -(sym.diff(xterm,z)*dx + sym.diff(yterm,z)*dy + sym.diff(zterm,z)*dz)"
     ],
     "language": "python",
     "metadata": {},
     "outputs": [],
     "prompt_number": 133
    },
    {
     "cell_type": "code",
     "collapsed": false,
     "input": [
      "print sym.diff(xterm,x).subs(replacements).subs(replacements2).as_expr() # XX"
     ],
     "language": "python",
     "metadata": {},
     "outputs": [
      {
       "output_type": "stream",
       "stream": "stdout",
       "text": [
        "2*C_1*fH - G*M_{B}*xx/(r*rcr**2) + fB - 2*fB*xx/rcr + fD - 3*fD*xx/RD + fH*(-2*C_1*x - C_3*y)*(2*C_1*x + C_3*y)/H\n"
       ]
      }
     ],
     "prompt_number": 136
    },
    {
     "cell_type": "code",
     "collapsed": false,
     "input": [
      "print sym.diff(xterm,y).subs(replacements).subs(replacements2).as_expr() # XY"
     ],
     "language": "python",
     "metadata": {},
     "outputs": [
      {
       "output_type": "stream",
       "stream": "stdout",
       "text": [
        "C_3*fH - G*M_{B}*x*y/(r*rcr**2) - 2*fB*x*y/rcr - 3*fD*x*y/RD + fH*(2*C_1*x + C_3*y)*(-2*C_2*y - C_3*x)/H\n"
       ]
      }
     ],
     "prompt_number": 137
    },
    {
     "cell_type": "code",
     "collapsed": false,
     "input": [
      "print sym.diff(xterm,z).subs(replacements).subs(replacements2).as_expr() # XZ"
     ],
     "language": "python",
     "metadata": {},
     "outputs": [
      {
       "output_type": "stream",
       "stream": "stdout",
       "text": [
        "-G*M_{B}*x*z/(r*rcr**2) - 2*fB*x*z/rcr - 3*fD*x*z*(a + bz)/(RD*bz) - 2*fH*z*(2*C_1*x + C_3*y)/(H*q_z**2)\n"
       ]
      }
     ],
     "prompt_number": 138
    },
    {
     "cell_type": "code",
     "collapsed": false,
     "input": [
      "print sym.diff(yterm,y).subs(replacements).subs(replacements2).as_expr() # YY"
     ],
     "language": "python",
     "metadata": {},
     "outputs": [
      {
       "output_type": "stream",
       "stream": "stdout",
       "text": [
        "2*C_2*fH - G*M_{B}*yy/(r*rcr**2) + fB - 2*fB*yy/rcr + fD - 3*fD*yy/RD + fH*(-2*C_2*y - C_3*x)*(2*C_2*y + C_3*x)/H\n"
       ]
      }
     ],
     "prompt_number": 139
    },
    {
     "cell_type": "code",
     "collapsed": false,
     "input": [
      "print sym.diff(yterm,z).subs(replacements).subs(replacements2).as_expr() # YZ"
     ],
     "language": "python",
     "metadata": {},
     "outputs": [
      {
       "output_type": "stream",
       "stream": "stdout",
       "text": [
        "-G*M_{B}*y*z/(r*rcr**2) - 2*fB*y*z/rcr - 3*fD*y*z*(a + bz)/(RD*bz) - 2*fH*z*(2*C_2*y + C_3*x)/(H*q_z**2)\n"
       ]
      }
     ],
     "prompt_number": 140
    },
    {
     "cell_type": "code",
     "collapsed": false,
     "input": [
      "print sym.diff(zterm,z).subs(replacements).subs(replacements2).as_expr() # ZZ"
     ],
     "language": "python",
     "metadata": {},
     "outputs": [
      {
       "output_type": "stream",
       "stream": "stdout",
       "text": [
        "-G*M_{B}*zz/(r*rcr**2) + fB - 2*fB*zz/rcr + 2*fH/q_z**2 + fD*(a + bz)/bz + fD*zz/bz**2 - fD*zz*(a + bz)/bz**3 - 3*fD*zz*(a + bz)**2/(RD*bz**2) - 4*fH*zz/(H*q_z**4)\n"
       ]
      }
     ],
     "prompt_number": 141
    },
    {
     "cell_type": "code",
     "collapsed": false,
     "input": [],
     "language": "python",
     "metadata": {},
     "outputs": []
    }
   ],
   "metadata": {}
  }
 ]
}