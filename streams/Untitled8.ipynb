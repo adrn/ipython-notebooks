{
 "metadata": {
  "name": ""
 },
 "nbformat": 3,
 "nbformat_minor": 0,
 "worksheets": [
  {
   "cells": [
    {
     "cell_type": "code",
     "collapsed": false,
     "input": [
      "import astropy.units as u\n",
      "from astropy.io import ascii\n",
      "from astropy.coordinates import Angle\n",
      "from astropy.table import Table, Column"
     ],
     "language": "python",
     "metadata": {},
     "outputs": [],
     "prompt_number": 14
    },
    {
     "cell_type": "code",
     "collapsed": false,
     "input": [
      "d = ascii.read(\"/Users/adrian/projects/streams/data/catalog/branimir_orphan.txt\")\n",
      "d = d[d['membership_probability'] == 'high']\n",
      "\n",
      "names = [\"Orp{0}\".format(d[\"ID\"][ii]) for ii in range(len(d))]\n",
      "d.add_column(Column(names, name='name'))"
     ],
     "language": "python",
     "metadata": {},
     "outputs": [],
     "prompt_number": 8
    },
    {
     "cell_type": "code",
     "collapsed": false,
     "input": [
      "d.colnames"
     ],
     "language": "python",
     "metadata": {},
     "outputs": [
      {
       "metadata": {},
       "output_type": "pyout",
       "prompt_number": 9,
       "text": [
        "['ID',\n",
        " 'RA',\n",
        " 'Dec',\n",
        " 'Survey',\n",
        " 'helio_dist',\n",
        " 'magAvg',\n",
        " 'rExt',\n",
        " 'amp',\n",
        " 'mag0',\n",
        " 'period',\n",
        " 'rhjd0',\n",
        " 'v_helio',\n",
        " 'rvErr',\n",
        " 'v_gsr',\n",
        " 'pmL',\n",
        " 'pmB',\n",
        " 'pmErr',\n",
        " 'FeH',\n",
        " 'membership_probability',\n",
        " 'name']"
       ]
      }
     ],
     "prompt_number": 9
    },
    {
     "cell_type": "code",
     "collapsed": false,
     "input": [
      "d['name', 'RA', 'Dec', 'magAvg'][-5]"
     ],
     "language": "python",
     "metadata": {},
     "outputs": [
      {
       "metadata": {},
       "output_type": "pyout",
       "prompt_number": 12,
       "text": [
        "<Row -5 of table\n",
        " values=('OrpRR39', 158.493827, 9.235715, 17.503)\n",
        " dtype=[('name', '|S7'), ('RA', '<f8'), ('Dec', '<f8'), ('magAvg', '<f8')]>"
       ]
      }
     ],
     "prompt_number": 12
    },
    {
     "cell_type": "code",
     "collapsed": false,
     "input": [
      "ra = Angle(d['RA'][-5]*u.degree)\n",
      "dec = Angle(d['Dec'][-5]*u.degree)\n",
      "\n",
      "print ra.to_string(unit=u.hour, sep=':', precision=1)\n",
      "print dec.to_string(unit=u.degree, sep=':', precision=1)"
     ],
     "language": "python",
     "metadata": {},
     "outputs": [
      {
       "output_type": "stream",
       "stream": "stdout",
       "text": [
        "10:33:58.5\n",
        "9:14:08.6\n"
       ]
      }
     ],
     "prompt_number": 20
    },
    {
     "cell_type": "code",
     "collapsed": false,
     "input": [
      "ascii.write(d['name', 'RA', 'Dec'], \"/Users/adrian/Downloads/orphan.txt\", delimiter=' ')"
     ],
     "language": "python",
     "metadata": {},
     "outputs": [],
     "prompt_number": 11
    },
    {
     "cell_type": "code",
     "collapsed": false,
     "input": [],
     "language": "python",
     "metadata": {},
     "outputs": []
    },
    {
     "cell_type": "code",
     "collapsed": false,
     "input": [
      "import re"
     ],
     "language": "python",
     "metadata": {},
     "outputs": [],
     "prompt_number": 11
    },
    {
     "cell_type": "code",
     "collapsed": false,
     "input": [
      "url_regex = re.compile(\n",
      "        r'^(?:http|ftp)s?://'\n",
      "        r'(?:(?:[A-Z0-9](?:[A-Z0-9-]{0,61}[A-Z0-9])?\\.)+(?:[A-Z]{2,6}\\.?|[A-Z0-9-]{2,}\\.?)|'\n",
      "\t    r'localhost|'\n",
      "        r'\\d{1,3}\\.\\d{1,3}\\.\\d{1,3}\\.\\d{1,3})'\n",
      "        r'(?::\\d+)?'\n",
      "        r'(?:/?|[/?]\\S+)$', re.IGNORECASE)"
     ],
     "language": "python",
     "metadata": {},
     "outputs": [],
     "prompt_number": 29
    },
    {
     "cell_type": "code",
     "collapsed": false,
     "input": [
      "m = url_regex.match(\"http://www.\")\n",
      "m"
     ],
     "language": "python",
     "metadata": {},
     "outputs": [],
     "prompt_number": 36
    },
    {
     "cell_type": "code",
     "collapsed": false,
     "input": [
      "from matplotlib import style"
     ],
     "language": "python",
     "metadata": {},
     "outputs": [
      {
       "output_type": "stream",
       "stream": "stderr",
       "text": [
        "ERROR:astropy:ImportError: cannot import name style\n"
       ]
      },
      {
       "ename": "ImportError",
       "evalue": "cannot import name style",
       "output_type": "pyerr",
       "traceback": [
        "\u001b[0;31m---------------------------------------------------------------------------\u001b[0m\n\u001b[0;31mImportError\u001b[0m                               Traceback (most recent call last)",
        "\u001b[0;32m<ipython-input-37-9fb52180e7cf>\u001b[0m in \u001b[0;36m<module>\u001b[0;34m()\u001b[0m\n\u001b[0;32m----> 1\u001b[0;31m \u001b[0;32mfrom\u001b[0m \u001b[0mmatplotlib\u001b[0m \u001b[0;32mimport\u001b[0m \u001b[0mstyle\u001b[0m\u001b[0;34m\u001b[0m\u001b[0m\n\u001b[0m",
        "\u001b[0;31mImportError\u001b[0m: cannot import name style"
       ]
      },
      {
       "output_type": "stream",
       "stream": "stdout",
       "text": [
        "ERROR: ImportError: cannot import name style [IPython.core.interactiveshell]\n"
       ]
      }
     ],
     "prompt_number": 37
    },
    {
     "cell_type": "code",
     "collapsed": false,
     "input": [
      "from astropy.io import fits, ascii\n",
      "from astropy.table import Table\n",
      "import numpy as np\n",
      "\n",
      "sspp = fits.open(\"/Users/adrian/projects/segue-learn/data/ssppOut-dr9.fits\")\n",
      "all_data = sspp[1].data\n",
      "\n",
      "best_data = all_data[all_data['FLAG'] == 'nnnnn']\n",
      "best_data = best_data[(best_data['RV_ADOP'] != -9999) & \\\n",
      "                      (best_data['FEH_ADOP'] != -9999) & \\\n",
      "                      (best_data['DIST_AP'] != -9999)]\n"
     ],
     "language": "python",
     "metadata": {},
     "outputs": [],
     "prompt_number": 38
    },
    {
     "cell_type": "code",
     "collapsed": false,
     "input": [
      "t = Table(best_data)['RA', 'DEC', 'L', 'B', 'RV_ADOP', 'TEFF_ADOP', 'LOGG_ADOP', 'FEH_ADOP']"
     ],
     "language": "python",
     "metadata": {},
     "outputs": [],
     "prompt_number": 52
    },
    {
     "cell_type": "code",
     "collapsed": false,
     "input": [
      "#idx = np.random.randint(len(best_data), size=1000)\n",
      "#subsample = best_data[idx]\n",
      "\n",
      "hdu = fits.BinTableHDU(np.array(t))"
     ],
     "language": "python",
     "metadata": {},
     "outputs": [],
     "prompt_number": 58
    },
    {
     "cell_type": "code",
     "collapsed": false,
     "input": [
      "hdu.writeto(\"/Users/adrian/Downloads/segue-best.fits\")"
     ],
     "language": "python",
     "metadata": {},
     "outputs": [],
     "prompt_number": 59
    },
    {
     "cell_type": "code",
     "collapsed": false,
     "input": [],
     "language": "python",
     "metadata": {},
     "outputs": []
    },
    {
     "cell_type": "code",
     "collapsed": false,
     "input": [
      "from streams.observation.rrlyrae import rrl_photometric_distance"
     ],
     "language": "python",
     "metadata": {},
     "outputs": [],
     "prompt_number": 23
    },
    {
     "cell_type": "code",
     "collapsed": false,
     "input": [
      "rrl_photometric_distance(16,-1.5)"
     ],
     "language": "python",
     "metadata": {},
     "outputs": [
      {
       "latex": [
        "$12.8825 \\; \\mathrm{kpc}$"
       ],
       "metadata": {},
       "output_type": "pyout",
       "prompt_number": 25,
       "text": [
        "<Quantity 12.8824955169 kpc>"
       ]
      }
     ],
     "prompt_number": 25
    },
    {
     "cell_type": "code",
     "collapsed": false,
     "input": [],
     "language": "python",
     "metadata": {},
     "outputs": []
    }
   ],
   "metadata": {}
  }
 ]
}