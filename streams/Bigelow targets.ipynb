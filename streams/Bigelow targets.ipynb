{
 "metadata": {
  "name": ""
 },
 "nbformat": 3,
 "nbformat_minor": 0,
 "worksheets": [
  {
   "cells": [
    {
     "cell_type": "code",
     "collapsed": false,
     "input": [
      "import re\n",
      "import astropy.coordinates as coord\n",
      "from astropy.io import ascii\n",
      "from astropy.table import Table"
     ],
     "language": "python",
     "metadata": {},
     "outputs": [],
     "prompt_number": 61
    },
    {
     "cell_type": "markdown",
     "metadata": {},
     "source": [
      "From the proposal:\n",
      "\n",
      "The proposed time will be used to collect well-sampled phase-curves in\n",
      "the NIR for RR Lyraes drawn from several sources (an example of each\n",
      "is given in the target list):  \n",
      "\n",
      "* 3 of the 5 RR Lyrae for which we have accurate parallaxes from HST\n",
      "(Benedict et al, 2011), $H\\sim 7$; %\\citep{benedict11};\n",
      "* 20 of the 51 nearby RR Lyrae already observed by CCRP with Spitzer,\n",
      "which will have parallaxes to better than 1\\% using Gaia, $H\\sim 11$;\n",
      "* 10 RR Lyraes in the Orphan Stream drawn from the Sesar et al, (2013)\n",
      "sample (and also proposed to be observed by Spitzer), $H\\sim 17$;\n",
      "\n",
      "The Benedict stars are:  \n",
      "RR Lyr  \n",
      "RZ Cep  \n",
      "XZ Cyg  \n",
      "SU Dra  \n",
      "UV Oct\n",
      "\n",
      "The CCRP stars are in a list below."
     ]
    },
    {
     "cell_type": "code",
     "collapsed": false,
     "input": [
      "# I used iObserve to look at airmass curves for the stars -- only the ones below were observable\n",
      "benedict = \"\"\"RR Lyr\n",
      "XZ Cyg\n",
      "SU Dra\"\"\".split(\"\\n\")"
     ],
     "language": "python",
     "metadata": {},
     "outputs": [],
     "prompt_number": 47
    },
    {
     "cell_type": "code",
     "collapsed": false,
     "input": [
      "# I used iObserve to automatically filter our targets that don't reach a minimum airmass of 1.3\n",
      "tbl = \"\"\"BH Peg  \t23:23\t13.007\t 4.4\t0h\n",
      "CS Eri  \t23:23\t 8.616\t 6.7\t0h\n",
      "RR Cet  \t23:23\t 2.017\t29.7\t0h\n",
      "RU Psc  \t23:23\t 1.635\t37.7\t0h\n",
      "RX Eri  \t23:23\t 1.508\t41.5\t0h\n",
      "SV Eri  \t23:23\t 1.638\t37.6\t0h\n",
      "SV Scl  \t23:23\t 5.469\t10.5\t0h\n",
      "SW And  \t23:23\t 2.049\t29.2\t0h\n",
      "XX And  \t23:23\t 1.476\t42.6\t0h\n",
      "X Ari   \t23:23\t 1.236\t54.0\t0h\n",
      "RR Gem  \t01:32\t 1.000\t90.0\t2h54m\n",
      "HK Pup  \t01:55\t 1.427\t44.5\t0h\n",
      "UY Cam  \t02:09\t 1.313\t49.6\t0h\n",
      "TT Lyn  \t03:13\t 1.023\t77.8\t4h44m\n",
      "T Sex   \t04:03\t 1.159\t59.6\t3h39m\n",
      "RR Leo  \t04:17\t 1.011\t81.5\t5h30m\n",
      "WY Ant  \t04:26\t 2.139\t27.9\t0h\n",
      "TU Uma  \t05:39\t 1.001\t87.4\t6h14m\n",
      "SU Dra  \t05:47\t 1.220\t55.1\t4h22m\n",
      "BX Leo  \t05:48\t 1.040\t74.1\t5h24m\n",
      "UU Vir  \t06:18\t 1.190\t57.2\t3h11m\n",
      "AB Uma  \t06:21\t 1.037\t74.6\t6h32m\n",
      "SW Dra  \t06:27\t 1.254\t52.9\t3h27m\n",
      "CU Com  \t06:34\t 1.015\t80.1\t5h49m\n",
      "SV Hya  \t06:40\t 1.911\t31.6\t0h\n",
      "SX Uma  \t07:35\t 1.093\t66.2\t6h12m\n",
      "RV Uma  \t07:42\t 1.075\t68.5\t6h20m\n",
      "ST CVn  \t08:07\t 1.001\t87.4\t6h14m\n",
      "UY Boo  \t08:08\t 1.061\t70.5\t5h4m\n",
      "TV Boo  \t08:26\t 1.015\t80.1\t6h34m\n",
      "AP Ser  \t09:23\t 1.082\t67.6\t4h45m\n",
      "ST Boo  \t09:39\t 1.002\t86.4\t6h26m\n",
      "AN Ser  \t10:02\t 1.060\t70.6\t5h4m\n",
      "Rv CrB  \t10:28\t 1.001\t87.4\t5h38m\n",
      "AV Peg  \t10:36\t 3.075\t19.0\t0h\n",
      "DH Peg  \t10:36\t 9.335\t 6.1\t0h\n",
      "DX Del  \t10:36\t 2.157\t27.6\t0h35m\n",
      "MT Tel  \t10:36\t15.993\t 3.6\t0h\n",
      "RR Lyr  \t10:36\t 1.241\t53.7\t2h43m\n",
      "RZ Cep  \t10:36\t 2.144\t27.8\t0h\n",
      "TW Her  \t10:36\t 1.056\t71.3\t4h4m\n",
      "UY Cyg  \t10:36\t 1.810\t33.5\t1h3m\n",
      "V440 Sgr\t10:36\t 3.152\t18.5\t0h\n",
      "V675 Sgr\t10:36\t 3.109\t18.8\t0h\n",
      "VX Her  \t10:36\t 1.031\t75.9\t5h6m\n",
      "XZ Cyg  \t10:36\t 1.300\t50.3\t2h24m\n",
      "YZ Cap  \t10:36\t10.222\t 5.6\t0h\"\"\"\n",
      "\n",
      "ccrp = []\n",
      "for line in tbl.split(\"\\n\"):\n",
      "    #row = re.findall(r\"\\S+(?:\\s\\S+)*\", line)\n",
      "    row = [a.strip() for a in line.split(\"\\t\")]\n",
      "    if row[-1] == '0h' or row[0] in benedict:\n",
      "        continue\n",
      "    \n",
      "    ccrp.append(row[0])"
     ],
     "language": "python",
     "metadata": {},
     "outputs": [],
     "prompt_number": 42
    },
    {
     "cell_type": "code",
     "collapsed": false,
     "input": [
      "all_orphan = ascii.read(\"/Users/adrian/projects/streams/data/catalog/branimir_orphan.txt\")\n",
      "orphan = all_orphan[all_orphan[\"membership_probability\"] == \"high\"]\n",
      "orphan.sort(\"magAvg\")\n",
      "orphan = orphan[:10]"
     ],
     "language": "python",
     "metadata": {},
     "outputs": [],
     "prompt_number": 43
    },
    {
     "cell_type": "code",
     "collapsed": false,
     "input": [
      "orphan.colnames"
     ],
     "language": "python",
     "metadata": {},
     "outputs": [
      {
       "metadata": {},
       "output_type": "pyout",
       "prompt_number": 55,
       "text": [
        "['ID',\n",
        " 'RA',\n",
        " 'Dec',\n",
        " 'Survey',\n",
        " 'helio_dist',\n",
        " 'magAvg',\n",
        " 'rExt',\n",
        " 'amp',\n",
        " 'mag0',\n",
        " 'period',\n",
        " 'rhjd0',\n",
        " 'v_helio',\n",
        " 'rvErr',\n",
        " 'v_gsr',\n",
        " 'pmL',\n",
        " 'pmB',\n",
        " 'pmErr',\n",
        " 'FeH',\n",
        " 'membership_probability']"
       ]
      }
     ],
     "prompt_number": 55
    },
    {
     "cell_type": "markdown",
     "metadata": {},
     "source": [
      "---"
     ]
    },
    {
     "cell_type": "code",
     "collapsed": false,
     "input": [
      "coords = []"
     ],
     "language": "python",
     "metadata": {},
     "outputs": []
    },
    {
     "cell_type": "code",
     "collapsed": false,
     "input": [
      "for star in benedict:\n",
      "    icrs = coord.ICRS.from_name(star)\n",
      "    coords.append((\"benedict\", star, icrs.ra.degree, icrs.dec.degree))"
     ],
     "language": "python",
     "metadata": {},
     "outputs": [],
     "prompt_number": 51
    },
    {
     "cell_type": "code",
     "collapsed": false,
     "input": [
      "counter = 0\n",
      "for star in ccrp:\n",
      "    icrs = coord.ICRS.from_name(star)\n",
      "    coords.append((\"ccrp\", star, icrs.ra.degree, icrs.dec.degree))\n",
      "    counter += 1\n",
      "    \n",
      "    if counter >= 20:\n",
      "        break"
     ],
     "language": "python",
     "metadata": {},
     "outputs": [],
     "prompt_number": 53
    },
    {
     "cell_type": "code",
     "collapsed": false,
     "input": [
      "for star in orphan:\n",
      "    coords.append((\"orphan\", star[\"ID\"], star[\"RA\"], star[\"Dec\"]))"
     ],
     "language": "python",
     "metadata": {},
     "outputs": [],
     "prompt_number": 56
    },
    {
     "cell_type": "code",
     "collapsed": false,
     "input": [
      "target_list = np.array(coords, dtype=[(\"source\",\"S8\"), (\"name\",\"S8\"), (\"ra\",float), (\"dec\",float)])"
     ],
     "language": "python",
     "metadata": {},
     "outputs": [],
     "prompt_number": 72
    },
    {
     "cell_type": "code",
     "collapsed": false,
     "input": [
      "target_tbl = Table(target_list)"
     ],
     "language": "python",
     "metadata": {},
     "outputs": [],
     "prompt_number": 74
    },
    {
     "cell_type": "code",
     "collapsed": false,
     "input": [
      "ascii.write(target_tbl, output=\"/Users/adrian/projects/streams/data/catalog/bigelow_targets.csv\", delimiter=\",\")"
     ],
     "language": "python",
     "metadata": {},
     "outputs": [],
     "prompt_number": 76
    },
    {
     "cell_type": "code",
     "collapsed": false,
     "input": [
      "f"
     ],
     "language": "python",
     "metadata": {},
     "outputs": []
    }
   ],
   "metadata": {}
  }
 ]
}