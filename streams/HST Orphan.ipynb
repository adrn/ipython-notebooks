{
 "metadata": {
  "name": ""
 },
 "nbformat": 3,
 "nbformat_minor": 0,
 "worksheets": [
  {
   "cells": [
    {
     "cell_type": "code",
     "collapsed": false,
     "input": [
      "import astropy.coordinates as coord\n",
      "import astropy.io.ascii as ascii\n",
      "import astropy.units as u"
     ],
     "language": "python",
     "metadata": {},
     "outputs": [],
     "prompt_number": 1
    },
    {
     "cell_type": "markdown",
     "metadata": {},
     "source": [
      "http://archive.stsci.edu/hst/hsc/search.php?ra=144.5&dec=38.8&radius=300&equinox=J2000&outputformat=CSV&max_records=10&action=Search&selectedColumnsCsv=catid,matchid,memid,sourceid,det,imageid,targetname,imagename,matchra,matchdec,sourcera,sourcedec,d,dsigma,ximage,yimage,instrument,mode,detector,aperture,exposuretime,starttime,stoptime,wavelength,filter,fluxaper2,magaper2,magauto,propid,ci,flags,ang_sep&coordformat=dec"
     ]
    },
    {
     "cell_type": "code",
     "collapsed": false,
     "input": [
      "hst = ascii.read(\"/Users/adrian/projects/streams/data/catalog/hst_orphan.csv\", data_start=2, delimiter=\",\")"
     ],
     "language": "python",
     "metadata": {},
     "outputs": [],
     "prompt_number": 2
    },
    {
     "cell_type": "code",
     "collapsed": false,
     "input": [
      "print len(hst)\n",
      "print hst.colnames"
     ],
     "language": "python",
     "metadata": {},
     "outputs": [
      {
       "output_type": "stream",
       "stream": "stdout",
       "text": [
        "15988\n",
        "['Cat ID', 'Match ID', 'Mem ID', 'Source ID', 'Det', 'Image ID', 'Target Name', 'Image Name', 'Match RA (J2000)', 'Match DEC (J2000)', 'Source RA (J2000)', 'Source DEC (J2000)', 'D', 'D Sigma', 'XImage', 'YImage', 'Instrument', 'Mode', 'Detector', 'Aperture', 'Exp Time', 'Obs. Start Time', 'Obs. Stop Time', 'Wavelength', 'Filter', 'FluxAper2', 'MagAper2', 'MagAuto', 'PropID', 'CI', 'Flags', \"Ang Sep (')\"]\n"
       ]
      }
     ],
     "prompt_number": 3
    },
    {
     "cell_type": "code",
     "collapsed": false,
     "input": [
      "ra,dec = hst['Match RA (J2000)'], hst['Match DEC (J2000)']\n",
      "icrs = coord.ICRS(ra, dec, unit=(u.degree, u.degree))"
     ],
     "language": "python",
     "metadata": {},
     "outputs": [],
     "prompt_number": 4
    },
    {
     "cell_type": "code",
     "collapsed": false,
     "input": [
      "plot(icrs.ra.degree, icrs.dec.degree, \n",
      "     marker='.', linestyle='none', alpha=0.5)\n",
      "xlim(140.5,141)\n",
      "ylim(36.5,37)"
     ],
     "language": "python",
     "metadata": {},
     "outputs": [
      {
       "metadata": {},
       "output_type": "pyout",
       "prompt_number": 5,
       "text": [
        "(36.5, 37)"
       ]
      },
      {
       "metadata": {},
       "output_type": "display_data",
       "png": "[encoded data removed]",
       "text": [
        "<matplotlib.figure.Figure at 0x1063e6790>"
       ]
      }
     ],
     "prompt_number": 5
    },
    {
     "cell_type": "code",
     "collapsed": false,
     "input": [
      "unq_filter = np.unique(hst[\"Filter\"]).view(np.ndarray)\n",
      "print np.unique(hst[\"Match ID\"]).view(np.ndarray).shape"
     ],
     "language": "python",
     "metadata": {},
     "outputs": [
      {
       "output_type": "stream",
       "stream": "stdout",
       "text": [
        "(14813,)\n"
       ]
      }
     ],
     "prompt_number": 6
    },
    {
     "cell_type": "code",
     "collapsed": false,
     "input": [
      "rows = []\n",
      "for matchid in np.unique(hst[\"Match ID\"]).view(np.ndarray):\n",
      "    w, = np.where(hst[\"Match ID\"] == matchid)\n",
      "    if len(w) > 1:\n",
      "        these_rows = hst[w]\n",
      "        \n",
      "        row = []\n",
      "        for filt in unq_filter:\n",
      "            try:\n",
      "                row.append(float(np.array(these_rows[these_rows[\"Filter\"] == filt])[\"MagAper2\"]))\n",
      "            except:\n",
      "                row.append(np.nan)\n",
      "        rows.append(row)"
     ],
     "language": "python",
     "metadata": {},
     "outputs": [],
     "prompt_number": 7
    },
    {
     "cell_type": "code",
     "collapsed": false,
     "input": [
      "matches = np.array(rows)"
     ],
     "language": "python",
     "metadata": {},
     "outputs": [],
     "prompt_number": 8
    },
    {
     "cell_type": "code",
     "collapsed": false,
     "input": [
      "for filt in unq_filter:\n",
      "    print sum(hst[\"Filter\"] == filt)"
     ],
     "language": "python",
     "metadata": {},
     "outputs": [
      {
       "output_type": "stream",
       "stream": "stdout",
       "text": [
        "198\n",
        "139\n",
        "10226\n",
        "1\n",
        "1301\n",
        "447\n",
        "550\n",
        "3003\n",
        "123\n"
       ]
      }
     ],
     "prompt_number": 16
    },
    {
     "cell_type": "code",
     "collapsed": false,
     "input": [
      "mag = hst[hst[\"Filter\"] == unq_filter[2]][\"MagAper2\"]\n",
      "nbins = 100\n",
      "\n",
      "n,bins,pat = hist(mag, bins=nbins)\n",
      "xscale('log')\n",
      "xlim(mag.min(), mag.max())"
     ],
     "language": "python",
     "metadata": {},
     "outputs": [
      {
       "metadata": {},
       "output_type": "pyout",
       "prompt_number": 23,
       "text": [
        "(17.882000000000001, 26.087)"
       ]
      },
      {
       "metadata": {},
       "output_type": "display_data",
       "png": "[encoded data removed]",
       "text": [
        "<matplotlib.figure.Figure at 0x107ef2750>"
       ]
      }
     ],
     "prompt_number": 23
    },
    {
     "cell_type": "code",
     "collapsed": false,
     "input": [
      "#plot(marker='.', linestyle='none')"
     ],
     "language": "python",
     "metadata": {},
     "outputs": [],
     "prompt_number": 13
    },
    {
     "cell_type": "code",
     "collapsed": false,
     "input": [],
     "language": "python",
     "metadata": {},
     "outputs": []
    }
   ],
   "metadata": {}
  }
 ]
}