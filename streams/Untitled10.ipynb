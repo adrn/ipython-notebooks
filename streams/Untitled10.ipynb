{
 "metadata": {
  "name": ""
 },
 "nbformat": 3,
 "nbformat_minor": 0,
 "worksheets": [
  {
   "cells": [
    {
     "cell_type": "code",
     "collapsed": false,
     "input": [
      "import astropy.coordinates as coord"
     ],
     "language": "python",
     "metadata": {},
     "outputs": [],
     "prompt_number": 2
    },
    {
     "cell_type": "markdown",
     "metadata": {},
     "source": [
      "l: -175.955674316 +/- 6.12562642644 deg  \n",
      "b: 48.3129596064 +/- 2.64519725379 deg  \n",
      "D: 43.5248182265 +/- 1.28495741137 kpc  \n",
      "mu_l: 0.0428416662528 +/- 0.372185727276 mas/yr  \n",
      "mu_b: 0.354373654599 +/- 0.365090530817 mas/yr  \n",
      "vr: 133.165991437 +/- 24.66929007 km/s"
     ]
    },
    {
     "cell_type": "code",
     "collapsed": false,
     "input": [
      "gal = coord.Galactic(-175.955674*u.deg, 48.3129596064*u.deg)\n",
      "print gal\n",
      "print gal.icrs"
     ],
     "language": "python",
     "metadata": {},
     "outputs": [
      {
       "output_type": "stream",
       "stream": "stdout",
       "text": [
        "<Galactic l=184.04433 deg, b=48.31296 deg>\n",
        "<ICRS RA=144.52184 deg, Dec=38.78988 deg>\n"
       ]
      }
     ],
     "prompt_number": 8
    },
    {
     "cell_type": "code",
     "collapsed": false,
     "input": [],
     "language": "python",
     "metadata": {},
     "outputs": []
    }
   ],
   "metadata": {}
  }
 ]
}