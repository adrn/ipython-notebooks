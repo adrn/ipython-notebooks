{
 "metadata": {
  "name": ""
 },
 "nbformat": 3,
 "nbformat_minor": 0,
 "worksheets": [
  {
   "cells": [
    {
     "cell_type": "code",
     "collapsed": false,
     "input": [
      "x = np.random.random(size=10000)\n",
      "y = np.random.random(size=100000)\n",
      "z = np.random.randint(len(x), size=len(y))\n",
      "[x[z[i]] for i in range(len(y))]"
     ],
     "language": "python",
     "metadata": {},
     "outputs": [],
     "prompt_number": 4
    },
    {
     "cell_type": "code",
     "collapsed": false,
     "input": [
      "%timeit [x[z[i]] for i in range(len(y))]"
     ],
     "language": "python",
     "metadata": {},
     "outputs": [
      {
       "output_type": "stream",
       "stream": "stdout",
       "text": [
        "10 loops, best of 3: 69.6 ms per loop\n"
       ]
      }
     ],
     "prompt_number": 5
    },
    {
     "cell_type": "code",
     "collapsed": false,
     "input": [
      "%timeit for i in range(len(x)): y[z == i] = x[i]        "
     ],
     "language": "python",
     "metadata": {},
     "outputs": [
      {
       "output_type": "stream",
       "stream": "stdout",
       "text": [
        "1 loops, best of 3: 2.96 s per loop\n"
       ]
      }
     ],
     "prompt_number": 7
    },
    {
     "cell_type": "code",
     "collapsed": false,
     "input": [
      "Nparticles = 10\n",
      "obs_data = np.random.uniform(size=(Nparticles,6))\n",
      "obs_error = np.random.uniform(size=(Nparticles,6))"
     ],
     "language": "python",
     "metadata": {},
     "outputs": [],
     "prompt_number": 210
    },
    {
     "cell_type": "code",
     "collapsed": false,
     "input": [
      "def apw_cov1(arr):\n",
      "    cov = np.zeros((arr.shape[0],arr.shape[0]))\n",
      "    b = arr - np.mean(arr,axis=1)[:,np.newaxis]\n",
      "    for ii in range(arr.shape[1]):\n",
      "        cov += np.outer(b[:,ii],b[:,ii].T)\n",
      "    cov /= arr.shape[1]\n",
      "    return cov"
     ],
     "language": "python",
     "metadata": {},
     "outputs": []
    },
    {
     "cell_type": "code",
     "collapsed": false,
     "input": [
      "from scipy.linalg import lu"
     ],
     "language": "python",
     "metadata": {},
     "outputs": [],
     "prompt_number": 223
    },
    {
     "cell_type": "code",
     "collapsed": false,
     "input": [
      "obs_data, obs_error = particles.observe(error_model)\n",
      "for od,oe in zip(obs_data,obs_error):\n",
      "    O = np.array([np.random.normal(od, oe) for ii in range(1000)])\n",
      "    X = _hel_to_gc(O)\n",
      "    V = np.cov(X.T)"
     ],
     "language": "python",
     "metadata": {},
     "outputs": [
      {
       "output_type": "stream",
       "stream": "stdout",
       "text": [
        "-1.0 [[  1.00000000e+00   0.00000000e+00   0.00000000e+00   0.00000000e+00\n",
        "    0.00000000e+00   0.00000000e+00]\n",
        " [  2.57319653e-01   0.00000000e+00   4.85267630e-06   7.62055964e-06\n",
        "    2.00823772e-01   1.00000000e+00]\n",
        " [ -9.43657964e-01  -9.05661322e-06   1.25758318e-05   5.48212458e-05\n",
        "    1.00000000e+00   0.00000000e+00]\n",
        " [  6.23607470e-05   1.00000000e+00   0.00000000e+00   0.00000000e+00\n",
        "    0.00000000e+00   0.00000000e+00]\n",
        " [ -4.05890020e-03   3.74082277e-01   1.00000000e+00   0.00000000e+00\n",
        "    0.00000000e+00   0.00000000e+00]\n",
        " [  5.94309808e-05   5.20223325e-01  -4.41288308e-01   1.00000000e+00\n",
        "    0.00000000e+00   0.00000000e+00]]\n",
        "2.05841824034e-43 [[  9.23964514e-01   2.37754228e-01  -8.71906472e-01   5.76191173e-05\n",
        "   -3.75027975e-03   5.49121173e-05]\n",
        " [  0.00000000e+00   3.06467494e-12   4.31651813e-12   1.17544735e-03\n",
        "   -3.61528169e-05   1.12491776e-03]\n",
        " [  0.00000000e+00   0.00000000e+00  -5.71964292e-12  -4.75866837e-04\n",
        "    1.18735958e-03  -1.68202527e-04]\n",
        " [  0.00000000e+00   0.00000000e+00   0.00000000e+00   3.03428161e-04\n",
        "    7.95384711e-04   6.98007488e-04]\n",
        " [  0.00000000e+00   0.00000000e+00   0.00000000e+00   0.00000000e+00\n",
        "   -5.88675422e-08  -2.59576388e-08]\n",
        " [  0.00000000e+00   0.00000000e+00   0.00000000e+00   0.00000000e+00\n",
        "    0.00000000e+00   7.11529986e-10]]\n"
       ]
      },
      {
       "metadata": {},
       "output_type": "display_data",
       "png": "[encoded data removed]",
       "text": [
        "<matplotlib.figure.Figure at 0x12085fb50>"
       ]
      },
      {
       "metadata": {},
       "output_type": "display_data",
       "png": "[encoded data removed]",
       "text": [
        "<matplotlib.figure.Figure at 0x12cb526d0>"
       ]
      }
     ],
     "prompt_number": 229
    },
    {
     "cell_type": "code",
     "collapsed": false,
     "input": [
      "X = np.array([np.random.normal(obs_data, obs_error) for ii in range(100)])\n",
      "X.shape"
     ],
     "language": "python",
     "metadata": {},
     "outputs": [
      {
       "metadata": {},
       "output_type": "pyout",
       "prompt_number": 11,
       "text": [
        "(100, 10, 6)"
       ]
      }
     ],
     "prompt_number": 11
    },
    {
     "cell_type": "code",
     "collapsed": false,
     "input": [
      "for ii in range(Nparticles):\n",
      "    print np.cov(X[:,ii].T)"
     ],
     "language": "python",
     "metadata": {},
     "outputs": [
      {
       "output_type": "stream",
       "stream": "stdout",
       "text": [
        "[[  3.99802172e-04   6.04492117e-05   1.40263228e-03  -7.17200743e-04\n",
        "    2.49851986e-04  -1.73780992e-04]\n",
        " [  6.04492117e-05   6.15687168e-03   5.52882939e-03  -2.25289475e-03\n",
        "    3.20080262e-04   1.11635436e-02]\n",
        " [  1.40263228e-03   5.52882939e-03   5.86631557e-01   3.40703683e-02\n",
        "    3.46277005e-03   1.75174502e-01]\n",
        " [ -7.17200743e-04  -2.25289475e-03   3.40703683e-02   8.74896409e-02\n",
        "    8.04198251e-04  -9.34684314e-03]\n",
        " [  2.49851986e-04   3.20080262e-04   3.46277005e-03   8.04198251e-04\n",
        "    1.07098265e-02  -2.37583647e-03]\n",
        " [ -1.73780992e-04   1.11635436e-02   1.75174502e-01  -9.34684314e-03\n",
        "   -2.37583647e-03   6.23751168e-01]]\n",
        "[[  8.78399805e-01   3.81996301e-02  -1.11410936e-02  -1.45490201e-02\n",
        "   -4.94449119e-03   3.60890653e-02]\n",
        " [  3.81996301e-02   1.63938716e-01   1.64517347e-03   6.75122832e-02\n",
        "    3.27944209e-03  -3.60490397e-03]\n",
        " [ -1.11410936e-02   1.64517347e-03   2.18755029e-02  -1.25527695e-02\n",
        "    5.09674937e-04  -4.67415370e-03]\n",
        " [ -1.45490201e-02   6.75122832e-02  -1.25527695e-02   8.88400616e-01\n",
        "   -2.95330478e-03  -1.97771809e-02]\n",
        " [ -4.94449119e-03   3.27944209e-03   5.09674937e-04  -2.95330478e-03\n",
        "    4.62444276e-03  -1.27743488e-03]\n",
        " [  3.60890653e-02  -3.60490397e-03  -4.67415370e-03  -1.97771809e-02\n",
        "   -1.27743488e-03   1.10772327e-01]]\n",
        "[[ 0.03995214 -0.00552772 -0.00777769 -0.00449472  0.01247662 -0.00292835]\n",
        " [-0.00552772  0.04474932  0.00196608  0.0035871   0.03132444  0.00665168]\n",
        " [-0.00777769  0.00196608  0.28123152  0.0248659   0.02841442  0.02001322]\n",
        " [-0.00449472  0.0035871   0.0248659   0.27376708  0.05639163  0.04482509]\n",
        " [ 0.01247662  0.03132444  0.02841442  0.05639163  0.78859127 -0.01467967]\n",
        " [-0.00292835  0.00665168  0.02001322  0.04482509 -0.01467967  0.45286773]]\n",
        "[[ 0.51645593  0.04279067  0.07740615 -0.04588061  0.08347492  0.03022423]\n",
        " [ 0.04279067  0.40880359 -0.03484882 -0.01274002 -0.03275949 -0.00390936]\n",
        " [ 0.07740615 -0.03484882  0.48447944  0.04294169 -0.00884731  0.00732174]\n",
        " [-0.04588061 -0.01274002  0.04294169  0.3619897   0.03339904  0.03143613]\n",
        " [ 0.08347492 -0.03275949 -0.00884731  0.03339904  0.47108509  0.02758528]\n",
        " [ 0.03022423 -0.00390936  0.00732174  0.03143613  0.02758528  0.14908722]]\n",
        "[[  5.52235859e-01   1.60747956e-02   2.74341739e-02   4.99069603e-03\n",
        "   -3.64778323e-02  -5.83773530e-02]\n",
        " [  1.60747956e-02   7.48372723e-01   6.96719275e-02   2.22642174e-03\n",
        "    1.60003948e-02   1.83377422e-02]\n",
        " [  2.74341739e-02   6.96719275e-02   2.06018967e-01   1.25093760e-03\n",
        "   -3.70756509e-02   4.92585725e-02]\n",
        " [  4.99069603e-03   2.22642174e-03   1.25093760e-03   6.82416182e-04\n",
        "   -1.14324261e-03   1.12967850e-03]\n",
        " [ -3.64778323e-02   1.60003948e-02  -3.70756509e-02  -1.14324261e-03\n",
        "    8.04591261e-01  -2.91917927e-02]\n",
        " [ -5.83773530e-02   1.83377422e-02   4.92585725e-02   1.12967850e-03\n",
        "   -2.91917927e-02   8.97483584e-01]]\n",
        "[[  6.38919116e-02  -9.37297141e-03  -5.94871016e-04   7.20003292e-03\n",
        "   -3.82808080e-04  -1.63178432e-02]\n",
        " [ -9.37297141e-03   5.92606309e-02  -2.18306682e-03  -3.52924418e-03\n",
        "    2.13135274e-04   1.66291906e-03]\n",
        " [ -5.94871016e-04  -2.18306682e-03   1.80921793e-01   2.01647908e-03\n",
        "   -1.02650807e-03   2.60521878e-03]\n",
        " [  7.20003292e-03  -3.52924418e-03   2.01647908e-03   2.41475518e-01\n",
        "   -9.88193054e-05   1.35896594e-02]\n",
        " [ -3.82808080e-04   2.13135274e-04  -1.02650807e-03  -9.88193054e-05\n",
        "    2.37695951e-04   5.98388219e-05]\n",
        " [ -1.63178432e-02   1.66291906e-03   2.60521878e-03   1.35896594e-02\n",
        "    5.98388219e-05   6.88184584e-02]]\n",
        "[[  1.56275569e-01  -1.66563722e-02  -5.55498673e-02  -2.05787546e-02\n",
        "   -5.40723456e-03  -7.10430207e-04]\n",
        " [ -1.66563722e-02   4.33874922e-01   5.98786545e-02  -3.16698167e-03\n",
        "    8.76372081e-03  -4.95120471e-03]\n",
        " [ -5.55498673e-02   5.98786545e-02   5.16101577e-01   2.66232243e-03\n",
        "    1.61533591e-02   2.73652187e-03]\n",
        " [ -2.05787546e-02  -3.16698167e-03   2.66232243e-03   3.23656130e-02\n",
        "    1.72335584e-02   2.55853358e-04]\n",
        " [ -5.40723456e-03   8.76372081e-03   1.61533591e-02   1.72335584e-02\n",
        "    3.32485592e-01   4.24333006e-03]\n",
        " [ -7.10430207e-04  -4.95120471e-03   2.73652187e-03   2.55853358e-04\n",
        "    4.24333006e-03   3.55007250e-03]]\n",
        "[[ 0.24793963 -0.01042212 -0.03879041 -0.03811907  0.00936123 -0.00150175]\n",
        " [-0.01042212  0.01502433  0.00391409 -0.00239046 -0.00167372 -0.02282929]\n",
        " [-0.03879041  0.00391409  0.85270089  0.06180107  0.00933045 -0.08444565]\n",
        " [-0.03811907 -0.00239046  0.06180107  0.29101637 -0.03111033 -0.02153901]\n",
        " [ 0.00936123 -0.00167372  0.00933045 -0.03111033  0.54343189 -0.02249042]\n",
        " [-0.00150175 -0.02282929 -0.08444565 -0.02153901 -0.02249042  0.60512756]]\n",
        "[[  2.08269043e-01  -3.29543175e-02  -4.79370046e-02   1.30240986e-02\n",
        "    1.75710852e-02   5.44401368e-02]\n",
        " [ -3.29543175e-02   9.39553749e-01   1.32355245e-02   4.90244223e-02\n",
        "   -4.06327542e-02  -3.00955817e-02]\n",
        " [ -4.79370046e-02   1.32355245e-02   3.10434100e-01   4.55120897e-03\n",
        "    3.01042025e-02   1.29937987e-03]\n",
        " [  1.30240986e-02   4.90244223e-02   4.55120897e-03   1.94319516e-01\n",
        "    3.93811765e-03   4.45658541e-02]\n",
        " [  1.75710852e-02  -4.06327542e-02   3.01042025e-02   3.93811765e-03\n",
        "    2.25311284e-01  -8.72766854e-04]\n",
        " [  5.44401368e-02  -3.00955817e-02   1.29937987e-03   4.45658541e-02\n",
        "   -8.72766854e-04   5.74283074e-01]]\n",
        "[[  6.17245919e-01  -3.19585584e-02   3.34069223e-03  -1.85105011e-02\n",
        "   -8.86294147e-03   1.71559439e-02]\n",
        " [ -3.19585584e-02   5.70455496e-01   1.54648284e-03   6.71548912e-03\n",
        "   -6.73597855e-03  -4.09454153e-02]\n",
        " [  3.34069223e-03   1.54648284e-03   4.31605075e-04   1.39958750e-03\n",
        "    3.07110777e-05  -2.25550290e-03]\n",
        " [ -1.85105011e-02   6.71548912e-03   1.39958750e-03   3.44345297e-01\n",
        "   -4.48821848e-03  -4.25065101e-02]\n",
        " [ -8.86294147e-03  -6.73597855e-03   3.07110777e-05  -4.48821848e-03\n",
        "    8.20475645e-03  -3.85314789e-03]\n",
        " [  1.71559439e-02  -4.09454153e-02  -2.25550290e-03  -4.25065101e-02\n",
        "   -3.85314789e-03   5.94998744e-01]]\n"
       ]
      }
     ],
     "prompt_number": 16
    },
    {
     "cell_type": "code",
     "collapsed": false,
     "input": [
      "from astropy.modeling.models import Gaussian2DModel"
     ],
     "language": "python",
     "metadata": {},
     "outputs": [],
     "prompt_number": 43
    },
    {
     "cell_type": "code",
     "collapsed": false,
     "input": [
      "#X = np.array([0.1, 0.3])\n",
      "#d = np.random.normal(size=(2,10000))\n",
      "#S = np.cov(d)\n",
      "\n",
      "X = np.array([0.0, 0.3])\n",
      "S = np.array([[0.9, 0.],[0., 0.5]])"
     ],
     "language": "python",
     "metadata": {},
     "outputs": [],
     "prompt_number": 79
    },
    {
     "cell_type": "code",
     "collapsed": false,
     "input": [
      "def apw_gauss(S):\n",
      "    return lambda X: 1/np.linalg.det(S) * np.exp(-0.5*(np.trace(np.dot(S,np.outer(X,X.T)))))"
     ],
     "language": "python",
     "metadata": {},
     "outputs": [],
     "prompt_number": 83
    },
    {
     "cell_type": "code",
     "collapsed": false,
     "input": [
      "a_g = apw_gauss(S)\n",
      "g = Gaussian2DModel(1., x_mean=0., y_mean=0., cov_matrix=S)"
     ],
     "language": "python",
     "metadata": {},
     "outputs": [],
     "prompt_number": 84
    },
    {
     "cell_type": "code",
     "collapsed": false,
     "input": [
      "print g(*X)\n",
      "print a_g(X)"
     ],
     "language": "python",
     "metadata": {},
     "outputs": [
      {
       "output_type": "stream",
       "stream": "stdout",
       "text": [
        "0.913931185271\n",
        "0.137957735752\n"
       ]
      }
     ],
     "prompt_number": 86
    },
    {
     "cell_type": "code",
     "collapsed": false,
     "input": [
      "xx,yy = np.meshgrid(np.linspace(-5., 5., 50),np.linspace(-5., 5., 50))\n",
      "xx = xx.ravel()\n",
      "yy = yy.ravel()"
     ],
     "language": "python",
     "metadata": {},
     "outputs": [],
     "prompt_number": 88
    },
    {
     "cell_type": "code",
     "collapsed": false,
     "input": [
      "Z = g(xx, yy).reshape(50,50)\n",
      "imshow(Z, aspect='equal', interpolation='nearest')\n",
      "colorbar()"
     ],
     "language": "python",
     "metadata": {},
     "outputs": [
      {
       "metadata": {},
       "output_type": "pyout",
       "prompt_number": 96,
       "text": [
        "<matplotlib.colorbar.Colorbar instance at 0x112f32e60>"
       ]
      },
      {
       "metadata": {},
       "output_type": "display_data",
       "png": "[encoded data removed]",
       "text": [
        "<matplotlib.figure.Figure at 0x112e977d0>"
       ]
      }
     ],
     "prompt_number": 96
    },
    {
     "cell_type": "code",
     "collapsed": false,
     "input": [],
     "language": "python",
     "metadata": {},
     "outputs": []
    },
    {
     "cell_type": "code",
     "collapsed": false,
     "input": [
      "print np.trace(np.dot(np.linalg.inv(S),np.outer(X,X.T)))\n",
      "print np.sum(X**2/S.diagonal())"
     ],
     "language": "python",
     "metadata": {},
     "outputs": []
    },
    {
     "cell_type": "code",
     "collapsed": false,
     "input": [
      "def test_g(X, S):\n",
      "    return np.dot(X,np.dot(np.linalg.inv(S),X.T))"
     ],
     "language": "python",
     "metadata": {},
     "outputs": [],
     "prompt_number": 98
    },
    {
     "cell_type": "code",
     "collapsed": false,
     "input": [
      "# 1 star\n",
      "X = np.array([0.4, 0.1])\n",
      "S = np.array([[1., 0.],[0.,2.]])**2\n",
      "test_g(X,S)"
     ],
     "language": "python",
     "metadata": {},
     "outputs": [
      {
       "metadata": {},
       "output_type": "pyout",
       "prompt_number": 99,
       "text": [
        "0.16250000000000003"
       ]
      }
     ],
     "prompt_number": 99
    },
    {
     "cell_type": "code",
     "collapsed": false,
     "input": [
      "# many stars\n",
      "X = np.random.random(size=(10,2))\n",
      "S = np.array([[1., 0.],[0.,2.]])**2\n",
      "print test_g(X[4], S)\n",
      "print np.diag(test_g(X, S))"
     ],
     "language": "python",
     "metadata": {},
     "outputs": [
      {
       "output_type": "stream",
       "stream": "stdout",
       "text": [
        "1.06159837697\n",
        "[ 0.20671901  0.09479345  0.03109821  0.51637308  1.06159838  0.23213202\n",
        "  0.1728544   0.32164785  0.47164451  0.51622997]\n"
       ]
      }
     ],
     "prompt_number": 42
    },
    {
     "cell_type": "code",
     "collapsed": false,
     "input": [
      "%timeit np.dot(X,np.dot(np.linalg.inv(S),X.T))"
     ],
     "language": "python",
     "metadata": {},
     "outputs": [
      {
       "output_type": "stream",
       "stream": "stdout",
       "text": [
        "10000 loops, best of 3: 33.2 \u00b5s per loop\n"
       ]
      }
     ],
     "prompt_number": 90
    },
    {
     "cell_type": "code",
     "collapsed": false,
     "input": [],
     "language": "python",
     "metadata": {},
     "outputs": []
    },
    {
     "cell_type": "code",
     "collapsed": false,
     "input": [
      "from streams.inference import LogPrior"
     ],
     "language": "python",
     "metadata": {},
     "outputs": [],
     "prompt_number": 1
    },
    {
     "cell_type": "code",
     "collapsed": false,
     "input": [
      "class LogNormalPrior(LogPrior):\n",
      "\n",
      "    def __call__(self, value):\n",
      "        X = np.atleast_2d(self.mu - value)\n",
      "        \n",
      "        #q = np.array([np.diag(np.dot(d,np.dot(icov,d.T))) for icov,d in zip(self._icov, X)])\n",
      "        q = np.array([np.dot(d,np.dot(icov,d.T)) for icov,d in zip(self._icov, X)])\n",
      "        return np.squeeze(self._norm - 0.5 * q)\n",
      "\n",
      "    def __init__(self, mu, sigma=None, cov=None):\n",
      "        self.mu = np.atleast_2d(mu)\n",
      "        \n",
      "        if sigma is not None:\n",
      "            if sigma.shape[-1] != mu.shape[-1]:\n",
      "                raise ValueError(\"Shape of std dev vector (sigma) must match shape of mean vector (mu) along axis=-1\")\n",
      "            \n",
      "            cov = np.diag(sigma**2)\n",
      "        \n",
      "        if cov is None:\n",
      "            raise ValueError(\"Must specify vector of sigmas or covariance matrix.\")\n",
      "        \n",
      "        if 2 > cov.ndim > 3:\n",
      "            raise ValueError(\"covariance matrix must be 2D or 3D\")\n",
      "        \n",
      "        self.cov = cov\n",
      "        if self.cov.ndim == 2:\n",
      "            self.cov = self.cov[np.newaxis]\n",
      "        \n",
      "        k = self.cov.shape[-1]\n",
      "        \n",
      "        self._icov = np.array([np.linalg.inv(c) for c in self.cov])\n",
      "        self._norm = -0.5*k*np.log(2*np.pi)\n",
      "        self._norm -= 0.5*np.log(np.array([np.linalg.det(c) for c in self.cov]))\n",
      "\n",
      "    def sample(self, size=None):\n",
      "        s = np.array([np.random.multivariate_normal(mu, cov, size=size) for mu,cov in zip(self.mu, self.cov)])\n",
      "        if size is not None:\n",
      "            return np.squeeze(np.rollaxis(s, 1))\n",
      "        else:\n",
      "            return np.squeeze(s)"
     ],
     "language": "python",
     "metadata": {},
     "outputs": [],
     "prompt_number": 189
    },
    {
     "cell_type": "code",
     "collapsed": false,
     "input": [
      "mu = np.array([-51., 24., 7., 0.104, 0.06, -0.01])\n",
      "sigma = np.random.random(size=(6,))\n",
      "cov = np.diag(sigma**2)\n",
      "p = LogNormalPrior(mu, cov=cov)\n",
      "print p(np.random.random(size=(6,)))"
     ],
     "language": "python",
     "metadata": {},
     "outputs": [
      {
       "output_type": "stream",
       "stream": "stdout",
       "text": [
        "-14014.7439694\n"
       ]
      }
     ],
     "prompt_number": 163
    },
    {
     "cell_type": "code",
     "collapsed": false,
     "input": [
      "mu = np.random.random((10, 6))\n",
      "cov = np.array([np.diag(np.random.random(size=(6,))) for ii in range(mu.shape[0])])\n",
      "\n",
      "p = LogNormalPrior(mu, cov=cov)\n",
      "data = np.random.random((10,6))\n",
      "print p(data)\n",
      "print p.sample(5).shape\n",
      "\n",
      "p = LogNormalPrior(mu[5], cov=cov[5])\n",
      "print p(data[5])\n",
      "print p.sample(5).shape"
     ],
     "language": "python",
     "metadata": {},
     "outputs": [
      {
       "output_type": "stream",
       "stream": "stdout",
       "text": [
        "[-4.20155569 -3.52656091 -3.84844669 -4.05526088 -5.5375428  -6.05438699\n",
        " -5.55138858 -3.73373815 -4.6530424  -0.95218122]\n",
        "(5, 10, 6)\n",
        "-6.05438699452\n",
        "(5, 6)\n"
       ]
      }
     ],
     "prompt_number": 167
    },
    {
     "cell_type": "code",
     "collapsed": false,
     "input": [],
     "language": "python",
     "metadata": {},
     "outputs": []
    },
    {
     "cell_type": "markdown",
     "metadata": {},
     "source": [
      "----"
     ]
    },
    {
     "cell_type": "code",
     "collapsed": false,
     "input": [
      "from streams.coordinates import _hel_to_gc\n",
      "from streams import usys\n",
      "from streams.observation.gaia import RRLyraeErrorModel\n",
      "from streams.io.sgr import mass_selector"
     ],
     "language": "python",
     "metadata": {},
     "outputs": [],
     "prompt_number": 173
    },
    {
     "cell_type": "code",
     "collapsed": false,
     "input": [
      "Nparticles = 10\n",
      "particles_today, satellite_today, time = mass_selector(\"2.5e8\")\n",
      "particles = particles_today(N=Nparticles, expr=\"tub!=0\")"
     ],
     "language": "python",
     "metadata": {},
     "outputs": [],
     "prompt_number": 174
    },
    {
     "cell_type": "code",
     "collapsed": false,
     "input": [
      "error_model = RRLyraeErrorModel(units=usys)\n",
      "obs_data, obs_error = particles.observe(error_model)"
     ],
     "language": "python",
     "metadata": {},
     "outputs": [],
     "prompt_number": 178
    },
    {
     "cell_type": "code",
     "collapsed": false,
     "input": [
      "O = np.array([np.random.normal(obs_data, obs_error) \\\n",
      "                for ii in range(1000)])\n",
      "X = _hel_to_gc(O)\n",
      "\n",
      "obs_error_gc = []\n",
      "for ii in range(Nparticles):\n",
      "    obs_error_gc.append(np.cov(X[:,ii].T))\n",
      "\n",
      "obs_error_gc = np.array(obs_error_gc)\n",
      "obs_data_gc = _hel_to_gc(obs_data)"
     ],
     "language": "python",
     "metadata": {},
     "outputs": [],
     "prompt_number": 190
    },
    {
     "cell_type": "code",
     "collapsed": false,
     "input": [
      "prior = LogNormalPrior(obs_data_gc, cov=obs_error_gc)"
     ],
     "language": "python",
     "metadata": {},
     "outputs": [],
     "prompt_number": 191
    },
    {
     "cell_type": "code",
     "collapsed": false,
     "input": [
      "new_obs = prior.sample(100)"
     ],
     "language": "python",
     "metadata": {},
     "outputs": [],
     "prompt_number": 196
    },
    {
     "cell_type": "code",
     "collapsed": false,
     "input": [
      "plot(obs_data_gc[:,0], obs_data_gc[:,2], marker='o', linestyle='none')\n",
      "plot(new_obs[:,:,0], new_obs[:,:,2], marker='.', linestyle='none', alpha=0.1)"
     ],
     "language": "python",
     "metadata": {},
     "outputs": [
      {
       "metadata": {},
       "output_type": "pyout",
       "prompt_number": 199,
       "text": [
        "[<matplotlib.lines.Line2D at 0x105df38d0>,\n",
        " <matplotlib.lines.Line2D at 0x107de9e50>,\n",
        " <matplotlib.lines.Line2D at 0x107de9f90>,\n",
        " <matplotlib.lines.Line2D at 0x107de9f50>,\n",
        " <matplotlib.lines.Line2D at 0x107ded250>,\n",
        " <matplotlib.lines.Line2D at 0x107ded390>,\n",
        " <matplotlib.lines.Line2D at 0x107ded4d0>,\n",
        " <matplotlib.lines.Line2D at 0x107ded610>,\n",
        " <matplotlib.lines.Line2D at 0x123b78710>,\n",
        " <matplotlib.lines.Line2D at 0x107ded890>]"
       ]
      },
      {
       "metadata": {},
       "output_type": "display_data",
       "png": "[encoded data removed]",
       "text": [
        "<matplotlib.figure.Figure at 0x105df3350>"
       ]
      }
     ],
     "prompt_number": 199
    },
    {
     "cell_type": "code",
     "collapsed": false,
     "input": [],
     "language": "python",
     "metadata": {},
     "outputs": []
    }
   ],
   "metadata": {}
  }
 ]
}