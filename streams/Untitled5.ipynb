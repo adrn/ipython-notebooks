{
 "metadata": {
  "name": ""
 },
 "nbformat": 3,
 "nbformat_minor": 0,
 "worksheets": [
  {
   "cells": [
    {
     "cell_type": "code",
     "collapsed": false,
     "input": [
      "import numpy as np"
     ],
     "language": "python",
     "metadata": {},
     "outputs": [],
     "prompt_number": 13
    },
    {
     "cell_type": "code",
     "collapsed": false,
     "input": [
      "p = np.array([3.0522815366139735, -0.57442121586774952, 36.751323505513533, 0.0066999310241279029, -0.0042394488370680371, -0.19422152398249989, -2.1543975690443853, 1.0121210540890484, 38.821645607755585, 0.0010389207842562375, -0.0062815802063840367, -0.009289155208715285])"
     ],
     "language": "python",
     "metadata": {},
     "outputs": [],
     "prompt_number": 3
    },
    {
     "cell_type": "code",
     "collapsed": false,
     "input": [
      "#ptrue = np.array([3.0522816008973268, -0.57442116634762863, 37.50451126807279, 0.0061402837828052779, -0.0041293610647155175, -0.18265324735732694, -2.1543975883045401, 1.0121209885524864, 39.08197190045631, 0.00063181602558945807, -0.0062366797600876241, -0.021947622962146956])\n",
      "mu = np.array([3.0522815924990461, -0.57442113309016285, 37.382888130632345, 0.0063292566885562382, -0.004155246967148616, -0.18697171679303701, -2.1543975755317275, 1.0121210112076422, 38.39344214967948, 0.00079478061334845105, -0.0060127782569054612, -0.019942139792740381])"
     ],
     "language": "python",
     "metadata": {},
     "outputs": [],
     "prompt_number": 4
    },
    {
     "cell_type": "code",
     "collapsed": false,
     "input": [
      "sigma = np.array([6.3810808138566298e-08, 6.3810808138566298e-08, 0.75009022536145586, 0.0003356448508088586, 0.0003356448508088586, 0.0051135608252685398, 6.6884560188962673e-08, 6.6884560188962673e-08, 0.78163943800912616, 0.00035181278659394358, 0.00035181278659394358, 0.0051135608252685398])"
     ],
     "language": "python",
     "metadata": {},
     "outputs": [],
     "prompt_number": 5
    },
    {
     "cell_type": "code",
     "collapsed": false,
     "input": [
      "k = 12\n",
      "-0.5*k*np.log(2*np.pi) - np.sum(np.log(sigma)) - 0.5 * np.sum(((p - mu) / sigma)**2)"
     ],
     "language": "python",
     "metadata": {},
     "outputs": [
      {
       "metadata": {},
       "output_type": "pyout",
       "prompt_number": 43,
       "text": [
        "91.848732656546872"
       ]
      }
     ],
     "prompt_number": 43
    },
    {
     "cell_type": "code",
     "collapsed": false,
     "input": [
      "def log_gaussian(x, mu, sigma):\n",
      "    k = len(sigma)\n",
      "    cov = np.diag(sigma**2)\n",
      "    invvar = 1./sigma**2\n",
      "    return -np.log(np.sqrt((2*np.pi)**k * np.linalg.det(cov))) - 0.5*np.dot((x-mu)**2,invvar)"
     ],
     "language": "python",
     "metadata": {},
     "outputs": [],
     "prompt_number": 46
    },
    {
     "cell_type": "code",
     "collapsed": false,
     "input": [
      "print log_gaussian(p[:6], mu[:6], sigma[:6]) + log_gaussian(p[6:], mu[6:], sigma[6:])"
     ],
     "language": "python",
     "metadata": {},
     "outputs": [
      {
       "output_type": "stream",
       "stream": "stdout",
       "text": [
        "91.8487326565\n"
       ]
      }
     ],
     "prompt_number": 47
    },
    {
     "cell_type": "code",
     "collapsed": false,
     "input": [],
     "language": "python",
     "metadata": {},
     "outputs": []
    }
   ],
   "metadata": {}
  }
 ]
}