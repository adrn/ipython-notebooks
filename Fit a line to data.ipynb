{
 "metadata": {
  "name": "Fit a line to data"
 },
 "nbformat": 3,
 "nbformat_minor": 0,
 "worksheets": [
  {
   "cells": [
    {
     "cell_type": "code",
     "collapsed": false,
     "input": [
      "import numpy as np\n",
      "import emcee"
     ],
     "language": "python",
     "metadata": {},
     "outputs": [],
     "prompt_number": 1
    },
    {
     "cell_type": "code",
     "collapsed": false,
     "input": [
      "from astropy.io import ascii\n",
      "\n",
      "filename = \"/Users/adrian/projects/_astrometry/projects/straightline/py/data_allerr.dat\"\n",
      "d = ascii.read(filename, data_start=0, \n",
      "               names=[\"ID\", \"x\", \"y\", \"sigma_y\", \"sigma_x\", \"rho_xy\"])\n",
      "\n",
      "x = d['x'].astype(np.float)\n",
      "y = d['y'].astype(np.float)\n",
      "sigma_y = d['sigma_y'].astype(np.float)"
     ],
     "language": "python",
     "metadata": {},
     "outputs": [],
     "prompt_number": 34
    },
    {
     "cell_type": "code",
     "collapsed": false,
     "input": [
      "def ln_likelihood(p, x, y, sigma_y):\n",
      "    m, b, V_b, P_b, Y_b = p\n",
      "    \n",
      "    term1 = (1-P_b) / np.sqrt(2*np.pi*sigma_y**2) * np.exp(- (y-m*x-b)**2 / (2*sigma_y**2))\n",
      "    term2 = P_b / np.sqrt(2*np.pi*(V_b+sigma_y**2)) * np.exp(- (y-Y_b)**2 / (2*(V_b+sigma_y**2)))\n",
      "    ln_lk = np.sum(np.log(term1) + np.log(1. + term2/term1))\n",
      "    \n",
      "    if np.isnan(ln_lk):\n",
      "        print(term1, np.log(1. + term2/term1))\n",
      "    return ln_lk"
     ],
     "language": "python",
     "metadata": {},
     "outputs": [],
     "prompt_number": 76
    },
    {
     "cell_type": "code",
     "collapsed": false,
     "input": [
      "def ln_prior(p):\n",
      "    m, b, V_b, P_b, Y_b = p\n",
      "    \n",
      "    if P_b > 1 or P_b < 0:\n",
      "        return -np.inf\n",
      "    \n",
      "    return 0."
     ],
     "language": "python",
     "metadata": {},
     "outputs": [],
     "prompt_number": 87
    },
    {
     "cell_type": "code",
     "collapsed": false,
     "input": [
      "def ln_posterior(p, x, y, sigma_y):\n",
      "    return ln_prior(p) + ln_likelihood(p, x, y, sigma_y)"
     ],
     "language": "python",
     "metadata": {},
     "outputs": [],
     "prompt_number": 88
    },
    {
     "cell_type": "code",
     "collapsed": false,
     "input": [
      "p = np.array([ 0.47975035,  0.76552029, 0.39811445 , 0.35218968 , 0.52574213]) + 0.5\n",
      "likelihood(p, x, y, sigma_y)"
     ],
     "language": "python",
     "metadata": {},
     "outputs": [
      {
       "output_type": "pyout",
       "prompt_number": 89,
       "text": [
        "-1476.168667308877"
       ]
      }
     ],
     "prompt_number": 89
    },
    {
     "cell_type": "code",
     "collapsed": false,
     "input": [
      "nwalkers = 100\n",
      "dim = 5\n",
      "sampler = emcee.EnsembleSampler(nwalkers=100, dim=5, lnpostfn=ln_posterior,\n",
      "                                args=(d['x'], d['y'], d['sigma_y']))"
     ],
     "language": "python",
     "metadata": {},
     "outputs": [],
     "prompt_number": 90
    },
    {
     "cell_type": "code",
     "collapsed": false,
     "input": [
      "p0 = np.random.uniform(size=(nwalkers,dim))\n",
      "sampler.run_mcmc(p0, 100)"
     ],
     "language": "python",
     "metadata": {},
     "outputs": [
      {
       "output_type": "stream",
       "stream": "stdout",
       "text": [
        "(<Column name='sigma_y' units=None format=None description=None>\n",
        "array([ -1.46753366e-11,  -4.36205776e-09,  -1.11568775e-45,\n",
        "        -1.17923263e-09,  -8.39059080e-39,  -3.01598194e-14,\n",
        "        -3.34440225e-21,  -2.77043332e-89,  -1.46152110e-23,\n",
        "        -7.23898585e-52,  -1.90782372e-51,  -8.46580588e-20,\n",
        "        -3.36894237e-05,  -4.18331197e-26,  -4.45616604e-12,\n",
        "        -4.83390705e-09,  -3.20635195e-09,  -2.00017282e-15,\n",
        "        -1.47606004e-74,  -6.23793554e-18]), <Column name='sigma_y' units=None format=None description=None>\n",
        "array([ -1.87738713e-12,   0.00000000e+00,  -9.30864923e-09,\n",
        "         0.00000000e+00,   0.00000000e+00,   0.00000000e+00,\n",
        "         0.00000000e+00,   0.00000000e+00,   0.00000000e+00,\n",
        "         0.00000000e+00,   0.00000000e+00,   0.00000000e+00,\n",
        "        -2.30098352e-06,   0.00000000e+00,   0.00000000e+00,\n",
        "         0.00000000e+00,  -3.33066907e-16,   0.00000000e+00,\n",
        "         0.00000000e+00,   0.00000000e+00]))\n",
        "(<Column name='sigma_y' units=None format=None description=None>\n",
        "array([ -2.85383972e-024,  -9.70674455e-055,  -3.95448590e-055,\n",
        "        -1.12686081e-141,  -1.05124255e-116,  -1.71249303e-031,\n",
        "        -7.16514379e-068,  -2.03755202e-266,  -2.85166691e-063,\n",
        "        -1.48909967e-141,  -4.54324357e-163,  -3.26571455e-067,\n",
        "        -2.51355369e-012,  -1.91886483e-080,  -1.16437306e-032,\n",
        "        -2.79579022e-028,  -3.25628026e-025,  -3.96512186e-038,\n",
        "        -1.62235050e-228,  -9.46611234e-054]), <Column name='sigma_y' units=None format=None description=None>\n",
        "array([             nan,  -3.70209267e-04,              nan,\n",
        "        -2.22044605e-16,  -1.24356294e-06,              nan,\n",
        "        -1.58066051e-03,  -3.33066907e-16,  -1.26747587e-02,\n",
        "        -1.96230747e-07,  -7.77872767e-10,  -1.16011855e-03,\n",
        "                    nan,  -4.16645738e-04,              nan,\n",
        "                    nan,              nan,  -1.67235680e+00,\n",
        "        -3.15303339e-14,  -2.81836305e-02]))\n",
        "(<Column name='sigma_y' units=None format=None description=None>\n",
        "array([ -5.79352580e-021,  -1.49213019e-042,  -1.02182984e-052,\n",
        "        -1.55193101e-104,  -1.09035903e-098,  -3.47070184e-027,\n",
        "        -1.11825741e-056,  -2.18914804e-226,  -6.36245378e-054,\n",
        "        -3.15443794e-121,  -2.49684866e-137,  -9.69068073e-056,\n",
        "        -4.27855077e-010,  -1.33580683e-067,  -1.80254126e-027,\n",
        "        -3.07024638e-023,  -5.23145621e-021,  -1.43763249e-032,\n",
        "        -1.71820507e-193,  -4.39045499e-045]), <Column name='sigma_y' units=None format=None description=None>\n",
        "array([ -4.22130420e-03,  -2.22044605e-16,  -9.28001970e-02,\n",
        "         0.00000000e+00,   0.00000000e+00,  -1.37416577e-04,\n",
        "        -7.66053887e-15,   0.00000000e+00,  -4.41624515e-12,\n",
        "         0.00000000e+00,   0.00000000e+00,  -2.88657986e-15,\n",
        "        -1.75443510e-01,   0.00000000e+00,  -6.28219754e-06,\n",
        "        -1.00109594e-05,  -1.82641095e-04,  -1.81147084e-06,\n",
        "         0.00000000e+00,  -4.40895098e-11]))\n",
        "(<Column name='sigma_y' units=None format=None description=None>\n",
        "array([  5.42499968e-024,   7.06313766e-062,   4.91200272e-054,\n",
        "         4.95239868e-170,   4.13575226e-128,   6.94948028e-032,\n",
        "         6.49790814e-074,   3.19984783e-295,   8.90559078e-068,\n",
        "         1.23320569e-154,   1.47936216e-180,   1.69996183e-073,\n",
        "         3.14197185e-011,   1.11295579e-087,   6.89277211e-034,\n",
        "         2.01290314e-029,   1.11015997e-025,   1.34723548e-039,\n",
        "         1.97499767e-253,   1.01639660e-057]), <Column name='sigma_y' units=None format=None description=None>\n",
        "array([-2.48181657,         nan, -0.44407455,         nan,         nan,\n",
        "               nan,         nan,         nan,         nan,         nan,\n",
        "               nan,         nan, -0.59242647,         nan,         nan,\n",
        "               nan,         nan,         nan,         nan,         nan]))"
       ]
      },
      {
       "ename": "ValueError",
       "evalue": "lnprob returned NaN.",
       "output_type": "pyerr",
       "traceback": [
        "\u001b[0;31m---------------------------------------------------------------------------\u001b[0m\n\u001b[0;31mValueError\u001b[0m                                Traceback (most recent call last)",
        "\u001b[0;32m<ipython-input-91-aa529f8592ed>\u001b[0m in \u001b[0;36m<module>\u001b[0;34m()\u001b[0m\n\u001b[1;32m      1\u001b[0m \u001b[0mp0\u001b[0m \u001b[0;34m=\u001b[0m \u001b[0mnp\u001b[0m\u001b[0;34m.\u001b[0m\u001b[0mrandom\u001b[0m\u001b[0;34m.\u001b[0m\u001b[0muniform\u001b[0m\u001b[0;34m(\u001b[0m\u001b[0msize\u001b[0m\u001b[0;34m=\u001b[0m\u001b[0;34m(\u001b[0m\u001b[0mnwalkers\u001b[0m\u001b[0;34m,\u001b[0m\u001b[0mdim\u001b[0m\u001b[0;34m)\u001b[0m\u001b[0;34m)\u001b[0m\u001b[0;34m\u001b[0m\u001b[0m\n\u001b[0;32m----> 2\u001b[0;31m \u001b[0msampler\u001b[0m\u001b[0;34m.\u001b[0m\u001b[0mrun_mcmc\u001b[0m\u001b[0;34m(\u001b[0m\u001b[0mp0\u001b[0m\u001b[0;34m,\u001b[0m \u001b[0;36m100\u001b[0m\u001b[0;34m)\u001b[0m\u001b[0;34m\u001b[0m\u001b[0m\n\u001b[0m",
        "\u001b[0;32m/Library/Python/2.7/site-packages/emcee-1.2.0-py2.7.egg/emcee/sampler.pyc\u001b[0m in \u001b[0;36mrun_mcmc\u001b[0;34m(self, pos0, N, rstate0, lnprob0, **kwargs)\u001b[0m\n\u001b[1;32m    159\u001b[0m         \"\"\"\n\u001b[1;32m    160\u001b[0m         for results in self.sample(pos0, lnprob0, rstate0, iterations=N,\n\u001b[0;32m--> 161\u001b[0;31m                 **kwargs):\n\u001b[0m\u001b[1;32m    162\u001b[0m             \u001b[0;32mpass\u001b[0m\u001b[0;34m\u001b[0m\u001b[0m\n\u001b[1;32m    163\u001b[0m         \u001b[0;32mreturn\u001b[0m \u001b[0mresults\u001b[0m\u001b[0;34m\u001b[0m\u001b[0m\n",
        "\u001b[0;32m/Library/Python/2.7/site-packages/emcee-1.2.0-py2.7.egg/emcee/ensemble.pyc\u001b[0m in \u001b[0;36msample\u001b[0;34m(self, p0, lnprob0, rstate0, blobs0, iterations, thin, storechain, mh_proposal)\u001b[0m\n\u001b[1;32m    243\u001b[0m                 \u001b[0;32mfor\u001b[0m \u001b[0mS0\u001b[0m\u001b[0;34m,\u001b[0m \u001b[0mS1\u001b[0m \u001b[0;32min\u001b[0m \u001b[0;34m[\u001b[0m\u001b[0;34m(\u001b[0m\u001b[0mfirst\u001b[0m\u001b[0;34m,\u001b[0m \u001b[0msecond\u001b[0m\u001b[0;34m)\u001b[0m\u001b[0;34m,\u001b[0m \u001b[0;34m(\u001b[0m\u001b[0msecond\u001b[0m\u001b[0;34m,\u001b[0m \u001b[0mfirst\u001b[0m\u001b[0;34m)\u001b[0m\u001b[0;34m]\u001b[0m\u001b[0;34m:\u001b[0m\u001b[0;34m\u001b[0m\u001b[0m\n\u001b[1;32m    244\u001b[0m                     q, newlnp, acc, blob = self._propose_stretch(p[S0], p[S1],\n\u001b[0;32m--> 245\u001b[0;31m                                                                  lnprob[S0])\n\u001b[0m\u001b[1;32m    246\u001b[0m                     \u001b[0;32mif\u001b[0m \u001b[0mnp\u001b[0m\u001b[0;34m.\u001b[0m\u001b[0many\u001b[0m\u001b[0;34m(\u001b[0m\u001b[0macc\u001b[0m\u001b[0;34m)\u001b[0m\u001b[0;34m:\u001b[0m\u001b[0;34m\u001b[0m\u001b[0m\n\u001b[1;32m    247\u001b[0m                         \u001b[0;31m# Update the positions, log probabilities and\u001b[0m\u001b[0;34m\u001b[0m\u001b[0;34m\u001b[0m\u001b[0m\n",
        "\u001b[0;32m/Library/Python/2.7/site-packages/emcee-1.2.0-py2.7.egg/emcee/ensemble.pyc\u001b[0m in \u001b[0;36m_propose_stretch\u001b[0;34m(self, p0, p1, lnprob0)\u001b[0m\n\u001b[1;32m    316\u001b[0m         \u001b[0;31m# Calculate the proposed positions and the log-probability there.\u001b[0m\u001b[0;34m\u001b[0m\u001b[0;34m\u001b[0m\u001b[0m\n\u001b[1;32m    317\u001b[0m         \u001b[0mq\u001b[0m \u001b[0;34m=\u001b[0m \u001b[0mc\u001b[0m\u001b[0;34m[\u001b[0m\u001b[0mrint\u001b[0m\u001b[0;34m]\u001b[0m \u001b[0;34m-\u001b[0m \u001b[0mzz\u001b[0m\u001b[0;34m[\u001b[0m\u001b[0;34m:\u001b[0m\u001b[0;34m,\u001b[0m \u001b[0mnp\u001b[0m\u001b[0;34m.\u001b[0m\u001b[0mnewaxis\u001b[0m\u001b[0;34m]\u001b[0m \u001b[0;34m*\u001b[0m \u001b[0;34m(\u001b[0m\u001b[0mc\u001b[0m\u001b[0;34m[\u001b[0m\u001b[0mrint\u001b[0m\u001b[0;34m]\u001b[0m \u001b[0;34m-\u001b[0m \u001b[0ms\u001b[0m\u001b[0;34m)\u001b[0m\u001b[0;34m\u001b[0m\u001b[0m\n\u001b[0;32m--> 318\u001b[0;31m         \u001b[0mnewlnprob\u001b[0m\u001b[0;34m,\u001b[0m \u001b[0mblob\u001b[0m \u001b[0;34m=\u001b[0m \u001b[0mself\u001b[0m\u001b[0;34m.\u001b[0m\u001b[0m_get_lnprob\u001b[0m\u001b[0;34m(\u001b[0m\u001b[0mq\u001b[0m\u001b[0;34m)\u001b[0m\u001b[0;34m\u001b[0m\u001b[0m\n\u001b[0m\u001b[1;32m    319\u001b[0m \u001b[0;34m\u001b[0m\u001b[0m\n\u001b[1;32m    320\u001b[0m         \u001b[0;31m# Decide whether or not the proposals should be accepted.\u001b[0m\u001b[0;34m\u001b[0m\u001b[0;34m\u001b[0m\u001b[0m\n",
        "\u001b[0;32m/Library/Python/2.7/site-packages/emcee-1.2.0-py2.7.egg/emcee/ensemble.pyc\u001b[0m in \u001b[0;36m_get_lnprob\u001b[0;34m(self, pos)\u001b[0m\n\u001b[1;32m    373\u001b[0m         \u001b[0;31m# Check for lnprob returning NaN.\u001b[0m\u001b[0;34m\u001b[0m\u001b[0;34m\u001b[0m\u001b[0m\n\u001b[1;32m    374\u001b[0m         \u001b[0;32mif\u001b[0m \u001b[0mnp\u001b[0m\u001b[0;34m.\u001b[0m\u001b[0many\u001b[0m\u001b[0;34m(\u001b[0m\u001b[0mnp\u001b[0m\u001b[0;34m.\u001b[0m\u001b[0misnan\u001b[0m\u001b[0;34m(\u001b[0m\u001b[0mlnprob\u001b[0m\u001b[0;34m)\u001b[0m\u001b[0;34m)\u001b[0m\u001b[0;34m:\u001b[0m\u001b[0;34m\u001b[0m\u001b[0m\n\u001b[0;32m--> 375\u001b[0;31m             \u001b[0;32mraise\u001b[0m \u001b[0mValueError\u001b[0m\u001b[0;34m(\u001b[0m\u001b[0;34m\"lnprob returned NaN.\"\u001b[0m\u001b[0;34m)\u001b[0m\u001b[0;34m\u001b[0m\u001b[0m\n\u001b[0m\u001b[1;32m    376\u001b[0m \u001b[0;34m\u001b[0m\u001b[0m\n\u001b[1;32m    377\u001b[0m         \u001b[0;32mreturn\u001b[0m \u001b[0mlnprob\u001b[0m\u001b[0;34m,\u001b[0m \u001b[0mblob\u001b[0m\u001b[0;34m\u001b[0m\u001b[0m\n",
        "\u001b[0;31mValueError\u001b[0m: lnprob returned NaN."
       ]
      },
      {
       "output_type": "stream",
       "stream": "stdout",
       "text": [
        "\n",
        "(<Column name='sigma_y' units=None format=None description=None>\n",
        "array([ -1.37628877e-012,  -1.45335255e-012,  -1.42662271e-046,\n",
        "        -4.11695493e-018,  -3.72625297e-047,  -6.19534023e-016,\n",
        "        -7.52795514e-026,  -4.16736082e-109,  -1.14210012e-027,\n",
        "        -6.38874639e-062,  -1.43791450e-063,  -1.92627770e-024,\n",
        "        -1.89802078e-005,  -8.84930114e-032,  -6.51389067e-014,\n",
        "        -1.35050506e-010,  -1.73721611e-010,  -1.27605348e-017,\n",
        "        -1.49830648e-091,  -1.78819895e-021]), <Column name='sigma_y' units=None format=None description=None>\n",
        "array([ -2.53075338e-11,   0.00000000e+00,  -1.01591406e-07,\n",
        "         0.00000000e+00,   0.00000000e+00,  -1.44328993e-15,\n",
        "         0.00000000e+00,   0.00000000e+00,   0.00000000e+00,\n",
        "         0.00000000e+00,   0.00000000e+00,   0.00000000e+00,\n",
        "        -5.08047452e-06,   0.00000000e+00,   0.00000000e+00,\n",
        "         0.00000000e+00,  -8.10462808e-15,   0.00000000e+00,\n",
        "         0.00000000e+00,   0.00000000e+00]))\n",
        "(<Column name='sigma_y' units=None format=None description=None>\n",
        "array([  5.28815598e-026,   4.06742831e-071,   2.10659816e-055,\n",
        "         4.99144043e-200,   2.92521023e-141,   8.05066292e-035,\n",
        "         5.65134228e-082,   0.00000000e+000,   2.38924806e-074,\n",
        "         1.60480428e-169,   1.00457426e-199,   8.06444875e-082,\n",
        "         1.67333857e-012,   4.14905357e-097,   2.19373445e-037,\n",
        "         7.19610797e-033,   1.94048298e-028,   2.25055048e-043,\n",
        "         2.34740115e-279,   6.56126575e-064]), <Column name='sigma_y' units=None format=None description=None>\n",
        "array([  4.84879588,  28.79354917,   2.79800988,  98.90500009,\n",
        "        42.42157556,   8.10913557,  25.02042656,          inf,\n",
        "        20.05415735,  49.1282522 ,  64.25194589,  25.9162861 ,\n",
        "         2.46902168,  30.17710416,   9.75974022,   9.57537661,\n",
        "         7.29378449,  10.73852986,  86.95291633,  18.85297219]))\n",
        "(<Column name='sigma_y' units=None format=None description=None>\n",
        "array([ -3.57872787e-014,  -2.23573772e-013,  -2.78366368e-048,\n",
        "        -3.04890789e-017,  -1.21006677e-046,  -1.96702574e-017,\n",
        "        -2.18911586e-026,  -2.49583824e-105,  -2.23819888e-028,\n",
        "        -5.34965903e-061,  -4.92845973e-062,  -5.58200934e-025,\n",
        "        -2.98063028e-007,  -4.25446319e-032,  -2.84554568e-015,\n",
        "        -4.96443232e-012,  -5.32690132e-012,  -6.64098058e-019,\n",
        "        -1.51106388e-088,  -2.29842107e-022]), <Column name='sigma_y' units=None format=None description=None>\n",
        "array([ -6.48461063e-10,   0.00000000e+00,  -3.00883809e-06,\n",
        "         0.00000000e+00,   0.00000000e+00,  -2.00950367e-14,\n",
        "         0.00000000e+00,   0.00000000e+00,   0.00000000e+00,\n",
        "         0.00000000e+00,   0.00000000e+00,   0.00000000e+00,\n",
        "        -2.19918423e-04,   0.00000000e+00,   0.00000000e+00,\n",
        "        -1.11022302e-16,  -1.69642078e-13,   0.00000000e+00,\n",
        "         0.00000000e+00,   0.00000000e+00]))\n",
        "\u001b[0;31mERROR\u001b[0m: ValueError: lnprob returned NaN. [emcee.ensemble]\n"
       ]
      }
     ],
     "prompt_number": 91
    },
    {
     "cell_type": "code",
     "collapsed": false,
     "input": [],
     "language": "python",
     "metadata": {},
     "outputs": []
    }
   ],
   "metadata": {}
  }
 ]
}