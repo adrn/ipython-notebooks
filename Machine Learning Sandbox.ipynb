{
 "metadata": {
  "name": "Machine Learning Sandbox"
 },
 "nbformat": 3,
 "nbformat_minor": 0,
 "worksheets": [
  {
   "cells": [
    {
     "cell_type": "heading",
     "level": 1,
     "metadata": {},
     "source": [
      "PCA"
     ]
    },
    {
     "cell_type": "markdown",
     "metadata": {},
     "source": [
      "I'm going to try to run PCA on a set of ~100 spectra from SDSS. The stars were targeted as Main Sequence - White Dwarf pairs so I'll see if I can recover average spectra in each or something..."
     ]
    },
    {
     "cell_type": "code",
     "collapsed": false,
     "input": [
      "import glob\n",
      "from astropy.io import fits\n",
      "from astropy.table import Table\n",
      "from scipy.interpolate import interp1d"
     ],
     "language": "python",
     "metadata": {},
     "outputs": []
    },
    {
     "cell_type": "code",
     "collapsed": false,
     "input": [
      "file_list = glob.glob(\"/Users/adrian/Downloads/mswd_spectra/*.fits\")\n",
      "\n",
      "len_spec = 4000\n",
      "all_data = np.zeros((len(file_list), len_spec))\n",
      "wvln_grid = flux_norm = None\n",
      "for ii,file in enumerate(file_list):\n",
      "    hdu = fits.open(file)[1]\n",
      "    \n",
      "    flux = hdu.data['flux']\n",
      "    loglam = hdu.data['loglam']\n",
      "    if wvln_grid == None:\n",
      "        wvln_grid = np.linspace(loglam.min()-0.1, loglam.max()+0.1, len_spec)\n",
      "\n",
      "    interp = interp1d(loglam, flux, fill_value=0., bounds_error=False)\n",
      "    flux = interp(wvln_grid)\n",
      "    \n",
      "    if flux_norm == None:\n",
      "        flux_norm = sum(flux)\n",
      "        #flux_norm = max(flux)\n",
      "        \n",
      "    all_data[ii] = flux*flux_norm/sum(flux)\n",
      "    #all_data[ii] = flux*flux_norm/max(flux)\n",
      "\n",
      "all_data = all_data[:,700:-700]"
     ],
     "language": "python",
     "metadata": {},
     "outputs": []
    },
    {
     "cell_type": "code",
     "collapsed": false,
     "input": [
      "A = all_data\n",
      "Amean = np.mean(A.T,axis=1)\n",
      "M = (A-Amean).T"
     ],
     "language": "python",
     "metadata": {},
     "outputs": []
    },
    {
     "cell_type": "code",
     "collapsed": false,
     "input": [
      "cov = np.cov(M)\n",
      "w, v = np.linalg.eig(cov)"
     ],
     "language": "python",
     "metadata": {},
     "outputs": []
    },
    {
     "cell_type": "code",
     "collapsed": false,
     "input": [
      "wvln = 10**wvln_grid[700:-700]"
     ],
     "language": "python",
     "metadata": {},
     "outputs": []
    },
    {
     "cell_type": "code",
     "collapsed": false,
     "input": [
      "for ii in range(3):\n",
      "    figure(figsize=(6,4))\n",
      "    plot(wvln, v[:,ii], drawstyle=\"step\")"
     ],
     "language": "python",
     "metadata": {},
     "outputs": []
    },
    {
     "cell_type": "code",
     "collapsed": false,
     "input": [
      "M.shape, v[:,:N_eig].shape"
     ],
     "language": "python",
     "metadata": {},
     "outputs": []
    },
    {
     "cell_type": "code",
     "collapsed": false,
     "input": [
      "print M_rescaled.shape"
     ],
     "language": "python",
     "metadata": {},
     "outputs": []
    },
    {
     "cell_type": "code",
     "collapsed": false,
     "input": [
      "N_eig = 10\n",
      "\n",
      "M_rescaled = np.dot(v[:,:N_eig].T, M).T\n",
      "A_proj = np.dot(v[:,:N_eig], M_rescaled.T).T + Amean\n",
      "\n",
      "for ii in [M_rescaled[:,0].argmax(), M_rescaled[:,0].argmin()]:\n",
      "    fig,axes = subplots(1,2,figsize=(8,4))\n",
      "    axes[0].plot(wvln, A[ii], color='k')\n",
      "    axes[0].plot(wvln, A_proj[ii], color='r')\n",
      "    axes[1].plot(M_rescaled[ii], color='k', marker='o', linestyle='none')"
     ],
     "language": "python",
     "metadata": {},
     "outputs": []
    },
    {
     "cell_type": "code",
     "collapsed": false,
     "input": [
      "for ii in range(M_rescaled.shape[0]):\n",
      "    plot(M_rescaled[ii], color='k', marker='.', linestyle='none', alpha=0.1)\n",
      "\n",
      "xlim(-1,3)"
     ],
     "language": "python",
     "metadata": {},
     "outputs": []
    },
    {
     "cell_type": "code",
     "collapsed": false,
     "input": [
      "fig,axes = subplots(3,3,figsize=(12,12))\n",
      "axes[0,0].scatter(M_rescaled[:,0], M_rescaled[:,1])\n",
      "axes[1,0].scatter(M_rescaled[:,0], M_rescaled[:,2])\n",
      "axes[2,0].scatter(M_rescaled[:,0], M_rescaled[:,3])\n",
      "\n",
      "axes[1,1].scatter(M_rescaled[:,1], M_rescaled[:,2])\n",
      "axes[2,1].scatter(M_rescaled[:,1], M_rescaled[:,3])\n",
      "\n",
      "axes[2,2].scatter(M_rescaled[:,2], M_rescaled[:,3])"
     ],
     "language": "python",
     "metadata": {},
     "outputs": []
    },
    {
     "cell_type": "heading",
     "level": 1,
     "metadata": {},
     "source": [
      "Clustering"
     ]
    },
    {
     "cell_type": "code",
     "collapsed": false,
     "input": [
      "data = None\n",
      "import astropy.units as u\n",
      "np.random.seed(420)"
     ],
     "language": "python",
     "metadata": {},
     "outputs": []
    },
    {
     "cell_type": "code",
     "collapsed": false,
     "input": [
      "def rot_matrix(theta):\n",
      "    a = theta.to(u.radian).value\n",
      "    return np.array([[np.cos(a), -np.sin(a)], [np.sin(a), np.cos(a)]])\n",
      "\n",
      "def derotate_matrix(cov):\n",
      "    eig_vals, eig_vecs = np.linalg.eig(cov)\n",
      "    x_stddev, y_stddev = np.sqrt(eig_vals)\n",
      "    y_vec = eig_vecs[:,0]\n",
      "    theta = np.arctan2(y_vec[1],y_vec[0])\n",
      "    return x_stddev, y_stddev, theta*u.radian"
     ],
     "language": "python",
     "metadata": {},
     "outputs": []
    },
    {
     "cell_type": "code",
     "collapsed": false,
     "input": [
      "Nclusters_true = 3\n",
      "pts_per_cluster = np.ones(Nclusters_true)*100\n",
      "for ii in range(Nclusters_true):\n",
      "    cov = np.array([[np.random.uniform(0.1,2.),0],[0., np.random.uniform(0.1,2.)]])**2.\n",
      "    theta = np.arccos(np.random.uniform(-1.,1.)) * u.radian\n",
      "    cov = cov.dot(rot_matrix(theta))\n",
      "    mu = np.random.uniform(0.,np.sqrt(Nclusters_true)*10., size=2)\n",
      "    \n",
      "    these_data = np.random.multivariate_normal(mean=mu, \n",
      "                                               cov=cov,\n",
      "                                               size=100)\n",
      "    \n",
      "    try:\n",
      "        data = np.vstack((data, these_data))\n",
      "    except:\n",
      "        data = these_data\n",
      "\n",
      "data = data.T"
     ],
     "language": "python",
     "metadata": {},
     "outputs": []
    },
    {
     "cell_type": "code",
     "collapsed": false,
     "input": [
      "figsize(6,6)\n",
      "scatter(data[0], data[1], marker='.', edgecolor='none')"
     ],
     "language": "python",
     "metadata": {},
     "outputs": []
    },
    {
     "cell_type": "heading",
     "level": 2,
     "metadata": {},
     "source": [
      "K-means"
     ]
    },
    {
     "cell_type": "code",
     "collapsed": false,
     "input": [
      "Nclusters = 3\n",
      "cluster_init_x = np.random.uniform(data[0].min(), data[0].max(), size=Nclusters)\n",
      "cluster_init_y = np.random.uniform(data[1].min(), data[1].max(), size=Nclusters)"
     ],
     "language": "python",
     "metadata": {},
     "outputs": []
    },
    {
     "cell_type": "code",
     "collapsed": false,
     "input": [
      "figsize(6,6)\n",
      "scatter(data[0], data[1], marker='.', edgecolor='none')\n",
      "scatter(cluster_init_x, cluster_init_y, color='r')"
     ],
     "language": "python",
     "metadata": {},
     "outputs": []
    },
    {
     "cell_type": "code",
     "collapsed": false,
     "input": [
      "cluster_distances = np.zeros((3,data.shape[1]))\n",
      "for ii in range(Nclusters):\n",
      "    dist = (data[0]-cluster_init_x[ii])**2 + (data[1]-cluster_init_y[ii])**2\n",
      "    cluster_distances[ii] = dist"
     ],
     "language": "python",
     "metadata": {},
     "outputs": []
    },
    {
     "cell_type": "code",
     "collapsed": false,
     "input": [
      "colors = 'gbcym'\n",
      "m_i = np.argmin(cluster_distances, axis=0)\n",
      "\n",
      "figsize(6,6)\n",
      "for ii in range(Nclusters):\n",
      "    idx = m_i == ii\n",
      "    scatter(data[0,idx], data[1,idx], marker='.', \n",
      "            edgecolor='none', color=colors[ii])\n",
      "\n",
      "scatter(cluster_init_x, cluster_init_y, color='r')"
     ],
     "language": "python",
     "metadata": {},
     "outputs": []
    },
    {
     "cell_type": "code",
     "collapsed": false,
     "input": [
      "def k_means(K, data):\n",
      "    cluster_x = np.random.uniform(data[0].min(), data[0].max(), size=K)\n",
      "    cluster_y = np.random.uniform(data[1].min(), data[1].max(), size=K)\n",
      "    \n",
      "    iter = 0\n",
      "    while True and iter < 1E3:\n",
      "        cluster_distances = np.zeros((3,data.shape[1]))\n",
      "        for ii in range(Nclusters):\n",
      "            dist = (data[0]-cluster_x[ii])**2 + (data[1]-cluster_y[ii])**2\n",
      "            cluster_distances[ii] = dist\n",
      "        \n",
      "        m_i = np.argmin(cluster_distances, axis=0)\n",
      "        \n",
      "        new_cluster_x = np.zeros_like(cluster_x)\n",
      "        new_cluster_y = np.zeros_like(cluster_y)\n",
      "        for ii in range(Nclusters):\n",
      "            idx = m_i == ii\n",
      "            new_cluster_x[ii] = np.mean(data[0,idx])\n",
      "            new_cluster_y[ii] = np.mean(data[1,idx])\n",
      "        \n",
      "        if sum((new_cluster_x-cluster_x)**2+(new_cluster_y-cluster_y)**2) < 0.01:\n",
      "            return new_cluster_x, new_cluster_y\n",
      "        \n",
      "        cluster_x = new_cluster_x\n",
      "        cluster_y = new_cluster_y\n",
      "        \n",
      "        iter += 1\n",
      "        \n",
      "    print(\"Didn't converge!\")\n",
      "    return new_cluster_x, new_cluster_y"
     ],
     "language": "python",
     "metadata": {},
     "outputs": []
    },
    {
     "cell_type": "code",
     "collapsed": false,
     "input": [
      "xx,yy = k_means(3, data)\n",
      "figsize(6,6)\n",
      "scatter(data[0], data[1], marker='.', edgecolor='none')\n",
      "scatter(xx, yy, color='r')"
     ],
     "language": "python",
     "metadata": {},
     "outputs": []
    },
    {
     "cell_type": "heading",
     "level": 2,
     "metadata": {},
     "source": [
      "Expectation Maximization"
     ]
    },
    {
     "cell_type": "markdown",
     "metadata": {},
     "source": [
      "I'll work with Gaussians for simplicity..."
     ]
    },
    {
     "cell_type": "code",
     "collapsed": false,
     "input": [
      "%load_ext cythonmagic"
     ],
     "language": "python",
     "metadata": {},
     "outputs": []
    },
    {
     "cell_type": "code",
     "collapsed": true,
     "input": [
      "%%cython\n",
      "import numpy as np\n",
      "cimport cython\n",
      "cimport numpy as np\n",
      "from libc.math cimport exp, sqrt, pow, log, erf\n",
      "\n",
      "DTYPE = np.float\n",
      "ctypedef np.float_t DTYPE_t\n",
      "\n",
      "@cython.cdivision(True)\n",
      "@cython.boundscheck(False)\n",
      "def gaussian2D(np.ndarray[DTYPE_t, ndim=1] mean not None,\n",
      "                   np.ndarray[DTYPE_t, ndim=2] cov not None,\n",
      "                   np.ndarray[DTYPE_t, ndim=2] data not None):\n",
      "    \n",
      "    # Assume mean and cov have correct/matching shapes...\n",
      "    cdef int Ndim = 2\n",
      "    cdef int Ndata = len(data)\n",
      "    cdef np.ndarray g = np.zeros(Ndata, dtype=DTYPE)\n",
      "    cdef float logA = -0.5 * pow(2.*np.pi,Ndim) * np.linalg.det(cov)\n",
      "    \n",
      "    for ii in range(Ndata):\n",
      "        quad_form = np.dot(data[ii].T-mean,np.dot(np.linalg.inv(cov), data[ii]-mean))\n",
      "        g[ii] = exp(-0.5 * quad_form + logA)\n",
      "        #g[ii] = -0.5 * quad_form + logA\n",
      "    \n",
      "    return g"
     ],
     "language": "python",
     "metadata": {},
     "outputs": []
    },
    {
     "cell_type": "code",
     "collapsed": false,
     "input": [
      "from matplotlib.patches import Ellipse\n",
      "\n",
      "x,y = np.mgrid[-2:4:25j, -2:4:25j]\n",
      "d = np.vstack((x.ravel(),y.ravel())).T\n",
      "\n",
      "cov = np.array([[1.,0.],[0.,0.2]]).dot(rot_matrix(35.*u.degree))\n",
      "H = gaussian2D(np.array([1.,1.]), cov, d)\n",
      "\n",
      "ells = [Ellipse(xy=[1,1.], width=2.35*1., height=2.35*np.sqrt(0.2), angle=-75)]\n",
      "\n",
      "fig = figure()\n",
      "ax = fig.add_subplot(111, aspect='equal')\n",
      "ax.imshow(H.reshape(x.shape), extent=[-2,4,4,-2])\n",
      "\n",
      "for e in ells:\n",
      "    ax.add_artist(e)\n",
      "    e.set_facecolor('none')\n",
      "\n",
      "ax.set_xlim(-2,4)\n",
      "ax.set_ylim(-2,4)"
     ],
     "language": "python",
     "metadata": {},
     "outputs": []
    },
    {
     "cell_type": "code",
     "collapsed": false,
     "input": [],
     "language": "python",
     "metadata": {},
     "outputs": []
    },
    {
     "cell_type": "code",
     "collapsed": false,
     "input": [
      "def expectation_maximization(K, data):\n",
      "    cluster_x = np.random.uniform(data[0].min(), data[0].max(), size=K)\n",
      "    cluster_y = np.random.uniform(data[1].min(), data[1].max(), size=K)\n",
      "    cluster_mean = np.vstack((cluster_x, cluster_y)).T\n",
      "    cluster_cov = np.repeat(np.array([[0.5,0.],[0.,0.5]])[np.newaxis], K, axis=0)\n",
      "    # cluster_mean[0] -> mean vector for cluster 0\n",
      "    \n",
      "    N = data.shape[1]\n",
      "    c_k = np.ones(K).astype(float) / K\n",
      "    \n",
      "    for iter in range(10):\n",
      "        \n",
      "        # E-step\n",
      "        denom = np.zeros(N)\n",
      "        for ll in range(K):\n",
      "            print(cluster_cov[ll])\n",
      "            denom += c_k[ll] * gaussian2D(cluster_mean[ll], \n",
      "                                          cluster_cov[ll], \n",
      "                                          data.T)\n",
      "        \n",
      "        a_ik = np.zeros((data.shape[1], K))\n",
      "        for kk in range(K):\n",
      "            a_ik[:,kk] = c_k[kk] * gaussian2D(cluster_mean[kk], \n",
      "                                              cluster_cov[kk], \n",
      "                                              data.T)\n",
      "            a_ik[:,kk] /= denom\n",
      "        \n",
      "        # M-step\n",
      "        new_cluster_mean = np.zeros_like(cluster_mean)\n",
      "        new_cluster_cov = np.zeros_like(cluster_cov)\n",
      "        for kk in range(K):\n",
      "            num = denom = 0.\n",
      "            for ii in range(N):\n",
      "                num += a_ik[ii,kk] * data.T[ii]\n",
      "                denom += a_ik[ii,kk]\n",
      "                \n",
      "            if denom == 0: print \"help\"\n",
      "            new_cluster_mean[kk] = num/denom\n",
      "            \n",
      "            for ii in range(N):\n",
      "                xx = (data.T[ii] - new_cluster_mean[kk])\n",
      "                new_cluster_cov[kk] += a_ik[ii,kk] * np.outer(xx, xx)\n",
      "            \n",
      "            new_cluster_cov[kk] /= denom\n",
      "        \n",
      "        fig,ax = subplots(1,1,figsize=(6,6))\n",
      "        ax.scatter(data[0], data[1], marker='.', edgecolor='none')\n",
      "        ax.scatter(cluster_mean[:,0], cluster_mean[:,1], color='r')\n",
      "        \n",
      "        for kk in range(K):\n",
      "            x_sig, y_sig, t = derotate_matrix(new_cluster_cov[kk])\n",
      "            ell = Ellipse(xy=new_cluster_mean[kk], \n",
      "                          width=2.35*x_sig, height=2.35*y_sig, \n",
      "                          angle=t.degree)\n",
      "            ax.add_artist(ell)\n",
      "            ell.set_facecolor(\"none\")\n",
      "        \n",
      "        ax.scatter(new_cluster_mean[:,0], new_cluster_mean[:,1], color='g')\n",
      "        \n",
      "        cluster_mean = new_cluster_mean\n",
      "        cluster_cov = new_cluster_cov\n",
      "        \n",
      "    return cluster_mean, cluster_cov"
     ],
     "language": "python",
     "metadata": {},
     "outputs": []
    },
    {
     "cell_type": "code",
     "collapsed": false,
     "input": [
      "mu,sig = expectation_maximization(3, data)\n",
      "print mu\n",
      "\n",
      "figsize(6,6)\n",
      "scatter(data[0], data[1], marker='.', edgecolor='none')\n",
      "scatter(mu[:,0], mu[:,1], marker='o', edgecolor='none', color='r')"
     ],
     "language": "python",
     "metadata": {},
     "outputs": []
    },
    {
     "cell_type": "heading",
     "level": 1,
     "metadata": {},
     "source": [
      "Text Modeling"
     ]
    },
    {
     "cell_type": "markdown",
     "metadata": {},
     "source": [
      "* Build a bigram model of my tweets\n",
      "* derp"
     ]
    },
    {
     "cell_type": "code",
     "collapsed": false,
     "input": [
      "import json, requests\n",
      "import string\n",
      "import re"
     ],
     "language": "python",
     "metadata": {},
     "outputs": [],
     "prompt_number": 2
    },
    {
     "cell_type": "code",
     "collapsed": false,
     "input": [
      "def tweets_from_user(username, num=None, include_rts=False):\n",
      "    url = \"https://api.twitter.com/1/statuses/user_timeline.json?\"\n",
      "    \n",
      "    if num is not None:\n",
      "        num_iter = (num // 200) + 1\n",
      "    else:\n",
      "        num_iter = 10\n",
      "    \n",
      "    all_output = []\n",
      "    max_id = None\n",
      "    for ii in range(num_iter):\n",
      "        params = dict(\n",
      "            include_entities='false',\n",
      "            include_rts=str(include_rts).lower(),\n",
      "            screen_name=username,\n",
      "            count=200,\n",
      "            max_id=max_id\n",
      "        )\n",
      "        \n",
      "        resp = requests.get(url=url, params=params)\n",
      "        binary = resp.content\n",
      "        output = json.loads(binary)  \n",
      "    \n",
      "        max_id = output[-1]['id']\n",
      "        all_output += output\n",
      "    \n",
      "    all_text = [x[\"text\"] for x in all_output]\n",
      "    \n",
      "    return all_text"
     ],
     "language": "python",
     "metadata": {},
     "outputs": [],
     "prompt_number": 5
    },
    {
     "cell_type": "code",
     "collapsed": false,
     "input": [
      "all_words = \" \".join(all_text)\n",
      "len(all_words)"
     ],
     "language": "python",
     "metadata": {},
     "outputs": []
    },
    {
     "cell_type": "code",
     "collapsed": false,
     "input": [
      "# JUST FOR TESTING\n",
      "#with open(\"/Users/adrian/Downloads/grimm.txt\") as f:\n",
      "#    all_words = f.read()"
     ],
     "language": "python",
     "metadata": {},
     "outputs": []
    },
    {
     "cell_type": "code",
     "collapsed": false,
     "input": [
      "cleaned_words = all_words\n",
      "for pmark in [\"!\",\".\",\"?\",\",\",\";\",\":\",\"'\",\"@\",\"-\"]:\n",
      "    cleaned_words = cleaned_words.replace(pmark, \"\")\n",
      "cleaned_words = cleaned_words.lower()\n",
      "\n",
      "cleaned_words = filter(lambda x: x in string.printable, cleaned_words)\n",
      "\n",
      "pattr = re.compile(\"http[\\/a-zA-Z0-9]*\")\n",
      "for link in pattr.findall(cleaned_words):\n",
      "    cleaned_words.replace(link, \"\")\n",
      "\n",
      "len(cleaned_words)"
     ],
     "language": "python",
     "metadata": {},
     "outputs": []
    },
    {
     "cell_type": "code",
     "collapsed": false,
     "input": [
      "list_words = cleaned_words.split()\n",
      "arr_words = np.array(list_words)\n",
      "unq_words = np.unique(list_words)\n",
      "\n",
      "H = np.zeros(len(unq_words))\n",
      "for ii,word in enumerate(unq_words):\n",
      "    H[ii] = list_words.count(word)"
     ],
     "language": "python",
     "metadata": {},
     "outputs": []
    },
    {
     "cell_type": "code",
     "collapsed": false,
     "input": [
      "idx = np.argsort(H)[::-1]\n",
      "unq_words[idx][:25]"
     ],
     "language": "python",
     "metadata": {},
     "outputs": []
    },
    {
     "cell_type": "heading",
     "level": 3,
     "metadata": {},
     "source": [
      "Unigram"
     ]
    },
    {
     "cell_type": "code",
     "collapsed": false,
     "input": [
      "from scipy.stats import rv_discrete"
     ],
     "language": "python",
     "metadata": {},
     "outputs": []
    },
    {
     "cell_type": "code",
     "collapsed": false,
     "input": [
      "xk = np.arange(len(H))\n",
      "pk = H.astype(float)/sum(H)\n",
      "unigram = rv_discrete(name='unigram', values=(xk,pk))\n",
      "\n",
      "figsize(6,4)\n",
      "#idx = np.argsort(unigram.pmf(xk))\n",
      "plot(sorted(unigram.pmf(xk), reverse=True), marker='.', linestyle='none')"
     ],
     "language": "python",
     "metadata": {},
     "outputs": []
    },
    {
     "cell_type": "code",
     "collapsed": false,
     "input": [
      "\" \".join(unq_words[unigram.rvs(size=15)])"
     ],
     "language": "python",
     "metadata": {},
     "outputs": []
    },
    {
     "cell_type": "heading",
     "level": 3,
     "metadata": {},
     "source": [
      "Bigram"
     ]
    },
    {
     "cell_type": "code",
     "collapsed": false,
     "input": [
      "multinomial_family = dict()\n",
      "for word in unq_words:\n",
      "    w, = np.where(arr_words == word)\n",
      "    \n",
      "    next_words = []\n",
      "    for ii in w:\n",
      "        try:\n",
      "            next_words.append(arr_words[ii+1])\n",
      "        except IndexError:\n",
      "            continue\n",
      "    \n",
      "    next_H = np.zeros(len(unq_words))\n",
      "    for ii,next_word in enumerate(unq_words):\n",
      "        next_H[ii] = next_words.count(next_word)\n",
      "    \n",
      "    xk = np.arange(len(next_H))\n",
      "    pk = next_H.astype(float)/sum(next_H)\n",
      "    multinomial_family[word] = rv_discrete(name='bigram_{0}'.format(word), \n",
      "                                           values=(xk,pk))"
     ],
     "language": "python",
     "metadata": {},
     "outputs": []
    },
    {
     "cell_type": "code",
     "collapsed": false,
     "input": [
      "first_word = unq_words[unigram.rvs(size=1)][0]\n",
      "this_word = first_word\n",
      "\n",
      "words = [first_word]\n",
      "for ii in range(15):\n",
      "    next_word = unq_words[multinomial_family[this_word].rvs(size=1)[0]]\n",
      "    words.append(next_word)\n",
      "    this_word = next_word"
     ],
     "language": "python",
     "metadata": {},
     "outputs": []
    },
    {
     "cell_type": "code",
     "collapsed": false,
     "input": [
      "\" \".join(words)"
     ],
     "language": "python",
     "metadata": {},
     "outputs": []
    },
    {
     "cell_type": "code",
     "collapsed": false,
     "input": [],
     "language": "python",
     "metadata": {},
     "outputs": []
    },
    {
     "cell_type": "heading",
     "level": 1,
     "metadata": {},
     "source": [
      "Exponential Family Models"
     ]
    },
    {
     "cell_type": "markdown",
     "metadata": {},
     "source": [
      "The MLE for a EFM is given by:\n",
      "\n",
      "$$\\hat{\\theta} = \\frac{1}{n}\\sum S(x_i)$$\n",
      "\n",
      "For a Gaussian:\n",
      "\n",
      "$$\\theta = \\left(\\begin{array}{cc} \n",
      "                 -\\frac{1}{2}\\Sigma^{-1} \\\\\\\\\n",
      "                 \\Sigma^{-1}\\mu\n",
      "                 \\end{array}\\right)$$\n",
      "\n",
      "and\n",
      "\n",
      "$$S(x) = \\left(\\begin{array}{c} xx^T\\\\\\\\ x \\end{array}\\right)$$\n",
      "\n",
      "so\n",
      "\n",
      "$$\\hat{\\theta}_1 = \\frac{1}{n}\\sum x_i x_i^T = -\\frac{1}{2}\\hat{\\Sigma}^{-1}$$\n",
      "\n",
      "$$\\hat{\\theta}_2 = \\frac{1}{n}\\sum x_i $$\n"
     ]
    },
    {
     "cell_type": "code",
     "collapsed": false,
     "input": [
      "x_i = np.random.multivariate_normal([5.,6.], cov=[[1.,0.4],[0.4,0.3]], size=1000)\n",
      "\n",
      "figsize(4,4)\n",
      "scatter(x_i[:,0], x_i[:,1])\n",
      "xlim(0,10)\n",
      "ylim(0,10)"
     ],
     "language": "python",
     "metadata": {},
     "outputs": []
    },
    {
     "cell_type": "code",
     "collapsed": false,
     "input": [
      "theta_2_ml = 1./len(x_i) * np.sum(x_i, axis=0)\n",
      "\n",
      "xixi = np.zeros((2,2))\n",
      "for ii in range(len(x_i)):\n",
      "    xixi += np.outer(x_i[ii]-theta_2_ml,x_i[ii]-theta_2_ml)\n",
      "\n",
      "theta_1_ml = 1./len(x_i) * xixi\n",
      "cov_ml = np.linalg.inv(-2.*theta_1_ml)\n",
      "\n",
      "print theta_1_ml, theta_2_ml"
     ],
     "language": "python",
     "metadata": {},
     "outputs": []
    },
    {
     "cell_type": "code",
     "collapsed": false,
     "input": [],
     "language": "python",
     "metadata": {},
     "outputs": []
    },
    {
     "cell_type": "heading",
     "level": 1,
     "metadata": {},
     "source": [
      "Markov Models"
     ]
    },
    {
     "cell_type": "markdown",
     "metadata": {},
     "source": [
      "PageRank"
     ]
    },
    {
     "cell_type": "code",
     "collapsed": false,
     "input": [],
     "language": "python",
     "metadata": {},
     "outputs": []
    },
    {
     "cell_type": "code",
     "collapsed": false,
     "input": [],
     "language": "python",
     "metadata": {},
     "outputs": []
    },
    {
     "cell_type": "heading",
     "level": 1,
     "metadata": {},
     "source": [
      "Hidden Markov Models"
     ]
    },
    {
     "cell_type": "markdown",
     "metadata": {},
     "source": [
      "dishonest casino"
     ]
    },
    {
     "cell_type": "code",
     "collapsed": false,
     "input": [
      "xk = np.arange(6)\n",
      "pk = np.ones(len(xk), dtype=float)/len(xk)\n",
      "fair = rv_discrete(name='fair', values=(xk,pk))\n",
      "\n",
      "pk = np.array([7,2,1,1,2,7.])/20.\n",
      "loaded = rv_discrete(name='fair', values=(xk,pk))\n",
      "\n",
      "Z = [fair,loaded]"
     ],
     "language": "python",
     "metadata": {},
     "outputs": []
    },
    {
     "cell_type": "code",
     "collapsed": false,
     "input": [
      "plot(xk, fair.pmf(xk), 'b-')\n",
      "plot(xk, loaded.pmf(xk), 'r-')\n",
      "ylim(0,0.5)"
     ],
     "language": "python",
     "metadata": {},
     "outputs": []
    },
    {
     "cell_type": "code",
     "collapsed": false,
     "input": [
      "def dishonest_casino(N, Z, Q_init, q):\n",
      "    Q = Q_init\n",
      "    x_n = []\n",
      "    Z_n = []\n",
      "    for ii in range(N):\n",
      "        x_n.append(Z[Q].rvs())\n",
      "        Z_n.append(Q)\n",
      "        if np.random.uniform() > q[Q,Q]:\n",
      "            Q = int(Q == 0)\n",
      "    \n",
      "    return Z_n, x_n"
     ],
     "language": "python",
     "metadata": {},
     "outputs": []
    },
    {
     "cell_type": "code",
     "collapsed": false,
     "input": [
      "q = np.array([[0.95, 0.05],[0.05, 0.95]])\n",
      "N = 300\n",
      "K = 2\n",
      "Q_init = int(np.random.uniform() > 0.5)\n",
      "Zn, xn = dishonest_casino(N, Z, Q_init, q)\n",
      "\n",
      "color = 'wk'\n",
      "for ii,ZZ in enumerate(Zn):\n",
      "    axvline(ii, color=color[ZZ])"
     ],
     "language": "python",
     "metadata": {},
     "outputs": []
    },
    {
     "cell_type": "heading",
     "level": 3,
     "metadata": {},
     "source": [
      "Filtering"
     ]
    },
    {
     "cell_type": "markdown",
     "metadata": {},
     "source": [
      "We know $Q_{init}$ and $\\textbf{q}$\n",
      "\n",
      "Data here is `xn`"
     ]
    },
    {
     "cell_type": "code",
     "collapsed": false,
     "input": [
      "Q_nk = np.zeros((N,K))\n",
      "Q_nk[0,:] = (np.arange(K) == Q_init).astype(float)\n",
      "\n",
      "a_nk = np.zeros_like(Q_nk)\n",
      "for ii in range(1,N):\n",
      "    for kk in range(K):\n",
      "        a_nk[ii,kk] = Z[kk].pk[xn[ii]] * sum(q[:,kk]*Q_nk[ii-1])\n",
      "    Q_nk[1:ii+1] = a_nk[1:ii+1] / np.sum(a_nk[1:ii+1], axis=1)[:,np.newaxis]"
     ],
     "language": "python",
     "metadata": {},
     "outputs": []
    },
    {
     "cell_type": "code",
     "collapsed": false,
     "input": [
      "color = 'wk'\n",
      "for ii,ZZ in enumerate(Zn):\n",
      "    axvline(ii, color=color[ZZ])\n",
      "\n",
      "plot(Q_nk[:,1], color='b')"
     ],
     "language": "python",
     "metadata": {},
     "outputs": []
    },
    {
     "cell_type": "heading",
     "level": 3,
     "metadata": {},
     "source": [
      "Smoothing"
     ]
    },
    {
     "cell_type": "code",
     "collapsed": false,
     "input": [
      "Q_nk_s = np.zeros((N,K))\n",
      "\n",
      "B_nk = np.zeros_like(Q_nk_s)\n",
      "B_nk[-1] = [0.5,0.5]\n",
      "\n",
      "for ii in range(N-2,-1,-1):\n",
      "    for kk in range(K):\n",
      "        for jj in range(K):\n",
      "            B_nk[ii,kk] += B_nk[ii+1,kk] * Z[jj].pk[xn[ii]] * q[kk,jj]\n",
      "        \n",
      "        Q_nk_s[ii,kk] = B_nk[ii+1,kk] * Q_nk[ii,kk] / \\\n",
      "                          sum(B_nk[ii+1] * Q_nk[ii])"
     ],
     "language": "python",
     "metadata": {},
     "outputs": []
    },
    {
     "cell_type": "code",
     "collapsed": false,
     "input": [
      "color = 'wk'\n",
      "for ii,ZZ in enumerate(Zn):\n",
      "    axvline(ii, color=color[ZZ])\n",
      "\n",
      "plot(Q_nk_s[:,1], color='b')"
     ],
     "language": "python",
     "metadata": {},
     "outputs": []
    },
    {
     "cell_type": "heading",
     "level": 1,
     "metadata": {},
     "source": [
      "Ising Model"
     ]
    },
    {
     "cell_type": "code",
     "collapsed": false,
     "input": [
      "size = 64\n",
      "beta = 1E3\n",
      "grid = 2*(np.random.uniform(size=(size,size)) > 0.5).astype(float)-1\n",
      "for ii in range(size):\n",
      "    for jj in range(size):\n",
      "        neighbors = []\n",
      "        for l,r in (ii-1,jj), (ii+1,jj), (ii,jj-1), (ii,jj+1):\n",
      "            if l >= 0 and l < size and r >= 0 and r < size:\n",
      "                neighbors.append(grid[l,r])\n",
      "        P_now = beta * grid[ii,jj] * sum(neighbors)\n",
      "        P_flip = beta * grid[ii,jj] * sum(neighbors)\n",
      "        \n",
      "        if (P_next - P_now) > 1:\n",
      "            grid[ii,jj] *= -1\n",
      "        elif (P_next - P_now) > np.log(np.random.uniform()):\n",
      "            grid[ii,jj] *= -1\n",
      "        else:\n",
      "            pass\n",
      "\n",
      "imshow(grid, cmap=cm.Greys, interpolation='nearest')"
     ],
     "language": "python",
     "metadata": {},
     "outputs": []
    },
    {
     "cell_type": "code",
     "collapsed": false,
     "input": [],
     "language": "python",
     "metadata": {},
     "outputs": []
    },
    {
     "cell_type": "heading",
     "level": 1,
     "metadata": {},
     "source": [
      "Information"
     ]
    },
    {
     "cell_type": "code",
     "collapsed": false,
     "input": [
      "def information_in(text, by=\"character\"):\n",
      "    if by == \"character\":\n",
      "        txt = nltk.Text(text)\n",
      "        fdist = nltk.FreqDist(ch.lower() for ch in txt \\\n",
      "                   if (ch.isalpha() and ch in string.printable) or ch == \" \")\n",
      "    elif by == \"word\":\n",
      "        fdist = nltk.FreqDist(word.lower() for word in \\\n",
      "                                nltk.word_tokenize(text))\n",
      "\n",
      "    #fdist.plot()\n",
      "    \n",
      "    letters = np.array(list(fdist.keys()))\n",
      "    p = np.array(list(fdist.viewvalues())).astype(float) / sum(list(fdist.viewvalues()))\n",
      "\n",
      "    idx = np.argsort(p)[::-1]\n",
      "    letters = letters[idx]\n",
      "    p = p[idx]\n",
      "    \n",
      "    total = 0\n",
      "    for ii in range(len(p)):\n",
      "        total += p[ii]*np.log(p[ii])\n",
      "\n",
      "    total *= -1.\n",
      "    print \"{0:.2f} bits/{1}\".format(total, by)\n",
      "    \n",
      "    return total"
     ],
     "language": "python",
     "metadata": {},
     "outputs": [],
     "prompt_number": 229
    },
    {
     "cell_type": "code",
     "collapsed": false,
     "input": [
      "all_tweets = tweets_from_user(\"astrodrian\", num=2000)"
     ],
     "language": "python",
     "metadata": {},
     "outputs": [],
     "prompt_number": 216
    },
    {
     "cell_type": "code",
     "collapsed": false,
     "input": [
      "print \"Tweets:\"\n",
      "information_in(\" \".join(all_tweets))\n",
      "information_in(\" \".join(all_tweets), by=\"word\")"
     ],
     "language": "python",
     "metadata": {},
     "outputs": [
      {
       "output_type": "stream",
       "stream": "stdout",
       "text": [
        "Tweets:\n"
       ]
      },
      {
       "output_type": "display_data",
       "png": "[encoded data removed]"
      },
      {
       "output_type": "stream",
       "stream": "stdout",
       "text": [
        "2.92 bits/character\n"
       ]
      },
      {
       "output_type": "display_data",
       "png": "[encoded data removed]"
      },
      {
       "output_type": "stream",
       "stream": "stdout",
       "text": [
        "6.42 bits/word\n"
       ]
      },
      {
       "output_type": "pyout",
       "prompt_number": 227,
       "text": [
        "6.416753300469261"
       ]
      }
     ],
     "prompt_number": 227
    },
    {
     "cell_type": "code",
     "collapsed": false,
     "input": [
      "with open(\"/Users/adrian/Downloads/shakespeare.txt\") as f:\n",
      "    text = f.read()\n",
      "\n",
      "print(\"Shakespeare\")\n",
      "information_in(text)\n",
      "information_in(text, by=\"word\")"
     ],
     "language": "python",
     "metadata": {},
     "outputs": [
      {
       "output_type": "stream",
       "stream": "stdout",
       "text": [
        "Shakespeare\n",
        "2.79 bits/character"
       ]
      },
      {
       "output_type": "stream",
       "stream": "stdout",
       "text": [
        "\n",
        "6.57 bits/word"
       ]
      },
      {
       "output_type": "stream",
       "stream": "stdout",
       "text": [
        "\n"
       ]
      },
      {
       "output_type": "pyout",
       "prompt_number": 230,
       "text": [
        "6.5741666308674604"
       ]
      }
     ],
     "prompt_number": 230
    },
    {
     "cell_type": "code",
     "collapsed": false,
     "input": [],
     "language": "python",
     "metadata": {},
     "outputs": []
    },
    {
     "cell_type": "heading",
     "level": 1,
     "metadata": {},
     "source": [
      "Text Models w/ NLTK"
     ]
    },
    {
     "cell_type": "markdown",
     "metadata": {},
     "source": [
      "Here I'll try my text models again, but using nltk..."
     ]
    },
    {
     "cell_type": "code",
     "collapsed": false,
     "input": [
      "import nltk"
     ],
     "language": "python",
     "metadata": {},
     "outputs": [],
     "prompt_number": 1
    },
    {
     "cell_type": "code",
     "collapsed": false,
     "input": [
      "all_tweets = tweets_from_user(\"seanmullins\", num=7000)"
     ],
     "language": "python",
     "metadata": {},
     "outputs": [],
     "prompt_number": 90
    },
    {
     "cell_type": "code",
     "collapsed": false,
     "input": [
      "all_words = \" \".join(all_tweets)\n",
      "cleaned_words = filter(lambda x: x in string.printable, all_words)\n",
      "\n",
      "# Remove links\n",
      "pattr = re.compile(\"http[\\/a-zA-Z0-9\\:\\\\\\.]*\")\n",
      "for link in pattr.findall(cleaned_words):\n",
      "    cleaned_words = cleaned_words.replace(link, \"\")\n",
      "\n",
      "for pmark in [\"!\",\".\",\"?\",\",\",\";\",\":\",\"'\",'\"',\"@\",\"-\", \"#\"]:\n",
      "    cleaned_words = cleaned_words.replace(pmark, \"\")\n",
      "cleaned_words = cleaned_words.lower()"
     ],
     "language": "python",
     "metadata": {},
     "outputs": [],
     "prompt_number": 91
    },
    {
     "cell_type": "code",
     "collapsed": false,
     "input": [
      "# USING THE BROTHERS GRIMM INSTEAD\n",
      "with open(\"/Users/adrian/Downloads/grimm.txt\") as f:\n",
      "    all_words = f.read()\n",
      "cleaned_words = all_words"
     ],
     "language": "python",
     "metadata": {},
     "outputs": [],
     "prompt_number": 135
    },
    {
     "cell_type": "code",
     "collapsed": false,
     "input": [
      "tokens = nltk.wordpunct_tokenize(cleaned_words)\n",
      "text = nltk.Text(tokens)\n",
      "words = [w.lower() for w in text]\n",
      "vocab = sorted(set(words))"
     ],
     "language": "python",
     "metadata": {},
     "outputs": [],
     "prompt_number": 211
    },
    {
     "cell_type": "code",
     "collapsed": false,
     "input": [
      "text."
     ],
     "language": "python",
     "metadata": {},
     "outputs": []
    },
    {
     "cell_type": "code",
     "collapsed": false,
     "input": [
      "ngram = nltk.NgramModel(4, words)"
     ],
     "language": "python",
     "metadata": {},
     "outputs": [],
     "prompt_number": 141
    },
    {
     "cell_type": "code",
     "collapsed": false,
     "input": [
      "\" \".join(ngram.generate(150, context=\"was very unruly .\".split()))"
     ],
     "language": "python",
     "metadata": {},
     "outputs": [
      {
       "output_type": "stream",
       "stream": "stderr",
       "text": [
        "/Library/Python/2.7/site-packages/nltk/probability.py:598: UserWarning: Probability distribution <SimpleGoodTuringProbDist based on 37 samples> sums to 0.9406560386950886; generate() is returning an arbitrary sample.\n",
        "  \" is returning an arbitrary sample.\" % (self, 1-p))\n",
        "/Library/Python/2.7/site-packages/nltk/probability.py:598: UserWarning: Probability distribution <SimpleGoodTuringProbDist based on 1 samples> sums to 0.44767709934463773; generate() is returning an arbitrary sample.\n",
        "  \" is returning an arbitrary sample.\" % (self, 1-p))\n",
        "/Library/Python/2.7/site-packages/nltk/probability.py:598: UserWarning: Probability distribution <SimpleGoodTuringProbDist based on 2 samples> sums to 0.8135019095439968; generate() is returning an arbitrary sample.\n",
        "  \" is returning an arbitrary sample.\" % (self, 1-p))\n",
        "/Library/Python/2.7/site-packages/nltk/probability.py:598: UserWarning: Probability distribution <SimpleGoodTuringProbDist based on 1 samples> sums to 0.7367599626632354; generate() is returning an arbitrary sample.\n",
        "  \" is returning an arbitrary sample.\" % (self, 1-p))\n",
        "/Library/Python/2.7/site-packages/nltk/probability.py:598: UserWarning: Probability distribution <SimpleGoodTuringProbDist based on 1 samples> sums to 0.7311230067227182; generate() is returning an arbitrary sample.\n",
        "  \" is returning an arbitrary sample.\" % (self, 1-p))\n",
        "/Library/Python/2.7/site-packages/nltk/probability.py:598: UserWarning: Probability distribution <SimpleGoodTuringProbDist based on 1 samples> sums to 0.935375089118254; generate() is returning an arbitrary sample.\n",
        "  \" is returning an arbitrary sample.\" % (self, 1-p))\n",
        "/Library/Python/2.7/site-packages/nltk/probability.py:598: UserWarning: Probability distribution <SimpleGoodTuringProbDist based on 1 samples> sums to 0.19114055342980008; generate() is returning an arbitrary sample.\n",
        "  \" is returning an arbitrary sample.\" % (self, 1-p))\n",
        "/Library/Python/2.7/site-packages/nltk/probability.py:598: UserWarning: Probability distribution <SimpleGoodTuringProbDist based on 17 samples> sums to 0.8378243135467515; generate() is returning an arbitrary sample.\n",
        "  \" is returning an arbitrary sample.\" % (self, 1-p))\n",
        "/Library/Python/2.7/site-packages/nltk/probability.py:598: UserWarning: Probability distribution <SimpleGoodTuringProbDist based on 2 samples> sums to 0.3037232995430851; generate() is returning an arbitrary sample.\n",
        "  \" is returning an arbitrary sample.\" % (self, 1-p))\n",
        "/Library/Python/2.7/site-packages/nltk/probability.py:598: UserWarning: Probability distribution <SimpleGoodTuringProbDist based on 1 samples> sums to 0.7128007182430893; generate() is returning an arbitrary sample.\n",
        "  \" is returning an arbitrary sample.\" % (self, 1-p))\n",
        "/Library/Python/2.7/site-packages/nltk/probability.py:598: UserWarning: Probability distribution <SimpleGoodTuringProbDist based on 1 samples> sums to 0.25483188000044243; generate() is returning an arbitrary sample.\n",
        "  \" is returning an arbitrary sample.\" % (self, 1-p))\n",
        "/Library/Python/2.7/site-packages/nltk/probability.py:598: UserWarning: Probability distribution <SimpleGoodTuringProbDist based on 1 samples> sums to 0.11801873663949103; generate() is returning an arbitrary sample.\n",
        "  \" is returning an arbitrary sample.\" % (self, 1-p))\n",
        "/Library/Python/2.7/site-packages/nltk/probability.py:598: UserWarning: Probability distribution <SimpleGoodTuringProbDist based on 1 samples> sums to 0.8312595372891493; generate() is returning an arbitrary sample.\n",
        "  \" is returning an arbitrary sample.\" % (self, 1-p))\n",
        "/Library/Python/2.7/site-packages/nltk/probability.py:598: UserWarning: Probability distribution <SimpleGoodTuringProbDist based on 1 samples> sums to 0.34982748426718346; generate() is returning an arbitrary sample.\n",
        "  \" is returning an arbitrary sample.\" % (self, 1-p))\n",
        "/Library/Python/2.7/site-packages/nltk/probability.py:598: UserWarning: Probability distribution <SimpleGoodTuringProbDist based on 1 samples> sums to 0.9435386666220044; generate() is returning an arbitrary sample.\n",
        "  \" is returning an arbitrary sample.\" % (self, 1-p))\n",
        "/Library/Python/2.7/site-packages/nltk/probability.py:598: UserWarning: Probability distribution <SimpleGoodTuringProbDist based on 1 samples> sums to 0.23120664559058512; generate() is returning an arbitrary sample.\n",
        "  \" is returning an arbitrary sample.\" % (self, 1-p))\n",
        "/Library/Python/2.7/site-packages/nltk/probability.py:598: UserWarning: Probability distribution <SimpleGoodTuringProbDist based on 5 samples> sums to 0.7229957479279556; generate() is returning an arbitrary sample.\n",
        "  \" is returning an arbitrary sample.\" % (self, 1-p))\n",
        "/Library/Python/2.7/site-packages/nltk/probability.py:598: UserWarning: Probability distribution <SimpleGoodTuringProbDist based on 1 samples> sums to 0.611720626021863; generate() is returning an arbitrary sample.\n",
        "  \" is returning an arbitrary sample.\" % (self, 1-p))\n",
        "/Library/Python/2.7/site-packages/nltk/probability.py:598: UserWarning: Probability distribution <SimpleGoodTuringProbDist based on 1 samples> sums to 0.268945944693893; generate() is returning an arbitrary sample.\n",
        "  \" is returning an arbitrary sample.\" % (self, 1-p))\n",
        "/Library/Python/2.7/site-packages/nltk/probability.py:598: UserWarning: Probability distribution <SimpleGoodTuringProbDist based on 3 samples> sums to 0.8661928499580647; generate() is returning an arbitrary sample.\n",
        "  \" is returning an arbitrary sample.\" % (self, 1-p))\n",
        "/Library/Python/2.7/site-packages/nltk/probability.py:598: UserWarning: Probability distribution <SimpleGoodTuringProbDist based on 1 samples> sums to 0.4358860138470283; generate() is returning an arbitrary sample.\n",
        "  \" is returning an arbitrary sample.\" % (self, 1-p))\n",
        "/Library/Python/2.7/site-packages/nltk/probability.py:598: UserWarning: Probability distribution <SimpleGoodTuringProbDist based on 1 samples> sums to 0.825436234597862; generate() is returning an arbitrary sample.\n",
        "  \" is returning an arbitrary sample.\" % (self, 1-p))\n",
        "/Library/Python/2.7/site-packages/nltk/probability.py:598: UserWarning: Probability distribution <SimpleGoodTuringProbDist based on 1 samples> sums to 0.9528272704734192; generate() is returning an arbitrary sample.\n",
        "  \" is returning an arbitrary sample.\" % (self, 1-p))\n",
        "/Library/Python/2.7/site-packages/nltk/probability.py:598: UserWarning: Probability distribution <SimpleGoodTuringProbDist based on 1 samples> sums to 0.9786658692423433; generate() is returning an arbitrary sample.\n",
        "  \" is returning an arbitrary sample.\" % (self, 1-p))\n",
        "/Library/Python/2.7/site-packages/nltk/probability.py:598: UserWarning: Probability distribution <SimpleGoodTuringProbDist based on 2 samples> sums to 0.9574878120672273; generate() is returning an arbitrary sample.\n",
        "  \" is returning an arbitrary sample.\" % (self, 1-p))\n",
        "/Library/Python/2.7/site-packages/nltk/probability.py:598: UserWarning: Probability distribution <SimpleGoodTuringProbDist based on 5 samples> sums to 0.2009166222869696; generate() is returning an arbitrary sample.\n",
        "  \" is returning an arbitrary sample.\" % (self, 1-p))\n",
        "/Library/Python/2.7/site-packages/nltk/probability.py:598: UserWarning: Probability distribution <SimpleGoodTuringProbDist based on 1 samples> sums to 0.966502700754211; generate() is returning an arbitrary sample.\n",
        "  \" is returning an arbitrary sample.\" % (self, 1-p))\n",
        "/Library/Python/2.7/site-packages/nltk/probability.py:598: UserWarning: Probability distribution <SimpleGoodTuringProbDist based on 1 samples> sums to 0.4563939707758804; generate() is returning an arbitrary sample.\n",
        "  \" is returning an arbitrary sample.\" % (self, 1-p))\n",
        "/Library/Python/2.7/site-packages/nltk/probability.py:598: UserWarning: Probability distribution <SimpleGoodTuringProbDist based on 1 samples> sums to 0.5228247203414427; generate() is returning an arbitrary sample.\n",
        "  \" is returning an arbitrary sample.\" % (self, 1-p))\n",
        "/Library/Python/2.7/site-packages/nltk/probability.py:598: UserWarning: Probability distribution <SimpleGoodTuringProbDist based on 1 samples> sums to 0.8312756649231319; generate() is returning an arbitrary sample.\n",
        "  \" is returning an arbitrary sample.\" % (self, 1-p))\n",
        "/Library/Python/2.7/site-packages/nltk/probability.py:598: UserWarning: Probability distribution <SimpleGoodTuringProbDist based on 1 samples> sums to 0.5222936828756544; generate() is returning an arbitrary sample.\n",
        "  \" is returning an arbitrary sample.\" % (self, 1-p))\n",
        "/Library/Python/2.7/site-packages/nltk/probability.py:598: UserWarning: Probability distribution <SimpleGoodTuringProbDist based on 1 samples> sums to 0.19962837676082035; generate() is returning an arbitrary sample.\n",
        "  \" is returning an arbitrary sample.\" % (self, 1-p))\n",
        "/Library/Python/2.7/site-packages/nltk/probability.py:598: UserWarning: Probability distribution <SimpleGoodTuringProbDist based on 5 samples> sums to 0.908073013021019; generate() is returning an arbitrary sample.\n",
        "  \" is returning an arbitrary sample.\" % (self, 1-p))\n",
        "/Library/Python/2.7/site-packages/nltk/probability.py:598: UserWarning: Probability distribution <SimpleGoodTuringProbDist based on 1 samples> sums to 0.664097900354449; generate() is returning an arbitrary sample.\n",
        "  \" is returning an arbitrary sample.\" % (self, 1-p))\n",
        "/Library/Python/2.7/site-packages/nltk/probability.py:598: UserWarning: Probability distribution <SimpleGoodTuringProbDist based on 1 samples> sums to 0.9141729537108706; generate() is returning an arbitrary sample.\n",
        "  \" is returning an arbitrary sample.\" % (self, 1-p))\n",
        "/Library/Python/2.7/site-packages/nltk/probability.py:598: UserWarning: Probability distribution <SimpleGoodTuringProbDist based on 1 samples> sums to 0.12243936192911642; generate() is returning an arbitrary sample.\n",
        "  \" is returning an arbitrary sample.\" % (self, 1-p))\n",
        "/Library/Python/2.7/site-packages/nltk/probability.py:598: UserWarning: Probability distribution <SimpleGoodTuringProbDist based on 1 samples> sums to 0.22313412850444947; generate() is returning an arbitrary sample.\n",
        "  \" is returning an arbitrary sample.\" % (self, 1-p))\n",
        "/Library/Python/2.7/site-packages/nltk/probability.py:598: UserWarning: Probability distribution <SimpleGoodTuringProbDist based on 1 samples> sums to 0.8086337750297966; generate() is returning an arbitrary sample.\n",
        "  \" is returning an arbitrary sample.\" % (self, 1-p))\n",
        "/Library/Python/2.7/site-packages/nltk/probability.py:598: UserWarning: Probability distribution <SimpleGoodTuringProbDist based on 10 samples> sums to 0.9621712295170061; generate() is returning an arbitrary sample.\n",
        "  \" is returning an arbitrary sample.\" % (self, 1-p))\n",
        "/Library/Python/2.7/site-packages/nltk/probability.py:598: UserWarning: Probability distribution <SimpleGoodTuringProbDist based on 1 samples> sums to 0.9817647393571953; generate() is returning an arbitrary sample.\n",
        "  \" is returning an arbitrary sample.\" % (self, 1-p))\n",
        "/Library/Python/2.7/site-packages/nltk/probability.py:598: UserWarning: Probability distribution <SimpleGoodTuringProbDist based on 1 samples> sums to 0.894136406734385; generate() is returning an arbitrary sample.\n",
        "  \" is returning an arbitrary sample.\" % (self, 1-p))\n",
        "/Library/Python/2.7/site-packages/nltk/probability.py:598: UserWarning: Probability distribution <SimpleGoodTuringProbDist based on 1 samples> sums to 0.14848078164686018; generate() is returning an arbitrary sample.\n",
        "  \" is returning an arbitrary sample.\" % (self, 1-p))\n",
        "/Library/Python/2.7/site-packages/nltk/probability.py:598: UserWarning: Probability distribution <SimpleGoodTuringProbDist based on 1 samples> sums to 0.4509194449815399; generate() is returning an arbitrary sample.\n",
        "  \" is returning an arbitrary sample.\" % (self, 1-p))\n",
        "/Library/Python/2.7/site-packages/nltk/probability.py:598: UserWarning: Probability distribution <SimpleGoodTuringProbDist based on 1 samples> sums to 0.7287571318582785; generate() is returning an arbitrary sample.\n",
        "  \" is returning an arbitrary sample.\" % (self, 1-p))\n",
        "/Library/Python/2.7/site-packages/nltk/probability.py:598: UserWarning: Probability distribution <SimpleGoodTuringProbDist based on 1 samples> sums to 0.5064745614529796; generate() is returning an arbitrary sample.\n",
        "  \" is returning an arbitrary sample.\" % (self, 1-p))\n",
        "/Library/Python/2.7/site-packages/nltk/probability.py:598: UserWarning: Probability distribution <SimpleGoodTuringProbDist based on 6 samples> sums to 0.37026743092181835; generate() is returning an arbitrary sample.\n",
        "  \" is returning an arbitrary sample.\" % (self, 1-p))\n",
        "/Library/Python/2.7/site-packages/nltk/probability.py:598: UserWarning: Probability distribution <SimpleGoodTuringProbDist based on 1 samples> sums to 0.5073750437518475; generate() is returning an arbitrary sample.\n",
        "  \" is returning an arbitrary sample.\" % (self, 1-p))\n",
        "/Library/Python/2.7/site-packages/nltk/probability.py:598: UserWarning: Probability distribution <SimpleGoodTuringProbDist based on 1 samples> sums to 0.8528934855140908; generate() is returning an arbitrary sample.\n",
        "  \" is returning an arbitrary sample.\" % (self, 1-p))\n",
        "/Library/Python/2.7/site-packages/nltk/probability.py:598: UserWarning: Probability distribution <SimpleGoodTuringProbDist based on 1 samples> sums to 0.013645747896140037; generate() is returning an arbitrary sample.\n",
        "  \" is returning an arbitrary sample.\" % (self, 1-p))\n",
        "/Library/Python/2.7/site-packages/nltk/probability.py:598: UserWarning: Probability distribution <SimpleGoodTuringProbDist based on 1 samples> sums to 0.49751052410630237; generate() is returning an arbitrary sample.\n",
        "  \" is returning an arbitrary sample.\" % (self, 1-p))\n",
        "/Library/Python/2.7/site-packages/nltk/probability.py:598: UserWarning: Probability distribution <SimpleGoodTuringProbDist based on 7 samples> sums to 0.8992618498503124; generate() is returning an arbitrary sample.\n",
        "  \" is returning an arbitrary sample.\" % (self, 1-p))\n",
        "/Library/Python/2.7/site-packages/nltk/probability.py:598: UserWarning: Probability distribution <SimpleGoodTuringProbDist based on 1 samples> sums to 0.5453053275312084; generate() is returning an arbitrary sample.\n",
        "  \" is returning an arbitrary sample.\" % (self, 1-p))\n",
        "/Library/Python/2.7/site-packages/nltk/probability.py:598: UserWarning: Probability distribution <SimpleGoodTuringProbDist based on 2 samples> sums to 0.6038643964377215; generate() is returning an arbitrary sample.\n",
        "  \" is returning an arbitrary sample.\" % (self, 1-p))\n",
        "/Library/Python/2.7/site-packages/nltk/probability.py:598: UserWarning: Probability distribution <SimpleGoodTuringProbDist based on 1 samples> sums to 0.05208854173969901; generate() is returning an arbitrary sample.\n",
        "  \" is returning an arbitrary sample.\" % (self, 1-p))\n",
        "/Library/Python/2.7/site-packages/nltk/probability.py:598: UserWarning: Probability distribution <SimpleGoodTuringProbDist based on 1 samples> sums to 0.17594047588275674; generate() is returning an arbitrary sample.\n",
        "  \" is returning an arbitrary sample.\" % (self, 1-p))\n",
        "/Library/Python/2.7/site-packages/nltk/probability.py:598: UserWarning: Probability distribution <SimpleGoodTuringProbDist based on 1 samples> sums to 0.921339094713475; generate() is returning an arbitrary sample.\n",
        "  \" is returning an arbitrary sample.\" % (self, 1-p))\n",
        "/Library/Python/2.7/site-packages/nltk/probability.py:598: UserWarning: Probability distribution <SimpleGoodTuringProbDist based on 1 samples> sums to 0.07493803326482629; generate() is returning an arbitrary sample.\n",
        "  \" is returning an arbitrary sample.\" % (self, 1-p))\n",
        "/Library/Python/2.7/site-packages/nltk/probability.py:598: UserWarning: Probability distribution <SimpleGoodTuringProbDist based on 1 samples> sums to 0.8888930813800848; generate() is returning an arbitrary sample.\n",
        "  \" is returning an arbitrary sample.\" % (self, 1-p))\n",
        "/Library/Python/2.7/site-packages/nltk/probability.py:598: UserWarning: Probability distribution <SimpleGoodTuringProbDist based on 1 samples> sums to 0.9856503936333677; generate() is returning an arbitrary sample.\n",
        "  \" is returning an arbitrary sample.\" % (self, 1-p))\n",
        "/Library/Python/2.7/site-packages/nltk/probability.py:598: UserWarning: Probability distribution <SimpleGoodTuringProbDist based on 1 samples> sums to 0.3811489830812089; generate() is returning an arbitrary sample.\n",
        "  \" is returning an arbitrary sample.\" % (self, 1-p))\n",
        "/Library/Python/2.7/site-packages/nltk/probability.py:598: UserWarning: Probability distribution <SimpleGoodTuringProbDist based on 10 samples> sums to 0.9199979884670345; generate() is returning an arbitrary sample.\n",
        "  \" is returning an arbitrary sample.\" % (self, 1-p))\n",
        "/Library/Python/2.7/site-packages/nltk/probability.py:598: UserWarning: Probability distribution <SimpleGoodTuringProbDist based on 1 samples> sums to 0.1019402571047161; generate() is returning an arbitrary sample.\n",
        "  \" is returning an arbitrary sample.\" % (self, 1-p))\n",
        "/Library/Python/2.7/site-packages/nltk/probability.py:598: UserWarning: Probability distribution <SimpleGoodTuringProbDist based on 55 samples> sums to 0.9597805884596179; generate() is returning an arbitrary sample.\n",
        "  \" is returning an arbitrary sample.\" % (self, 1-p))\n",
        "/Library/Python/2.7/site-packages/nltk/probability.py:598: UserWarning: Probability distribution <SimpleGoodTuringProbDist based on 1 samples> sums to 0.9631833534231213; generate() is returning an arbitrary sample.\n",
        "  \" is returning an arbitrary sample.\" % (self, 1-p))\n",
        "/Library/Python/2.7/site-packages/nltk/probability.py:598: UserWarning: Probability distribution <SimpleGoodTuringProbDist based on 1 samples> sums to 0.3701209596496746; generate() is returning an arbitrary sample.\n",
        "  \" is returning an arbitrary sample.\" % (self, 1-p))\n",
        "/Library/Python/2.7/site-packages/nltk/probability.py:598: UserWarning: Probability distribution <SimpleGoodTuringProbDist based on 1 samples> sums to 0.02520060788834244; generate() is returning an arbitrary sample.\n",
        "  \" is returning an arbitrary sample.\" % (self, 1-p))\n",
        "/Library/Python/2.7/site-packages/nltk/probability.py:598: UserWarning: Probability distribution <SimpleGoodTuringProbDist based on 1 samples> sums to 0.7867043803390127; generate() is returning an arbitrary sample.\n",
        "  \" is returning an arbitrary sample.\" % (self, 1-p))\n",
        "/Library/Python/2.7/site-packages/nltk/probability.py:598: UserWarning: Probability distribution <SimpleGoodTuringProbDist based on 17 samples> sums to 0.7872473903133888; generate() is returning an arbitrary sample.\n",
        "  \" is returning an arbitrary sample.\" % (self, 1-p))\n",
        "/Library/Python/2.7/site-packages/nltk/probability.py:598: UserWarning: Probability distribution <SimpleGoodTuringProbDist based on 1 samples> sums to 0.28554862780497947; generate() is returning an arbitrary sample.\n",
        "  \" is returning an arbitrary sample.\" % (self, 1-p))\n",
        "/Library/Python/2.7/site-packages/nltk/probability.py:598: UserWarning: Probability distribution <SimpleGoodTuringProbDist based on 2 samples> sums to 0.2889664198543458; generate() is returning an arbitrary sample.\n",
        "  \" is returning an arbitrary sample.\" % (self, 1-p))\n",
        "/Library/Python/2.7/site-packages/nltk/probability.py:598: UserWarning: Probability distribution <SimpleGoodTuringProbDist based on 1 samples> sums to 0.7256893151323588; generate() is returning an arbitrary sample.\n",
        "  \" is returning an arbitrary sample.\" % (self, 1-p))\n",
        "/Library/Python/2.7/site-packages/nltk/probability.py:598: UserWarning: Probability distribution <SimpleGoodTuringProbDist based on 1 samples> sums to 0.05146197711043787; generate() is returning an arbitrary sample.\n",
        "  \" is returning an arbitrary sample.\" % (self, 1-p))\n",
        "/Library/Python/2.7/site-packages/nltk/probability.py:598: UserWarning: Probability distribution <SimpleGoodTuringProbDist based on 1 samples> sums to 0.8646923563038083; generate() is returning an arbitrary sample.\n",
        "  \" is returning an arbitrary sample.\" % (self, 1-p))\n",
        "/Library/Python/2.7/site-packages/nltk/probability.py:598: UserWarning: Probability distribution <SimpleGoodTuringProbDist based on 2 samples> sums to 0.001724395206251783; generate() is returning an arbitrary sample.\n",
        "  \" is returning an arbitrary sample.\" % (self, 1-p))\n",
        "/Library/Python/2.7/site-packages/nltk/probability.py:598: UserWarning: Probability distribution <SimpleGoodTuringProbDist based on 3 samples> sums to 0.9594274411621175; generate() is returning an arbitrary sample.\n",
        "  \" is returning an arbitrary sample.\" % (self, 1-p))\n",
        "/Library/Python/2.7/site-packages/nltk/probability.py:598: UserWarning: Probability distribution <SimpleGoodTuringProbDist based on 1 samples> sums to 0.296727868949606; generate() is returning an arbitrary sample.\n",
        "  \" is returning an arbitrary sample.\" % (self, 1-p))\n",
        "/Library/Python/2.7/site-packages/nltk/probability.py:598: UserWarning: Probability distribution <SimpleGoodTuringProbDist based on 3 samples> sums to 0.31317374477857585; generate() is returning an arbitrary sample.\n",
        "  \" is returning an arbitrary sample.\" % (self, 1-p))\n",
        "/Library/Python/2.7/site-packages/nltk/probability.py:598: UserWarning: Probability distribution <SimpleGoodTuringProbDist based on 1 samples> sums to 0.7476787294372768; generate() is returning an arbitrary sample.\n",
        "  \" is returning an arbitrary sample.\" % (self, 1-p))\n",
        "/Library/Python/2.7/site-packages/nltk/probability.py:598: UserWarning: Probability distribution <SimpleGoodTuringProbDist based on 1 samples> sums to 0.3089904842572033; generate() is returning an arbitrary sample.\n",
        "  \" is returning an arbitrary sample.\" % (self, 1-p))\n",
        "/Library/Python/2.7/site-packages/nltk/probability.py:598: UserWarning: Probability distribution <SimpleGoodTuringProbDist based on 1 samples> sums to 0.4923184630197478; generate() is returning an arbitrary sample.\n",
        "  \" is returning an arbitrary sample.\" % (self, 1-p))\n",
        "/Library/Python/2.7/site-packages/nltk/probability.py:598: UserWarning: Probability distribution <SimpleGoodTuringProbDist based on 1 samples> sums to 0.5017010902264377; generate() is returning an arbitrary sample.\n",
        "  \" is returning an arbitrary sample.\" % (self, 1-p))\n",
        "/Library/Python/2.7/site-packages/nltk/probability.py:598: UserWarning: Probability distribution <SimpleGoodTuringProbDist based on 1 samples> sums to 0.16652025235726675; generate() is returning an arbitrary sample.\n",
        "  \" is returning an arbitrary sample.\" % (self, 1-p))\n",
        "/Library/Python/2.7/site-packages/nltk/probability.py:598: UserWarning: Probability distribution <SimpleGoodTuringProbDist based on 3 samples> sums to 0.5362641719094104; generate() is returning an arbitrary sample.\n",
        "  \" is returning an arbitrary sample.\" % (self, 1-p))\n",
        "/Library/Python/2.7/site-packages/nltk/probability.py:598: UserWarning: Probability distribution <SimpleGoodTuringProbDist based on 1 samples> sums to 0.9096742193715227; generate() is returning an arbitrary sample.\n",
        "  \" is returning an arbitrary sample.\" % (self, 1-p))\n",
        "/Library/Python/2.7/site-packages/nltk/probability.py:598: UserWarning: Probability distribution <SimpleGoodTuringProbDist based on 1 samples> sums to 0.5245006451340164; generate() is returning an arbitrary sample.\n",
        "  \" is returning an arbitrary sample.\" % (self, 1-p))\n",
        "/Library/Python/2.7/site-packages/nltk/probability.py:598: UserWarning: Probability distribution <SimpleGoodTuringProbDist based on 1 samples> sums to 0.4355776773397424; generate() is returning an arbitrary sample.\n",
        "  \" is returning an arbitrary sample.\" % (self, 1-p))\n",
        "/Library/Python/2.7/site-packages/nltk/probability.py:598: UserWarning: Probability distribution <SimpleGoodTuringProbDist based on 1 samples> sums to 0.5770096612263723; generate() is returning an arbitrary sample.\n",
        "  \" is returning an arbitrary sample.\" % (self, 1-p))\n",
        "/Library/Python/2.7/site-packages/nltk/probability.py:598: UserWarning: Probability distribution <SimpleGoodTuringProbDist based on 1 samples> sums to 0.8639823941125452; generate() is returning an arbitrary sample.\n",
        "  \" is returning an arbitrary sample.\" % (self, 1-p))\n",
        "/Library/Python/2.7/site-packages/nltk/probability.py:598: UserWarning: Probability distribution <SimpleGoodTuringProbDist based on 1 samples> sums to 0.005769515190845231; generate() is returning an arbitrary sample.\n",
        "  \" is returning an arbitrary sample.\" % (self, 1-p))\n",
        "/Library/Python/2.7/site-packages/nltk/probability.py:598: UserWarning: Probability distribution <SimpleGoodTuringProbDist based on 1 samples> sums to 0.5735186614898243; generate() is returning an arbitrary sample.\n",
        "  \" is returning an arbitrary sample.\" % (self, 1-p))\n",
        "/Library/Python/2.7/site-packages/nltk/probability.py:598: UserWarning: Probability distribution <SimpleGoodTuringProbDist based on 1 samples> sums to 0.7764919082852327; generate() is returning an arbitrary sample.\n",
        "  \" is returning an arbitrary sample.\" % (self, 1-p))\n",
        "/Library/Python/2.7/site-packages/nltk/probability.py:598: UserWarning: Probability distribution <SimpleGoodTuringProbDist based on 1 samples> sums to 0.2995498741706617; generate() is returning an arbitrary sample.\n",
        "  \" is returning an arbitrary sample.\" % (self, 1-p))\n",
        "/Library/Python/2.7/site-packages/nltk/probability.py:598: UserWarning: Probability distribution <SimpleGoodTuringProbDist based on 1 samples> sums to 0.7138887777708743; generate() is returning an arbitrary sample.\n",
        "  \" is returning an arbitrary sample.\" % (self, 1-p))\n",
        "/Library/Python/2.7/site-packages/nltk/probability.py:598: UserWarning: Probability distribution <SimpleGoodTuringProbDist based on 1 samples> sums to 0.32316151729489306; generate() is returning an arbitrary sample.\n",
        "  \" is returning an arbitrary sample.\" % (self, 1-p))\n",
        "/Library/Python/2.7/site-packages/nltk/probability.py:598: UserWarning: Probability distribution <SimpleGoodTuringProbDist based on 2 samples> sums to 0.6373261119171013; generate() is returning an arbitrary sample.\n",
        "  \" is returning an arbitrary sample.\" % (self, 1-p))\n",
        "/Library/Python/2.7/site-packages/nltk/probability.py:598: UserWarning: Probability distribution <SimpleGoodTuringProbDist based on 1 samples> sums to 0.8695570439816482; generate() is returning an arbitrary sample.\n",
        "  \" is returning an arbitrary sample.\" % (self, 1-p))\n",
        "/Library/Python/2.7/site-packages/nltk/probability.py:598: UserWarning: Probability distribution <SimpleGoodTuringProbDist based on 1 samples> sums to 0.7044015013197589; generate() is returning an arbitrary sample.\n",
        "  \" is returning an arbitrary sample.\" % (self, 1-p))\n",
        "/Library/Python/2.7/site-packages/nltk/probability.py:598: UserWarning: Probability distribution <SimpleGoodTuringProbDist based on 2 samples> sums to 0.9065850854821942; generate() is returning an arbitrary sample.\n",
        "  \" is returning an arbitrary sample.\" % (self, 1-p))\n",
        "/Library/Python/2.7/site-packages/nltk/probability.py:598: UserWarning: Probability distribution <SimpleGoodTuringProbDist based on 2 samples> sums to 0.8639960539710071; generate() is returning an arbitrary sample.\n",
        "  \" is returning an arbitrary sample.\" % (self, 1-p))\n",
        "/Library/Python/2.7/site-packages/nltk/probability.py:598: UserWarning: Probability distribution <SimpleGoodTuringProbDist based on 1 samples> sums to 0.6222133422798855; generate() is returning an arbitrary sample.\n",
        "  \" is returning an arbitrary sample.\" % (self, 1-p))\n",
        "/Library/Python/2.7/site-packages/nltk/probability.py:598: UserWarning: Probability distribution <SimpleGoodTuringProbDist based on 1 samples> sums to 0.17674495428149217; generate() is returning an arbitrary sample.\n",
        "  \" is returning an arbitrary sample.\" % (self, 1-p))\n",
        "/Library/Python/2.7/site-packages/nltk/probability.py:598: UserWarning: Probability distribution <SimpleGoodTuringProbDist based on 1 samples> sums to 0.41434825499566863; generate() is returning an arbitrary sample.\n",
        "  \" is returning an arbitrary sample.\" % (self, 1-p))\n",
        "/Library/Python/2.7/site-packages/nltk/probability.py:598: UserWarning: Probability distribution <SimpleGoodTuringProbDist based on 1 samples> sums to 0.8676730050018416; generate() is returning an arbitrary sample.\n",
        "  \" is returning an arbitrary sample.\" % (self, 1-p))\n",
        "/Library/Python/2.7/site-packages/nltk/probability.py:598: UserWarning: Probability distribution <SimpleGoodTuringProbDist based on 1 samples> sums to 0.46311047199162014; generate() is returning an arbitrary sample.\n",
        "  \" is returning an arbitrary sample.\" % (self, 1-p))\n",
        "/Library/Python/2.7/site-packages/nltk/probability.py:598: UserWarning: Probability distribution <SimpleGoodTuringProbDist based on 1 samples> sums to 0.05535518051530952; generate() is returning an arbitrary sample.\n",
        "  \" is returning an arbitrary sample.\" % (self, 1-p))\n",
        "/Library/Python/2.7/site-packages/nltk/probability.py:598: UserWarning: Probability distribution <SimpleGoodTuringProbDist based on 1 samples> sums to 0.852405134507287; generate() is returning an arbitrary sample.\n",
        "  \" is returning an arbitrary sample.\" % (self, 1-p))\n",
        "/Library/Python/2.7/site-packages/nltk/probability.py:598: UserWarning: Probability distribution <SimpleGoodTuringProbDist based on 2 samples> sums to 0.4277715799452555; generate() is returning an arbitrary sample.\n",
        "  \" is returning an arbitrary sample.\" % (self, 1-p))\n",
        "/Library/Python/2.7/site-packages/nltk/probability.py:598: UserWarning: Probability distribution <SimpleGoodTuringProbDist based on 1 samples> sums to 0.9319332628563705; generate() is returning an arbitrary sample.\n",
        "  \" is returning an arbitrary sample.\" % (self, 1-p))\n",
        "/Library/Python/2.7/site-packages/nltk/probability.py:598: UserWarning: Probability distribution <SimpleGoodTuringProbDist based on 19 samples> sums to 0.6583146400219256; generate() is returning an arbitrary sample.\n",
        "  \" is returning an arbitrary sample.\" % (self, 1-p))\n",
        "/Library/Python/2.7/site-packages/nltk/probability.py:598: UserWarning: Probability distribution <SimpleGoodTuringProbDist based on 1 samples> sums to 0.14651414058923484; generate() is returning an arbitrary sample.\n",
        "  \" is returning an arbitrary sample.\" % (self, 1-p))\n",
        "/Library/Python/2.7/site-packages/nltk/probability.py:598: UserWarning: Probability distribution <SimpleGoodTuringProbDist based on 1 samples> sums to 0.6542822811566397; generate() is returning an arbitrary sample.\n",
        "  \" is returning an arbitrary sample.\" % (self, 1-p))\n",
        "/Library/Python/2.7/site-packages/nltk/probability.py:598: UserWarning: Probability distribution <SimpleGoodTuringProbDist based on 2 samples> sums to 0.8089286259059663; generate() is returning an arbitrary sample.\n",
        "  \" is returning an arbitrary sample.\" % (self, 1-p))\n",
        "/Library/Python/2.7/site-packages/nltk/probability.py:598: UserWarning: Probability distribution <SimpleGoodTuringProbDist based on 1 samples> sums to 0.5043552672726458; generate() is returning an arbitrary sample.\n",
        "  \" is returning an arbitrary sample.\" % (self, 1-p))\n",
        "/Library/Python/2.7/site-packages/nltk/probability.py:598: UserWarning: Probability distribution <SimpleGoodTuringProbDist based on 1 samples> sums to 0.7506047981495072; generate() is returning an arbitrary sample.\n",
        "  \" is returning an arbitrary sample.\" % (self, 1-p))\n",
        "/Library/Python/2.7/site-packages/nltk/probability.py:598: UserWarning: Probability distribution <SimpleGoodTuringProbDist based on 1 samples> sums to 0.3999254249556665; generate() is returning an arbitrary sample.\n",
        "  \" is returning an arbitrary sample.\" % (self, 1-p))\n",
        "/Library/Python/2.7/site-packages/nltk/probability.py:598: UserWarning: Probability distribution <SimpleGoodTuringProbDist based on 5 samples> sums to 0.41646718840314567; generate() is returning an arbitrary sample.\n",
        "  \" is returning an arbitrary sample.\" % (self, 1-p))\n",
        "/Library/Python/2.7/site-packages/nltk/probability.py:598: UserWarning: Probability distribution <SimpleGoodTuringProbDist based on 2 samples> sums to 0.9019141138686122; generate() is returning an arbitrary sample.\n",
        "  \" is returning an arbitrary sample.\" % (self, 1-p))\n",
        "/Library/Python/2.7/site-packages/nltk/probability.py:598: UserWarning: Probability distribution <SimpleGoodTuringProbDist based on 1 samples> sums to 0.4299106548420645; generate() is returning an arbitrary sample.\n",
        "  \" is returning an arbitrary sample.\" % (self, 1-p))\n",
        "/Library/Python/2.7/site-packages/nltk/probability.py:598: UserWarning: Probability distribution <SimpleGoodTuringProbDist based on 212 samples> sums to 0.8584031057647921; generate() is returning an arbitrary sample.\n",
        "  \" is returning an arbitrary sample.\" % (self, 1-p))\n",
        "/Library/Python/2.7/site-packages/nltk/probability.py:598: UserWarning: Probability distribution <SimpleGoodTuringProbDist based on 1 samples> sums to 0.2776868387373208; generate() is returning an arbitrary sample.\n",
        "  \" is returning an arbitrary sample.\" % (self, 1-p))\n",
        "/Library/Python/2.7/site-packages/nltk/probability.py:598: UserWarning: Probability distribution <SimpleGoodTuringProbDist based on 1 samples> sums to 0.18801378110753575; generate() is returning an arbitrary sample.\n",
        "  \" is returning an arbitrary sample.\" % (self, 1-p))\n",
        "/Library/Python/2.7/site-packages/nltk/probability.py:598: UserWarning: Probability distribution <SimpleGoodTuringProbDist based on 1 samples> sums to 0.45665007874383945; generate() is returning an arbitrary sample.\n",
        "  \" is returning an arbitrary sample.\" % (self, 1-p))\n",
        "/Library/Python/2.7/site-packages/nltk/probability.py:598: UserWarning: Probability distribution <SimpleGoodTuringProbDist based on 1 samples> sums to 0.21840944028165765; generate() is returning an arbitrary sample.\n",
        "  \" is returning an arbitrary sample.\" % (self, 1-p))\n",
        "/Library/Python/2.7/site-packages/nltk/probability.py:598: UserWarning: Probability distribution <SimpleGoodTuringProbDist based on 1 samples> sums to 0.9608005170435129; generate() is returning an arbitrary sample.\n",
        "  \" is returning an arbitrary sample.\" % (self, 1-p))\n",
        "/Library/Python/2.7/site-packages/nltk/probability.py:598: UserWarning: Probability distribution <SimpleGoodTuringProbDist based on 1 samples> sums to 0.6388906449478507; generate() is returning an arbitrary sample.\n",
        "  \" is returning an arbitrary sample.\" % (self, 1-p))\n",
        "/Library/Python/2.7/site-packages/nltk/probability.py:598: UserWarning: Probability distribution <SimpleGoodTuringProbDist based on 10 samples> sums to 0.46418859833173576; generate() is returning an arbitrary sample.\n",
        "  \" is returning an arbitrary sample.\" % (self, 1-p))\n",
        "/Library/Python/2.7/site-packages/nltk/probability.py:598: UserWarning: Probability distribution <SimpleGoodTuringProbDist based on 1 samples> sums to 0.20980984257059865; generate() is returning an arbitrary sample.\n",
        "  \" is returning an arbitrary sample.\" % (self, 1-p))\n",
        "/Library/Python/2.7/site-packages/nltk/probability.py:598: UserWarning: Probability distribution <SimpleGoodTuringProbDist based on 1 samples> sums to 0.34260100429107776; generate() is returning an arbitrary sample.\n",
        "  \" is returning an arbitrary sample.\" % (self, 1-p))\n",
        "/Library/Python/2.7/site-packages/nltk/probability.py:598: UserWarning: Probability distribution <SimpleGoodTuringProbDist based on 1 samples> sums to 0.37545765249762564; generate() is returning an arbitrary sample.\n",
        "  \" is returning an arbitrary sample.\" % (self, 1-p))\n",
        "/Library/Python/2.7/site-packages/nltk/probability.py:598: UserWarning: Probability distribution <SimpleGoodTuringProbDist based on 1 samples> sums to 0.8400260715246398; generate() is returning an arbitrary sample.\n",
        "  \" is returning an arbitrary sample.\" % (self, 1-p))\n",
        "/Library/Python/2.7/site-packages/nltk/probability.py:598: UserWarning: Probability distribution <SimpleGoodTuringProbDist based on 1 samples> sums to 0.9927812290275083; generate() is returning an arbitrary sample.\n",
        "  \" is returning an arbitrary sample.\" % (self, 1-p))\n",
        "/Library/Python/2.7/site-packages/nltk/probability.py:598: UserWarning: Probability distribution <SimpleGoodTuringProbDist based on 1 samples> sums to 0.37655110388470747; generate() is returning an arbitrary sample.\n",
        "  \" is returning an arbitrary sample.\" % (self, 1-p))\n"
       ]
      },
      {
       "output_type": "pyout",
       "prompt_number": 143,
       "text": [
        "\"was very unruly . then she told him her story , and as she spoke she handed her the spindle which she had given him a sleeping draught with their wine , and before another month had passed she had a golden ball in her hand , which was so charming that he stood still and stared at them . ' why , what should make me down - hearted ?' said he . but the fish said , ' take care of it , dear child ? stay with me ; you shall eat yourself full .' he led him by dark passages to a smith ' s forge , took an axe , and with these words the bride drew forth the finger and sat down once more to weep ; but the wolf said : ' pull off my boots ,' and then she grew sad and ill . a little\""
       ]
      }
     ],
     "prompt_number": 143
    },
    {
     "cell_type": "code",
     "collapsed": false,
     "input": [],
     "language": "python",
     "metadata": {},
     "outputs": []
    },
    {
     "cell_type": "markdown",
     "metadata": {},
     "source": [
      "# Brother's Grimm 2.0\n",
      "When the man awoke and found herself in a beautiful meadow, full of joy in their boat towards the ship; and I only wish that you and I had been of the party. Soon afterwards a burning coal from the fire leapt down to the cellar for the ale. So she said nothing to her maid, 'pray run as fast as you can, and I'll behave well.' 'Goodbye, mother.' 'Behave well, hans.' 'Oh,' answered the cat. 'Half - done!' answered the other, though it was very unruly. Then she told him her story, and as she spoke she handed her the spindle which she had given him a sleeping draught with their wine, and before another month had passed she had a golden ball in her hand, which was so charming that he stood still and stared at them. 'Why, what should make me down-hearted?' said he. But the fish said 'take care of it, dear child. Stay with me; you shall eat yourself full.' He led him by dark passages to a smith's forge, took an axe, and with these words the bride drew forth the finger and sat down once more to weep; but the wolf said: 'pull off my boots,' and then she grew sad and ill."
     ]
    },
    {
     "cell_type": "code",
     "collapsed": false,
     "input": [
      "how do your people put out a fire we sue it well thats a good bruise"
     ],
     "language": "python",
     "metadata": {},
     "outputs": []
    }
   ],
   "metadata": {}
  }
 ]
}