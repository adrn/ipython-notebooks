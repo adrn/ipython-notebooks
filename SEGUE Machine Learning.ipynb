{
 "metadata": {
  "name": "",
  "signature": "sha256:23d7be744f4ea3d3d34a76120f6aa96f7497e0c3c82f83c2cb952964ce45c740"
 },
 "nbformat": 3,
 "nbformat_minor": 0,
 "worksheets": [
  {
   "cells": [
    {
     "cell_type": "code",
     "collapsed": false,
     "input": [
      "import copy\n",
      "from collections import Counter\n",
      "\n",
      "from astropy.io import fits\n",
      "from astropy.table import Table\n",
      "import numpy as np"
     ],
     "language": "python",
     "metadata": {},
     "outputs": [],
     "prompt_number": 4
    },
    {
     "cell_type": "code",
     "collapsed": false,
     "input": [
      "catalog_file = \"/Users/adrian/projects/segue-learn/data/ssppOut-dr9.fits\""
     ],
     "language": "python",
     "metadata": {},
     "outputs": [],
     "prompt_number": 5
    },
    {
     "cell_type": "code",
     "collapsed": false,
     "input": [
      "hdulist = fits.open(catalog_file, memmap=True)\n",
      "catalog = hdulist[1].data"
     ],
     "language": "python",
     "metadata": {},
     "outputs": [],
     "prompt_number": 6
    },
    {
     "cell_type": "code",
     "collapsed": false,
     "input": [
      "len(catalog)"
     ],
     "language": "python",
     "metadata": {},
     "outputs": [
      {
       "metadata": {},
       "output_type": "pyout",
       "prompt_number": 7,
       "text": [
        "1843200"
       ]
      }
     ],
     "prompt_number": 7
    },
    {
     "cell_type": "code",
     "collapsed": false,
     "input": [
      "len(catalog.dtype.names)"
     ],
     "language": "python",
     "metadata": {},
     "outputs": [
      {
       "metadata": {},
       "output_type": "pyout",
       "prompt_number": 8,
       "text": [
        "239"
       ]
      }
     ],
     "prompt_number": 8
    },
    {
     "cell_type": "markdown",
     "metadata": {},
     "source": [
      "-------\n",
      "\n",
      "First I'm going to select a subset of the data to play around with..."
     ]
    },
    {
     "cell_type": "code",
     "collapsed": false,
     "input": [
      "subset = Table(catalog[:50000])\n",
      "\n",
      "# Clean up string fields\n",
      "subset[\"SPECTYPE_SUBCLASS\"] = [x.strip() for x in subset[\"SPECTYPE_SUBCLASS\"]]\n",
      "subset[\"SPECTYPE_HAMMER\"] = [x.strip() for x in subset[\"SPECTYPE_HAMMER\"]]"
     ],
     "language": "python",
     "metadata": {},
     "outputs": [],
     "prompt_number": 60
    },
    {
     "cell_type": "markdown",
     "metadata": {},
     "source": [
      "Now I want to extract out the training data: objects that have spectral classifications"
     ]
    },
    {
     "cell_type": "code",
     "collapsed": false,
     "input": [
      "training_idx = subset[\"SPECTYPE_SUBCLASS\"] != '00'\n",
      "for key,val in Counter(training_data[\"SPECTYPE_SUBCLASS\"]).items():\n",
      "    if val < 5:\n",
      "        training_idx = training_idx & (subset[\"SPECTYPE_SUBCLASS\"] != key)\n",
      "   \n",
      "training_data = subset[training_idx]\n",
      "unknown_data = subset[np.logical_not(training_idx)]\n",
      "print len(training_data), len(unknown_data)"
     ],
     "language": "python",
     "metadata": {},
     "outputs": [
      {
       "output_type": "stream",
       "stream": "stdout",
       "text": [
        "25866 24134\n"
       ]
      }
     ],
     "prompt_number": 66
    },
    {
     "cell_type": "code",
     "collapsed": false,
     "input": [
      "num_classes = len(np.unique(training_data[\"SPECTYPE_SUBCLASS\"]))\n",
      "\n",
      "y_ = training_data[\"SPECTYPE_SUBCLASS\"].copy()\n",
      "y = np.zeros_like(y_)\n",
      "for ii,class_name in enumerate(np.unique(y_)):\n",
      "    y[y_ == class_name] = ii\n",
      "\n",
      "# Clean up the data -- remove string columns, columns with a lot of bad data\n",
      "X_ = np.array(training_data)\n",
      "ii = 0\n",
      "good_columns = dict()\n",
      "for d in X_.dtype.names:\n",
      "    if issubclass(X_.dtype[d].type, np.str) or issubclass(X_.dtype[d].type, np.integer):\n",
      "        continue\n",
      "    \n",
      "    good_columns[d] = ii\n",
      "    ii += 1\n",
      "\n",
      "X = np.zeros((len(training_data),len(good_columns)), dtype=float)\n",
      "for name,index in good_columns.items():\n",
      "    X[:,index] = X_[name]\n",
      "    X[:,index][np.isnan(X_[name])] = 0.\n",
      "    \n",
      "#X = np.array(X)\n",
      "#X = X.view(np.float64).reshape(X.shape + (-1,))\n",
      "#y = np.array(y)\n",
      "\n",
      "#print X.shape, y.shape"
     ],
     "language": "python",
     "metadata": {},
     "outputs": [],
     "prompt_number": 225
    },
    {
     "cell_type": "code",
     "collapsed": false,
     "input": [
      "X.shape"
     ],
     "language": "python",
     "metadata": {},
     "outputs": [
      {
       "metadata": {},
       "output_type": "pyout",
       "prompt_number": 226,
       "text": [
        "(25866, 153)"
       ]
      }
     ],
     "prompt_number": 226
    },
    {
     "cell_type": "code",
     "collapsed": false,
     "input": [
      "gmm = mixture.GMM(n_components=50, covariance_type=\"full\")\n",
      "gmm.fit(X)"
     ],
     "language": "python",
     "metadata": {},
     "outputs": [
      {
       "metadata": {},
       "output_type": "pyout",
       "prompt_number": 227,
       "text": [
        "GMM(covariance_type=None, init_params='wmc', min_covar=0.001, n_components=50,\n",
        "  n_init=1, n_iter=100, params='wmc', random_state=None, thresh=0.01)"
       ]
      }
     ],
     "prompt_number": 227
    },
    {
     "cell_type": "code",
     "collapsed": false,
     "input": [
      "gmm.bic(X)"
     ],
     "language": "python",
     "metadata": {},
     "outputs": [
      {
       "metadata": {},
       "output_type": "pyout",
       "prompt_number": 228,
       "text": [
        "6501859.5069804089"
       ]
      }
     ],
     "prompt_number": 228
    },
    {
     "cell_type": "code",
     "collapsed": false,
     "input": [
      "Y_ = gmm.predict(X)"
     ],
     "language": "python",
     "metadata": {},
     "outputs": [],
     "prompt_number": 229
    },
    {
     "cell_type": "code",
     "collapsed": false,
     "input": [
      "sorted(good_columns.keys())"
     ],
     "language": "python",
     "metadata": {},
     "outputs": [
      {
       "metadata": {},
       "output_type": "pyout",
       "prompt_number": 213,
       "text": [
        "['ACF1',\n",
        " 'ACF1_SNR',\n",
        " 'ACF2',\n",
        " 'ACF2_SNR',\n",
        " 'AFE',\n",
        " 'AFE_UNC',\n",
        " 'B',\n",
        " 'BV',\n",
        " 'BV_BALMER',\n",
        " 'CC_CAHK',\n",
        " 'CC_MGH',\n",
        " 'DEC',\n",
        " 'DIST_ADOP',\n",
        " 'DIST_AGB',\n",
        " 'DIST_AP',\n",
        " 'DIST_DWARF',\n",
        " 'DIST_FHB',\n",
        " 'DIST_GIANT',\n",
        " 'DIST_TO',\n",
        " 'DIST_Z',\n",
        " 'EBV',\n",
        " 'ELODIERVFINAL',\n",
        " 'ELODIERVFINALERR',\n",
        " 'FEH_ACF',\n",
        " 'FEH_ACF_UNC',\n",
        " 'FEH_ADOP',\n",
        " 'FEH_ADOP_UNC',\n",
        " 'FEH_ANNRR',\n",
        " 'FEH_ANNRR_UNC',\n",
        " 'FEH_ANNSR',\n",
        " 'FEH_ANNSR_UNC',\n",
        " 'FEH_CAIIK1',\n",
        " 'FEH_CAIIK1_IRFM',\n",
        " 'FEH_CAIIK1_IRFM_UNC',\n",
        " 'FEH_CAIIK1_UNC',\n",
        " 'FEH_CAIIK2',\n",
        " 'FEH_CAIIK2_UNC',\n",
        " 'FEH_CAIIK3',\n",
        " 'FEH_CAIIK3_UNC',\n",
        " 'FEH_CAIIT',\n",
        " 'FEH_CAIIT_UNC',\n",
        " 'FEH_K24',\n",
        " 'FEH_K24_UNC',\n",
        " 'FEH_KI13',\n",
        " 'FEH_KI13_UNC',\n",
        " 'FEH_NGS1',\n",
        " 'FEH_NGS1_IRFM',\n",
        " 'FEH_NGS1_IRFM_UNC',\n",
        " 'FEH_NGS1_UNC',\n",
        " 'FEH_NGS2',\n",
        " 'FEH_NGS2_UNC',\n",
        " 'FEH_SPEC',\n",
        " 'FEH_SPEC_UNC',\n",
        " 'FEH_TFIX_CAIIK1',\n",
        " 'FEH_TFIX_CAIIK1_UNC',\n",
        " 'FEH_TFIX_NGS1',\n",
        " 'FEH_TFIX_NGS1_UNC',\n",
        " 'FEH_TFIX_NGS2',\n",
        " 'FEH_TFIX_NGS2_UNC',\n",
        " 'FEH_WBG',\n",
        " 'FEH_WBG_UNC',\n",
        " 'GR',\n",
        " 'GR_HA24',\n",
        " 'GR_HD24',\n",
        " 'GR_HP',\n",
        " 'GR_PREDICT',\n",
        " 'G_MAG',\n",
        " 'G_MAG_UNC',\n",
        " 'IZ',\n",
        " 'I_MAG_UNC',\n",
        " 'L',\n",
        " 'LOGG_ADOP',\n",
        " 'LOGG_ADOP_UNC',\n",
        " 'LOGG_ANNRR',\n",
        " 'LOGG_ANNRR_UNC',\n",
        " 'LOGG_ANNSR',\n",
        " 'LOGG_ANNSR_UNC',\n",
        " 'LOGG_CAI1',\n",
        " 'LOGG_CAI1_IRFM',\n",
        " 'LOGG_CAI1_IRFM_UNC',\n",
        " 'LOGG_CAI1_UNC',\n",
        " 'LOGG_CAI2',\n",
        " 'LOGG_CAI2_UNC',\n",
        " 'LOGG_K24',\n",
        " 'LOGG_K24_UNC',\n",
        " 'LOGG_KI13',\n",
        " 'LOGG_KI13_UNC',\n",
        " 'LOGG_MGH',\n",
        " 'LOGG_MGH_UNC',\n",
        " 'LOGG_NGS1',\n",
        " 'LOGG_NGS1_IRFM',\n",
        " 'LOGG_NGS1_IRFM_UNC',\n",
        " 'LOGG_NGS1_UNC',\n",
        " 'LOGG_NGS2',\n",
        " 'LOGG_NGS2_UNC',\n",
        " 'LOGG_SPEC',\n",
        " 'LOGG_SPEC_UNC',\n",
        " 'LOGG_TFIX_NGS1',\n",
        " 'LOGG_TFIX_NGS1_UNC',\n",
        " 'LOGG_TFIX_NGS2',\n",
        " 'LOGG_TFIX_NGS2_UNC',\n",
        " 'LOGG_WBG',\n",
        " 'LOGG_WBG_UNC',\n",
        " 'PLUG_DEC',\n",
        " 'PLUG_RA',\n",
        " 'RA',\n",
        " 'RI',\n",
        " 'RV_ADOP',\n",
        " 'RV_ADOP_UNC',\n",
        " 'RV_BS',\n",
        " 'RV_BS_UNC',\n",
        " 'RV_CAL',\n",
        " 'RV_CAL_UNC',\n",
        " 'RV_ELODIE',\n",
        " 'RV_ELODIE_UNC',\n",
        " 'RV_GSR',\n",
        " 'RV_GSR_UNC',\n",
        " 'R_MAG_UNC',\n",
        " 'SNR',\n",
        " 'TEFF_ADOP',\n",
        " 'TEFF_ADOP_UNC',\n",
        " 'TEFF_ANNRR',\n",
        " 'TEFF_ANNRR_UNC',\n",
        " 'TEFF_ANNSR',\n",
        " 'TEFF_ANNSR_UNC',\n",
        " 'TEFF_COL',\n",
        " 'TEFF_COL_UNC',\n",
        " 'TEFF_HA24',\n",
        " 'TEFF_HA24_UNC',\n",
        " 'TEFF_HD24',\n",
        " 'TEFF_HD24_UNC',\n",
        " 'TEFF_IRFM',\n",
        " 'TEFF_IRFM_UNC',\n",
        " 'TEFF_K24',\n",
        " 'TEFF_K24_UNC',\n",
        " 'TEFF_KI13',\n",
        " 'TEFF_KI13_UNC',\n",
        " 'TEFF_NGS1',\n",
        " 'TEFF_NGS1_UNC',\n",
        " 'TEFF_SPEC',\n",
        " 'TEFF_SPEC_UNC',\n",
        " 'TEFF_TG',\n",
        " 'TEFF_TG_UNC',\n",
        " 'TEFF_TI',\n",
        " 'TEFF_TI_UNC',\n",
        " 'TEFF_TK',\n",
        " 'TEFF_TK_UNC',\n",
        " 'TEFF_WBG',\n",
        " 'TEFF_WBG_UNC',\n",
        " 'UG',\n",
        " 'U_MAG_UNC',\n",
        " 'V_MAG',\n",
        " 'Z_MAG_UNC']"
       ]
      }
     ],
     "prompt_number": 213
    },
    {
     "cell_type": "code",
     "collapsed": false,
     "input": [
      "X[:, good_columns[\"RA\"]]"
     ],
     "language": "python",
     "metadata": {},
     "outputs": [
      {
       "metadata": {},
       "output_type": "pyout",
       "prompt_number": 221,
       "text": [
        "array([  367.00973511,   254.57225037, -9999.        , ...,    75.2572403 ,\n",
        "         111.86013031, -9999.        ])"
       ]
      }
     ],
     "prompt_number": 221
    },
    {
     "cell_type": "code",
     "collapsed": false,
     "input": [
      "import itertools\n",
      "color_iter = itertools.cycle(['k', 'r', 'g', 'b', 'c', 'm', 'y'])\n",
      "for i, (mean, covar, color) in enumerate(zip(gmm.means_, gmm.covars_, color_iter)):\n",
      "    v, w = np.linalg.eigh(covar)\n",
      "    if not np.any(Y_ == i):\n",
      "        continue\n",
      "    scatter(X[Y_ == i, good_columns[\"RV_GSR\"]], X[Y_ == i, good_columns[\"EBV\"]], .8, color=color)\n",
      "    \n",
      "xscale(\"log\")\n",
      "yscale(\"log\")"
     ],
     "language": "python",
     "metadata": {},
     "outputs": [
      {
       "metadata": {},
       "output_type": "display_data",
       "png": "[encoded data removed]"
      }
     ],
     "prompt_number": 240
    },
    {
     "cell_type": "code",
     "collapsed": false,
     "input": [
      "lowest_bic = np.infty\n",
      "bic = []\n",
      "n_components_range = range(30, 60)\n",
      "\n",
      "cv_type = \"full\"\n",
      "for n_components in n_components_range:\n",
      "    # Fit a mixture of gaussians with EM\n",
      "    gmm = mixture.GMM(n_components=n_components, covariance_type=cv_type)\n",
      "    gmm.fit(X)\n",
      "    bic.append(gmm.bic(X))\n",
      "    if bic[-1] < lowest_bic:\n",
      "        lowest_bic = bic[-1]\n",
      "        best_gmm = gmm"
     ],
     "language": "python",
     "metadata": {},
     "outputs": [],
     "prompt_number": 118
    },
    {
     "cell_type": "code",
     "collapsed": true,
     "input": [
      "scores = cross_val_score(clf, X, y)"
     ],
     "language": "python",
     "metadata": {},
     "outputs": [],
     "prompt_number": 195
    },
    {
     "cell_type": "code",
     "collapsed": false,
     "input": [
      "scores.mean()"
     ],
     "language": "python",
     "metadata": {},
     "outputs": [
      {
       "metadata": {},
       "output_type": "pyout",
       "prompt_number": 196,
       "text": [
        "0.35869481172195156"
       ]
      }
     ],
     "prompt_number": 196
    },
    {
     "cell_type": "code",
     "collapsed": false,
     "input": [
      "clf.fit(X, y)"
     ],
     "language": "python",
     "metadata": {},
     "outputs": [
      {
       "metadata": {},
       "output_type": "pyout",
       "prompt_number": 52,
       "text": [
        "RandomForestClassifier(bootstrap=True, compute_importances=False,\n",
        "            criterion='gini', max_depth=None, max_features='auto',\n",
        "            min_density=0.1, min_samples_leaf=1, min_samples_split=1,\n",
        "            n_estimators=100, n_jobs=1, oob_score=False,\n",
        "            random_state=<mtrand.RandomState object at 0x1845d0ab0>,\n",
        "            verbose=0)"
       ]
      }
     ],
     "prompt_number": 52
    },
    {
     "cell_type": "code",
     "collapsed": false,
     "input": [],
     "language": "python",
     "metadata": {},
     "outputs": []
    }
   ],
   "metadata": {}
  }
 ]
}