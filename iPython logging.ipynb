{
 "metadata": {
  "name": "iPython logging"
 },
 "nbformat": 3,
 "nbformat_minor": 0,
 "worksheets": [
  {
   "cells": [
    {
     "cell_type": "code",
     "collapsed": false,
     "input": [
      "import logging\n",
      "from IPython.display import display, HTML"
     ],
     "language": "python",
     "metadata": {},
     "outputs": [],
     "prompt_number": 6
    },
    {
     "cell_type": "code",
     "collapsed": false,
     "input": [
      "HTML(\"<h1>test</h1>\")"
     ],
     "language": "python",
     "metadata": {},
     "outputs": [
      {
       "html": [
        "<h1>test</h1>"
       ],
       "output_type": "pyout",
       "prompt_number": 3,
       "text": [
        "<IPython.core.display.HTML at 0x111b3c450>"
       ]
      }
     ],
     "prompt_number": 3
    },
    {
     "cell_type": "code",
     "collapsed": false,
     "input": [
      "class IPythonHandler(logging.Handler):\n",
      "\n",
      "    def __init__(self):\n",
      "        Handler.__init__(self)\n",
      "\n",
      "    def flush(self):\n",
      "        pass\n",
      "\n",
      "    def emit(self, record):\n",
      "        print record.levelname\n",
      "        try:\n",
      "            msg = self.format(record)\n",
      "            fs = \"<span class='test'>{msg}</span>\"\\\n",
      "                    .format(cls=record.levelname, msg=msg)\n",
      "            display(HTML(fs))\n",
      "        except (KeyboardInterrupt, SystemExit):\n",
      "            raise\n",
      "        except:\n",
      "            self.handleError(record)"
     ],
     "language": "python",
     "metadata": {},
     "outputs": [],
     "prompt_number": 100
    },
    {
     "cell_type": "code",
     "collapsed": false,
     "input": [
      "logger = logging.getLogger(\"lumberjack\")\n",
      "logger.handlers = [IPythonHandler()]\n",
      "#logger.handlers = [logging.StreamHandler()]"
     ],
     "language": "python",
     "metadata": {},
     "outputs": [],
     "prompt_number": 101
    },
    {
     "cell_type": "code",
     "collapsed": false,
     "input": [
      "logger.setLevel(logging.DEBUG)\n",
      "logger.debug(\"This is a debug message\")\n",
      "logger.info(\"This is an info message\")\n",
      "logger.warning(\"Watch it!\")"
     ],
     "language": "python",
     "metadata": {},
     "outputs": [
      {
       "output_type": "stream",
       "stream": "stdout",
       "text": [
        "DEBUG\n"
       ]
      },
      {
       "html": [
        "<span class='test'>This is a debug message</span>"
       ],
       "output_type": "display_data",
       "text": [
        "<IPython.core.display.HTML at 0x111c67e50>"
       ]
      },
      {
       "output_type": "stream",
       "stream": "stdout",
       "text": [
        "INFO\n"
       ]
      },
      {
       "html": [
        "<span class='test'>This is an info message</span>"
       ],
       "output_type": "display_data",
       "text": [
        "<IPython.core.display.HTML at 0x111c676d0>"
       ]
      },
      {
       "output_type": "stream",
       "stream": "stdout",
       "text": [
        "WARNING\n"
       ]
      },
      {
       "html": [
        "<span class='test'>Watch it!</span>"
       ],
       "output_type": "display_data",
       "text": [
        "<IPython.core.display.HTML at 0x111c67810>"
       ]
      }
     ],
     "prompt_number": 102
    },
    {
     "cell_type": "code",
     "collapsed": false,
     "input": [],
     "language": "python",
     "metadata": {},
     "outputs": []
    }
   ],
   "metadata": {}
  }
 ]
}