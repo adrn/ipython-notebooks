{
 "metadata": {
  "name": ""
 },
 "nbformat": 3,
 "nbformat_minor": 0,
 "worksheets": [
  {
   "cells": [
    {
     "cell_type": "code",
     "collapsed": false,
     "input": [
      "import astropy.units as u"
     ],
     "language": "python",
     "metadata": {},
     "outputs": [],
     "prompt_number": 1
    },
    {
     "cell_type": "code",
     "collapsed": false,
     "input": [
      "a = np.arange(10000)*u.km/u.s"
     ],
     "language": "python",
     "metadata": {},
     "outputs": [],
     "prompt_number": 2
    },
    {
     "cell_type": "code",
     "collapsed": false,
     "input": [
      "%timeit a.to(u.kpc/u.Myr)"
     ],
     "language": "python",
     "metadata": {},
     "outputs": [
      {
       "output_type": "stream",
       "stream": "stdout",
       "text": [
        "10000 loops, best of 3: 138 \u00b5s per loop\n"
       ]
      }
     ],
     "prompt_number": 3
    },
    {
     "cell_type": "code",
     "collapsed": false,
     "input": [
      "param_ranges = dict(v_halo=((100.*u.km/u.s).to(u.kpc/u.Myr).value,\n",
      "                            (330.*u.km/u.s).to(u.kpc/u.Myr).value),\n",
      "                    q1=(1.,2.),\n",
      "                    q2=(0.5,2.),\n",
      "                    qz=(1.0,2.),\n",
      "                    phi=(np.pi/4, 3*np.pi/4),\n",
      "                    r_halo=(8,20)) # kpc\n",
      "\n",
      "los = np.array([1,1,1.])\n",
      "his = np.array([2,2,2.])"
     ],
     "language": "python",
     "metadata": {},
     "outputs": [],
     "prompt_number": 7
    },
    {
     "cell_type": "code",
     "collapsed": false,
     "input": [
      "def ln_p_qz(qz):\n",
      "    \"\"\" Flat prior on vertical (z) axis flattening parameter. \"\"\"\n",
      "    lo,hi = param_ranges[\"qz\"]\n",
      "    \n",
      "    if qz <= lo or qz >= hi:\n",
      "        return -np.inf\n",
      "    else:\n",
      "        return 0.\n",
      "\n",
      "def ln_p_q1(q1):\n",
      "    \"\"\" Flat prior on x-axis flattening parameter. \"\"\"\n",
      "    lo,hi = param_ranges[\"q1\"]\n",
      "    \n",
      "    if q1 <= lo or q1 >= hi:\n",
      "        return -np.inf\n",
      "    else:\n",
      "        return 0.\n",
      "\n",
      "def ln_p_q2(q2):\n",
      "    \"\"\" Flat prior on y-axis flattening parameter. \"\"\"\n",
      "    lo,hi = param_ranges[\"q2\"]\n",
      "    \n",
      "    if q2 <= lo or q2 >= hi:\n",
      "        return -np.inf\n",
      "    else:\n",
      "        return 0.\n",
      "\n",
      "def ln_p_v_halo(v):\n",
      "    \"\"\" Flat prior on mass of the halo (v_halo). The range imposed is \n",
      "        roughly a halo mass between 10^10 and 10^12 M_sun at 200 kpc.\n",
      "    \"\"\"\n",
      "    lo,hi = param_ranges[\"v_halo\"]\n",
      "    \n",
      "    if v <= lo or v >= hi:\n",
      "        return -np.inf\n",
      "    else:\n",
      "        return 0.\n",
      "\n",
      "def ln_p_phi(phi):\n",
      "    \"\"\" Flat prior on orientation angle between DM halo and disk. \"\"\"\n",
      "    lo,hi = param_ranges[\"phi\"]\n",
      "    \n",
      "    if phi < lo or phi > hi:\n",
      "        return -np.inf\n",
      "    else:\n",
      "        return 0.\n",
      "\n",
      "def ln_p_r_halo(r_halo):\n",
      "    \"\"\" Flat prior on halo concentration parameter. \"\"\"\n",
      "    lo,hi = param_ranges[\"r_halo\"]\n",
      "    \n",
      "    if r_halo < lo or r_halo > hi:\n",
      "        return -np.inf\n",
      "    else:\n",
      "        return 0.\n",
      "\n",
      "def ln_prior(p, param_names):\n",
      "    \"\"\" Joint prior over all parameters. \"\"\"\n",
      "    \n",
      "    sum = 0.\n",
      "    for ii,param in enumerate(param_names):\n",
      "        f = globals()[\"ln_p_{0}\".format(param)]\n",
      "        sum += f(p[ii])\n",
      "    \n",
      "    return sum"
     ],
     "language": "python",
     "metadata": {},
     "outputs": [],
     "prompt_number": 4
    },
    {
     "cell_type": "code",
     "collapsed": false,
     "input": [
      "%timeit ln_prior([1.3, 1.4, 1.4], ['q1', 'q2', 'qz'])"
     ],
     "language": "python",
     "metadata": {},
     "outputs": [
      {
       "output_type": "stream",
       "stream": "stdout",
       "text": [
        "100000 loops, best of 3: 3.21 \u00b5s per loop\n"
       ]
      }
     ],
     "prompt_number": 6
    },
    {
     "cell_type": "code",
     "collapsed": false,
     "input": [
      "p = np.array([1.3, 1.4, 1.4])"
     ],
     "language": "python",
     "metadata": {},
     "outputs": [],
     "prompt_number": 9
    },
    {
     "cell_type": "code",
     "collapsed": false,
     "input": [
      "%timeit np.any((p < los) | (p > his))"
     ],
     "language": "python",
     "metadata": {},
     "outputs": [
      {
       "output_type": "stream",
       "stream": "stdout",
       "text": [
        "100000 loops, best of 3: 6.82 \u00b5s per loop\n"
       ]
      }
     ],
     "prompt_number": 10
    },
    {
     "cell_type": "code",
     "collapsed": false,
     "input": [
      "    "
     ],
     "language": "python",
     "metadata": {},
     "outputs": []
    }
   ],
   "metadata": {}
  }
 ]
}