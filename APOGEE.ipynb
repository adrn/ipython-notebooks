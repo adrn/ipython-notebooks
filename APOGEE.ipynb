{
 "cells": [
  {
   "cell_type": "code",
   "execution_count": null,
   "metadata": {
    "collapsed": false
   },
   "outputs": [],
   "source": [
    "from astropy.io import fits\n",
    "from astropy.coordinates import Angle\n",
    "import matplotlib.pyplot as pl\n",
    "import numpy as np\n",
    "fromgala.coordinates import vhel_to_vgsr\n",
    "importgala.potential as sp\n",
    "%matplotlib inline"
   ]
  },
  {
   "cell_type": "code",
   "execution_count": null,
   "metadata": {
    "collapsed": false
   },
   "outputs": [],
   "source": [
    "# hdulist = fits.open(\"/Users/adrian/Data/APOGEE_DR10/allStar-v304.fits\")\n",
    "hdulist = fits.open(\"/Users/adrian/Data/APOGEE_DR12/allStar-v603.fits\")\n",
    "data = hdulist[1].data"
   ]
  },
  {
   "cell_type": "code",
   "execution_count": null,
   "metadata": {
    "collapsed": false
   },
   "outputs": [],
   "source": [
    "sorted(data.dtype.names)"
   ]
  },
  {
   "cell_type": "code",
   "execution_count": null,
   "metadata": {
    "collapsed": true
   },
   "outputs": [],
   "source": [
    "ix = (data['VSCATTER'] < 1.) & (data['VERR'] < 1.)\n",
    "rv_data = data[ix]"
   ]
  },
  {
   "cell_type": "code",
   "execution_count": null,
   "metadata": {
    "collapsed": false,
    "scrolled": true
   },
   "outputs": [],
   "source": [
    "pl.plot(rv_data['GLON'], rv_data['GLAT'], ls='none')\n",
    "pl.xlim(20,34)\n",
    "pl.ylim(-10,10)"
   ]
  },
  {
   "cell_type": "code",
   "execution_count": null,
   "metadata": {
    "collapsed": true
   },
   "outputs": [],
   "source": [
    "near_plane = rv_data[np.abs(rv_data['GLAT'] < 1.)]"
   ]
  },
  {
   "cell_type": "code",
   "execution_count": null,
   "metadata": {
    "collapsed": false
   },
   "outputs": [],
   "source": [
    "pl.plot(near_plane['GLON'], near_plane['VHELIO_AVG'], ls='none')\n",
    "pl.xlim(20,34)\n",
    "pl.ylim(50,250)"
   ]
  },
  {
   "cell_type": "code",
   "execution_count": null,
   "metadata": {
    "collapsed": true
   },
   "outputs": [],
   "source": []
  },
  {
   "cell_type": "code",
   "execution_count": null,
   "metadata": {
    "collapsed": true
   },
   "outputs": [],
   "source": []
  },
  {
   "cell_type": "code",
   "execution_count": null,
   "metadata": {
    "collapsed": true
   },
   "outputs": [],
   "source": []
  },
  {
   "cell_type": "code",
   "execution_count": null,
   "metadata": {
    "collapsed": true
   },
   "outputs": [],
   "source": []
  },
  {
   "cell_type": "code",
   "execution_count": null,
   "metadata": {
    "collapsed": true
   },
   "outputs": [],
   "source": []
  },
  {
   "cell_type": "code",
   "execution_count": null,
   "metadata": {
    "collapsed": false
   },
   "outputs": [],
   "source": [
    "ix = (data['ALPHAFE'] > -1000) & (data['ALPHAFE'] < 10) & (data['ALPHAFE'] != 0) & (data['METALS'] > -1000)\n",
    "alpha_fe = data['ALPHAFE'][ix]\n",
    "fe_h = data['METALS'][ix]\n",
    "\n",
    "plt.figure(figsize=(8,8))\n",
    "plt.plot(fe_h, alpha_fe, linestyle='none', alpha=0.2)"
   ]
  },
  {
   "cell_type": "code",
   "execution_count": null,
   "metadata": {
    "collapsed": false
   },
   "outputs": [],
   "source": [
    "badflag = sum(2**np.array([3,7,19,23]))\n",
    "badflag"
   ]
  },
  {
   "cell_type": "code",
   "execution_count": null,
   "metadata": {
    "collapsed": false
   },
   "outputs": [],
   "source": [
    "# qmask = (data['PM_SRC'] != 'none') & \\\n",
    "#         (data['VERR'] < 5.) & \\\n",
    "#        ((data['ASPCAPFLAG'] & badflag) == 0)# & \\\n",
    "qmask = (data['VERR'] < 5.) & \\\n",
    "        ((data['ASPCAPFLAG'] & badflag) == 0) &\\\n",
    "        np.isfinite(data['J']) & np.isfinite(data['H']) & np.isfinite(data['K'])\n",
    "good_data = data[qmask]\n",
    "        \n",
    "print sum(~qmask), \"excluded\"\n",
    "print sum(qmask), \"included\""
   ]
  },
  {
   "cell_type": "code",
   "execution_count": null,
   "metadata": {
    "collapsed": false
   },
   "outputs": [],
   "source": [
    "plt.plot(good_data['GLON'], good_data['GLAT'], \n",
    "         marker='.', linestyle='none', alpha=0.1)"
   ]
  },
  {
   "cell_type": "code",
   "execution_count": null,
   "metadata": {
    "collapsed": false
   },
   "outputs": [],
   "source": [
    "from astropy.coordinates import Angle\n",
    "\n",
    "l = Angle(good_data['GLON']*u.deg)\n",
    "b = Angle(good_data['GLAT']*u.deg)\n",
    "\n",
    "fig = plt.figure()\n",
    "ax = fig.add_subplot(111,projection='hammer')\n",
    "ax.plot(l.wrap_at(180*u.deg).radian, b.radian,\n",
    "        marker='.', linestyle='none')"
   ]
  },
  {
   "cell_type": "code",
   "execution_count": null,
   "metadata": {
    "collapsed": false
   },
   "outputs": [],
   "source": [
    "vgsr = vhel_to_vgsr(Angle(good_data['GLON']*u.deg), \n",
    "                    Angle(good_data['GLAT']*u.deg), \n",
    "                    good_data['VHELIO_AVG']*u.km/u.s)"
   ]
  },
  {
   "cell_type": "code",
   "execution_count": null,
   "metadata": {
    "collapsed": false
   },
   "outputs": [],
   "source": [
    "fig,axes = plt.subplots(3,1,figsize=(8,12))\n",
    "\n",
    "axes[0].plot(good_data['J'], vgsr.value, \n",
    "             marker='.', linestyle='none', alpha=0.1)\n",
    "axes[1].plot(good_data['H'], vgsr.value, \n",
    "             marker='.', linestyle='none', alpha=0.1)\n",
    "axes[2].plot(good_data['K'], vgsr.value, \n",
    "             marker='.', linestyle='none', alpha=0.1)\n",
    "\n",
    "for ax in axes:\n",
    "    ax.set_ylim(-300,300)"
   ]
  },
  {
   "cell_type": "markdown",
   "metadata": {},
   "source": [
    "M giant selection from http://arxiv.org/pdf/1310.7565v2.pdf:\n",
    "\n",
    "(J \u2212 K) > 1.02  \n",
    "(J \u2212 H) < 0.561 \u00d7 (J \u2212 K)o + 0.46  \n",
    "(J \u2212 H) > 0.561 \u00d7 (J \u2212 K)o + 0.185"
   ]
  },
  {
   "cell_type": "code",
   "execution_count": null,
   "metadata": {
    "collapsed": false
   },
   "outputs": [],
   "source": [
    "Mgiant_mask = ((good_data['J']-good_data['K']) > 1.02) & \\\n",
    "              ((good_data['J']-good_data['H']) < (0.561*(good_data['J']-good_data['K'])+0.46)) & \\\n",
    "              ((good_data['J']-good_data['H']) > (0.561*(good_data['J']-good_data['K'])+0.185))\n",
    "print sum(Mgiant_mask)"
   ]
  },
  {
   "cell_type": "code",
   "execution_count": null,
   "metadata": {
    "collapsed": false
   },
   "outputs": [],
   "source": [
    "Mgiants = good_data[Mgiant_mask]\n",
    "vgsr = vhel_to_vgsr(Angle(Mgiants['GLON']*u.deg), \n",
    "                    Angle(Mgiants['GLAT']*u.deg), \n",
    "                    Mgiants['VHELIO_AVG']*u.km/u.s)"
   ]
  },
  {
   "cell_type": "code",
   "execution_count": null,
   "metadata": {
    "collapsed": false
   },
   "outputs": [],
   "source": [
    "fig,axes = plt.subplots(3,1,figsize=(8,12))\n",
    "\n",
    "axes[0].plot(Mgiants['J'], vgsr.value, \n",
    "             marker='.', linestyle='none', alpha=0.2)\n",
    "axes[1].plot(Mgiants['H'], vgsr.value, \n",
    "             marker='.', linestyle='none', alpha=0.2)\n",
    "axes[2].plot(Mgiants['K'], vgsr.value, \n",
    "             marker='.', linestyle='none', alpha=0.2)\n",
    "\n",
    "for ax in axes:\n",
    "    ax.set_ylim(-300,300)"
   ]
  },
  {
   "cell_type": "code",
   "execution_count": null,
   "metadata": {
    "collapsed": false
   },
   "outputs": [],
   "source": [
    "M_K = 3.26 - 9.42*(good_data['J']-good_data['K']) # Sharma 2010\n",
    "mu = good_data['K'] - M_K\n",
    "dist = 10**(1 + mu/5)*u.pc\n",
    "dist = dist.to(u.kpc)\n",
    "\n",
    "dist_mask = dist < 100*u.kpc"
   ]
  },
  {
   "cell_type": "code",
   "execution_count": null,
   "metadata": {
    "collapsed": false
   },
   "outputs": [],
   "source": [
    "plt.hist(M_K, bins=np.linspace(-30,3,25));"
   ]
  },
  {
   "cell_type": "code",
   "execution_count": null,
   "metadata": {
    "collapsed": false
   },
   "outputs": [],
   "source": [
    "dist_data = good_data[dist_mask]\n",
    "good_dist = dist[dist_mask]"
   ]
  },
  {
   "cell_type": "code",
   "execution_count": null,
   "metadata": {
    "collapsed": false
   },
   "outputs": [],
   "source": [
    "plt.hist(good_dist, bins=100);"
   ]
  },
  {
   "cell_type": "code",
   "execution_count": null,
   "metadata": {
    "collapsed": false
   },
   "outputs": [],
   "source": [
    "theta = 122.932*u.deg\n",
    "dec_ngp = 27.12825*u.deg\n",
    "ra_ngp = 192.85948*u.deg\n",
    "\n",
    "ra = dist_data['RA']*u.deg\n",
    "dec = dist_data['DEC']*u.deg\n",
    "b = dist_data['GLAT']*u.deg\n",
    "pmra = dist_data['PMRA']\n",
    "pmdec = dist_data['PMDEC']\n",
    "        \n",
    "cosphi = (np.sin(dec_ngp) - np.sin(dec)*np.sin(b))/np.cos(dec)/np.cos(b)\n",
    "sinphi = np.sin(ra-ra_ngp)*np.cos(dec_ngp)/np.cos(b)\n",
    "\n",
    "all_R = np.array([[cosphi,sinphi],[-sinphi,cosphi]])\n",
    "pml,pmb = np.array([np.dot(R,pm) for pm,R in zip(np.array([pmra,pmdec]).T,all_R.T)]).T"
   ]
  },
  {
   "cell_type": "code",
   "execution_count": null,
   "metadata": {
    "collapsed": false
   },
   "outputs": [],
   "source": [
    "x,y,z,vx,vy,vz = hel_to_gc(dist_data['GLON']*u.deg, dist_data['GLAT']*u.deg, good_dist, \n",
    "                           pml*u.mas/u.yr, pmb*u.mas/u.yr, dist_data['VHELIO_AVG']*u.km/u.s)\n",
    "\n",
    "zmask = ~np.isnan(vx.value)\n",
    "x = x[zmask]\n",
    "y = y[zmask]\n",
    "z = z[zmask]\n",
    "vx = vx[zmask]\n",
    "vy = vy[zmask]\n",
    "vz = vz[zmask]"
   ]
  },
  {
   "cell_type": "code",
   "execution_count": null,
   "metadata": {
    "collapsed": false
   },
   "outputs": [],
   "source": [
    "plt.plot(x.value, y.value,\n",
    "         marker='.', alpha=0.1, linestyle='none')\n",
    "plt.xlim(-75,75)\n",
    "plt.ylim(-20,30)"
   ]
  },
  {
   "cell_type": "code",
   "execution_count": null,
   "metadata": {
    "collapsed": false
   },
   "outputs": [],
   "source": [
    "plt.plot(vx.value, vz.value,\n",
    "         marker='.', alpha=0.1, linestyle='none')\n",
    "plt.xlim(-400,400)\n",
    "plt.ylim(-400,400)"
   ]
  },
  {
   "cell_type": "markdown",
   "metadata": {},
   "source": [
    "---\n",
    "\n",
    "Some interesting clumps in velocity space"
   ]
  },
  {
   "cell_type": "code",
   "execution_count": null,
   "metadata": {
    "collapsed": false
   },
   "outputs": [],
   "source": [
    "plt.plot(vx.value, vz.value,\n",
    "         marker='.', alpha=0.5, linestyle='none')\n",
    "plt.xlim(-13,-9)\n",
    "plt.ylim(-145,-125)"
   ]
  },
  {
   "cell_type": "code",
   "execution_count": null,
   "metadata": {
    "collapsed": false
   },
   "outputs": [],
   "source": [
    "idx = (vx.value > -13) & (vx.value < -9) & \\\n",
    "      (vy.value > 204.) & (vy.value < 208.) & \\\n",
    "      (vz.value > -145) & (vz.value < -125) \n",
    "\n",
    "plt.figure()\n",
    "plt.plot(x.value, z.value,\n",
    "         marker='.', alpha=0.1, linestyle='none')\n",
    "plt.plot(x.value[idx], z.value[idx],\n",
    "        marker='.', alpha=1., linestyle='none')\n",
    "plt.xlim(-9,0)\n",
    "plt.ylim(-5,15)\n",
    "\n",
    "plt.figure()\n",
    "plt.plot(x.value, y.value,\n",
    "         marker='.', alpha=0.1, linestyle='none')\n",
    "plt.plot(x.value[idx], y.value[idx],\n",
    "        marker='.', alpha=1., linestyle='none')\n",
    "plt.xlim(-9,0)\n",
    "plt.ylim(-3,3)\n",
    "\n",
    "plt.figure()\n",
    "plt.plot(y.value, z.value,\n",
    "         marker='.', alpha=0.1, linestyle='none')\n",
    "plt.plot(y.value[idx], z.value[idx],\n",
    "        marker='.', alpha=1., linestyle='none')\n",
    "plt.xlim(-3,3)\n",
    "plt.ylim(-5,15)"
   ]
  },
  {
   "cell_type": "code",
   "execution_count": null,
   "metadata": {
    "collapsed": false
   },
   "outputs": [],
   "source": []
  },
  {
   "cell_type": "code",
   "execution_count": null,
   "metadata": {
    "collapsed": false
   },
   "outputs": [],
   "source": [
    "usys = [u.Myr,u.kpc,u.radian,u.M_sun]\n",
    "potential = sp.CompositePotential(units=usys)\n",
    "potential[\"disk\"] = sp.MiyamotoNagaiPotential(units=usys,\n",
    "                                   m=1.E11*u.M_sun,\n",
    "                                   a=6.5*u.kpc,\n",
    "                                   b=0.26*u.kpc,\n",
    "                                   r_0=[0.,0.,0.]*u.kpc)\n",
    "\n",
    "potential[\"bulge\"] = sp.HernquistPotential(units=usys,\n",
    "                               m=1.E11*u.M_sun,\n",
    "                               c=0.7*u.kpc)\n",
    "\n",
    "potential[\"halo\"] = sp.SphericalNFWPotential(units=usys, \n",
    "                                             log_m=np.log(2.5E11),\n",
    "                                             a=6*u.kpc)"
   ]
  },
  {
   "cell_type": "code",
   "execution_count": null,
   "metadata": {
    "collapsed": false
   },
   "outputs": [],
   "source": [
    "r = np.vstack((x.value,y.value,z.value)).T.copy()*u.kpc"
   ]
  },
  {
   "cell_type": "code",
   "execution_count": null,
   "metadata": {
    "collapsed": false
   },
   "outputs": [],
   "source": [
    "energy_data = good_data[zmask]\n",
    "pvalue = potential.value_at(r)\n",
    "Energy = pvalue + 0.5*(vx**2+vy**2+vz**2)"
   ]
  },
  {
   "cell_type": "code",
   "execution_count": null,
   "metadata": {
    "collapsed": false
   },
   "outputs": [],
   "source": [
    "plt.hist(energy_data['metals'], bins=np.linspace(-5, 1, 100));"
   ]
  },
  {
   "cell_type": "code",
   "execution_count": null,
   "metadata": {
    "collapsed": false
   },
   "outputs": [],
   "source": [
    "_idx = (energy_data['metals'] < 1) & (Energy.value < 50)\n",
    "\n",
    "plt.semilogx(Energy.value[_idx]+1, energy_data['metals'][_idx], \n",
    "             marker='.', alpha=0.1, linestyle='none')\n",
    "plt.axvline(-0.185+1.)\n",
    "plt.xlim(0.7, 3)\n",
    "plt.xlabel(\"Energy\")\n",
    "plt.ylabel(\"[Fe/H]\")"
   ]
  },
  {
   "cell_type": "code",
   "execution_count": null,
   "metadata": {
    "collapsed": false
   },
   "outputs": [],
   "source": [
    "r = np.vstack((x.value,y.value,z.value)).T.copy()*x.unit\n",
    "v = np.vstack((vx.value,vy.value,vz.value)).T.copy()*vx.unit\n",
    "L = np.sqrt(np.sum(np.array([np.cross(rr,vv) for rr,vv in zip(r,v)])**2, axis=-1))\n",
    "\n",
    "plt.figure(figsize=(8,8))\n",
    "plt.loglog(Energy.value+1, L, \n",
    "           marker='.', alpha=0.1, linestyle='none')\n",
    "plt.loglog(Energy.value[idx]+1, L[idx], \n",
    "           marker='.', alpha=0.1, linestyle='none')\n",
    "#axvline(-0.185+1.)\n",
    "plt.xlim(0.1, 10)\n",
    "plt.ylim(1E2, 1E6)\n",
    "plt.xlabel(\"Energy\")\n",
    "plt.ylabel(\"Angular mom.\")"
   ]
  },
  {
   "cell_type": "code",
   "execution_count": null,
   "metadata": {
    "collapsed": false
   },
   "outputs": [],
   "source": [
    "r = np.vstack((x.value,y.value,z.value)).T.copy()*x.unit\n",
    "v = np.vstack((vx.value,vy.value,vz.value)).T.copy()*vx.unit\n",
    "L = np.sqrt(np.sum(np.array([np.cross(rr,vv) for rr,vv in zip(r,v)])**2, axis=-1))\n",
    "\n",
    "plt.figure(figsize=(8,8))\n",
    "plt.loglog(Energy.value+1, L, \n",
    "           marker='.', alpha=0.1, linestyle='none')\n",
    "plt.loglog(Energy.value[idx]+1, L[idx], \n",
    "           marker='.', alpha=0.1, linestyle='none')\n",
    "#axvline(-0.185+1.)\n",
    "plt.xlim(0.7, 2)\n",
    "plt.ylim(1E2, 1E5)\n",
    "plt.xlabel(\"Energy\")\n",
    "plt.ylabel(\"Angular mom.\")"
   ]
  },
  {
   "cell_type": "code",
   "execution_count": null,
   "metadata": {
    "collapsed": false
   },
   "outputs": [],
   "source": [
    "#idx = ((Energy.value+1) < 0.83) & (L < 2500) & (L > 1000)\n",
    "idx = ((Energy.value+1) < 1.1) \n",
    "\n",
    "figure(figsize=(3,3))\n",
    "loglog(Energy.value[idx]+1, L[idx], \n",
    "         marker='.', alpha=0.1, linestyle='none')\n",
    "#axvline(-0.185+1.)\n",
    "xlim(0.7, 2)\n",
    "ylim(1E2, 1E5)\n",
    "xlabel(\"Energy\")\n",
    "ylabel(\"Angular mom.\")\n",
    "\n",
    "figure(figsize=(8,8))\n",
    "plot(x[idx].value, z[idx].value,\n",
    "     marker='.', alpha=0.1, linestyle='none')\n"
   ]
  },
  {
   "cell_type": "code",
   "execution_count": null,
   "metadata": {
    "collapsed": false
   },
   "outputs": [],
   "source": [
    "idx = (np.sqrt(x**2+y**2+z**2) > 20.*u.kpc)\n",
    "\n",
    "r = np.vstack((x.value,y.value,z.value)).T.copy()*x.unit\n",
    "v = np.vstack((vx.value,vy.value,vz.value)).T.copy()*vx.unit\n",
    "L = np.sqrt(np.sum(np.array([np.cross(rr,vv) for rr,vv in zip(r,v)])**2, axis=-1))\n",
    "\n",
    "figure(figsize=(8,8))\n",
    "loglog(Energy.value[idx]+1, L[idx], \n",
    "         marker='.', alpha=0.1, linestyle='none')\n",
    "#axvline(-0.185+1.)\n",
    "xlim(0.9, 1.1)\n",
    "ylim(1E3, 3E4)\n",
    "xlabel(\"Energy\")\n",
    "ylabel(\"Angular mom.\")"
   ]
  },
  {
   "cell_type": "code",
   "execution_count": null,
   "metadata": {
    "collapsed": false
   },
   "outputs": [],
   "source": [
    "# idx = (Energy.value+1) > 0.98 #(np.sqrt(x**2+y**2+z**2) > 20.*u.kpc) & (L < 2700)\n",
    "idx = (L > (200000*(Energy.value+1)-190000)) & ((Energy.value+1) > 0.98)\n",
    "\n",
    "r = np.vstack((x.value,y.value,z.value)).T.copy()*x.unit\n",
    "v = np.vstack((vx.value,vy.value,vz.value)).T.copy()*vx.unit\n",
    "L = np.sqrt(np.sum(np.array([np.cross(rr,vv) for rr,vv in zip(r,v)])**2, axis=-1))\n",
    "\n",
    "figure(figsize=(6,6))\n",
    "loglog(Energy.value[idx]+1, L[idx], \n",
    "         marker='.', alpha=0.1, linestyle='none')\n",
    "xlim(0.9, 1.1)\n",
    "ylim(1E3, 3E4)\n",
    "xlabel(\"Energy\")\n",
    "ylabel(\"Angular mom.\")\n",
    "\n",
    "fig,axes = subplots(2,2,figsize=(12,12),sharex='col',sharey='row')\n",
    "axes[0,0].plot(x[idx], y[idx],\n",
    "               marker='.', alpha=0.2, linestyle='none')\n",
    "axes[0,1].set_visible(False)\n",
    "axes[1,0].plot(x[idx], z[idx],\n",
    "               marker='.', alpha=0.2, linestyle='none')\n",
    "axes[1,1].plot(y[idx], z[idx],\n",
    "               marker='.', alpha=0.2, linestyle='none')\n",
    "axes[0,0].set_xlim(-50,50)\n",
    "\n",
    "# idx2 = (L < (200000*(Energy.value+1)-190000)) & ((Energy.value+1) > 0.98)\n",
    "# axes[0,0].plot(x[idx2], y[idx2],\n",
    "#                marker='.', alpha=0.2, linestyle='none')\n",
    "# axes[0,1].set_visible(False)\n",
    "# axes[1,0].plot(x[idx2], z[idx2],\n",
    "#                marker='.', alpha=0.2, linestyle='none')\n",
    "# axes[1,1].plot(y[idx2], z[idx2],\n",
    "#                marker='.', alpha=0.2, linestyle='none')"
   ]
  },
  {
   "cell_type": "code",
   "execution_count": null,
   "metadata": {
    "collapsed": false
   },
   "outputs": [],
   "source": [
    "plot"
   ]
  }
 ],
 "metadata": {
  "kernelspec": {
   "display_name": "Python 2",
   "language": "python",
   "name": "python2"
  },
  "language_info": {
   "codemirror_mode": {
    "name": "ipython",
    "version": 2
   },
   "file_extension": ".py",
   "mimetype": "text/x-python",
   "name": "python",
   "nbconvert_exporter": "python",
   "pygments_lexer": "ipython2",
   "version": "2.7.10"
  }
 },
 "nbformat": 4,
 "nbformat_minor": 0
}