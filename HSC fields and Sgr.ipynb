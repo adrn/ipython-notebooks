{
 "cells": [
  {
   "cell_type": "code",
   "execution_count": null,
   "metadata": {
    "collapsed": true
   },
   "outputs": [],
   "source": [
    "# Third-party\n",
    "import pandas as pd\n",
    "import astropy.coordinates as coord\n",
    "import astropy.units as u\n",
    "import matplotlib as mpl\n",
    "import matplotlib.pyplot as pl\n",
    "import numpy as np\n",
    "pl.style.use('apw-notebook')\n",
    "%matplotlib inline\n",
    "\n",
    "from scipy.spatial import Delaunay"
   ]
  },
  {
   "cell_type": "code",
   "execution_count": null,
   "metadata": {
    "collapsed": false
   },
   "outputs": [],
   "source": [
    "sgr = np.genfromtxt(\"/Users/adrian/projects/streams/data/simulation/LM10/SgrTriax_DYN.dat\", \n",
    "                    delimiter=\" \", dtype=None, names=True)"
   ]
  },
  {
   "cell_type": "code",
   "execution_count": null,
   "metadata": {
    "collapsed": false
   },
   "outputs": [],
   "source": [
    "sgr_c = coord.SkyCoord(ra=sgr['ra']*u.degree, \n",
    "                       dec=sgr['dec']*u.degree,\n",
    "                       distance=sgr['dist']*u.kpc)"
   ]
  },
  {
   "cell_type": "code",
   "execution_count": null,
   "metadata": {
    "collapsed": false
   },
   "outputs": [],
   "source": [
    "hsc_gama = pd.read_csv(\"/Users/adrian/Downloads/gama15RaDec.txt\", sep=\" \", names=['ra', 'dec'], skiprows=1)\n",
    "hsc_xmm = pd.read_csv(\"/Users/adrian/Downloads/xmmRaDec.txt\", sep=\" \", names=['ra', 'dec'], skiprows=1)\n",
    "\n",
    "hsc_fields = {'gama': hsc_gama, 'xmm': hsc_xmm}"
   ]
  },
  {
   "cell_type": "code",
   "execution_count": null,
   "metadata": {
    "collapsed": false
   },
   "outputs": [],
   "source": [
    "hsc_c = {name: coord.SkyCoord(ra=np.asarray(f['ra'])*u.deg, dec=np.asarray(f['dec'])*u.deg)\n",
    "         for name,f in hsc_fields.items()}"
   ]
  },
  {
   "cell_type": "markdown",
   "metadata": {},
   "source": [
    "Note: this is wrong because the tesselation is done on angular coordinates..."
   ]
  },
  {
   "cell_type": "code",
   "execution_count": null,
   "metadata": {
    "collapsed": false
   },
   "outputs": [],
   "source": [
    "hsc_hulls = {name: Delaunay(np.vstack((c.ra.degree,c.dec.degree)).T) for name,c in hsc_c.items()}"
   ]
  },
  {
   "cell_type": "code",
   "execution_count": null,
   "metadata": {
    "collapsed": false
   },
   "outputs": [],
   "source": [
    "sgr_pts = np.vstack((sgr_c.ra.degree, sgr_c.dec.degree)).T\n",
    "\n",
    "sgr_in_hsc_idx = {}\n",
    "for name,hull in hsc_hulls.items():\n",
    "    sgr_in_hsc_idx[name] = hull.find_simplex(sgr_pts) >= 0"
   ]
  },
  {
   "cell_type": "markdown",
   "metadata": {},
   "source": [
    "---"
   ]
  },
  {
   "cell_type": "markdown",
   "metadata": {},
   "source": [
    "## Plot all Sgr model stars colored by distance"
   ]
  },
  {
   "cell_type": "code",
   "execution_count": null,
   "metadata": {
    "collapsed": false
   },
   "outputs": [],
   "source": [
    "fig,ax = pl.subplots(1,1,figsize=(15,8),subplot_kw=dict(projection='aitoff'))\n",
    "\n",
    "cb = ax.scatter(sgr_c.ra.wrap_at(180*u.degree).radian, sgr_c.dec.radian, \n",
    "               c=sgr_c.distance.kpc, cmap='magma', vmin=3, vmax=60, s=2)\n",
    "\n",
    "for c in hsc_c.values():\n",
    "    ax.plot(c.ra.wrap_at(180*u.degree).radian[::1000], c.dec.radian[::1000], \n",
    "            linestyle='none', marker=',', color='g')\n",
    "\n",
    "cbar = fig.colorbar(cb)\n",
    "cbar.set_label('Dist. [kpc]')"
   ]
  },
  {
   "cell_type": "markdown",
   "metadata": {},
   "source": [
    "## Plot only Sgr stars in convex hull of HSC fields"
   ]
  },
  {
   "cell_type": "code",
   "execution_count": null,
   "metadata": {
    "collapsed": false
   },
   "outputs": [],
   "source": [
    "fig,ax = pl.subplots(1,1,figsize=(15,8),subplot_kw=dict(projection='aitoff'))\n",
    "\n",
    "for name,idx in sgr_in_hsc_idx.items():\n",
    "    cb = ax.scatter(sgr_c[idx].ra.wrap_at(180*u.degree).radian, sgr_c[idx].dec.radian, \n",
    "                    c=sgr_c[idx].distance.kpc, cmap='magma', vmin=3, vmax=60, s=2)\n",
    "    \n",
    "cbar = fig.colorbar(cb)\n",
    "cbar.set_label('Dist. [kpc]')"
   ]
  },
  {
   "cell_type": "markdown",
   "metadata": {},
   "source": [
    "## Distance / distance modulus histograms for the two fields"
   ]
  },
  {
   "cell_type": "code",
   "execution_count": null,
   "metadata": {
    "collapsed": false
   },
   "outputs": [],
   "source": [
    "dist_bins = np.linspace(0.,80.,16) # kpc\n",
    "distmod_bins = np.linspace(14.5,20.,16) # kpc\n",
    "\n",
    "for name,idx in sgr_in_hsc_idx.items():\n",
    "    fig,axes = pl.subplots(1,2,figsize=(10,5))\n",
    "    axes[0].hist(sgr_c.distance.kpc[idx], bins=dist_bins)\n",
    "    axes[1].hist(sgr_c.distance.distmod[idx], bins=distmod_bins)\n",
    "    \n",
    "    axes[0].set_xlabel(\"Distance [kpc]\")\n",
    "    axes[1].set_xlabel(\"Distance modulus [mag]\")\n",
    "    \n",
    "    fig.suptitle(\"Field: {}\".format(name), fontsize=24, y=1.0)\n",
    "    fig.tight_layout()\n",
    "    fig.subplots_adjust(top=0.9)"
   ]
  }
 ],
 "metadata": {
  "kernelspec": {
   "display_name": "Environment (astropy-dev)",
   "language": "",
   "name": "astropy-dev"
  },
  "language_info": {
   "codemirror_mode": {
    "name": "ipython",
    "version": 3
   },
   "file_extension": ".py",
   "mimetype": "text/x-python",
   "name": "python",
   "nbconvert_exporter": "python",
   "pygments_lexer": "ipython3",
   "version": "3.5.2"
  }
 },
 "nbformat": 4,
 "nbformat_minor": 0
}