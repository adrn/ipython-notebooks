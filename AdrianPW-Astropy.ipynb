{
 "metadata": {
  "name": "AdrianPW-Astropy"
 },
 "nbformat": 3,
 "nbformat_minor": 0,
 "worksheets": [
  {
   "cells": [
    {
     "cell_type": "markdown",
     "metadata": {},
     "source": [
      "![](http://docs.astropy.org/en/latest/_images/astropy_banner_96.png)\n",
      "\n",
      "Adrian Price-Whelan\n",
      "====================\n",
      "\n",
      "(Columbia University)\n",
      "---------------------"
     ]
    },
    {
     "cell_type": "markdown",
     "metadata": {},
     "source": [
      "* * *"
     ]
    },
    {
     "cell_type": "markdown",
     "metadata": {},
     "source": [
      "Units\n",
      "-----\n",
      "A way to define and convert between physical units, and support for arithmetic with physical values."
     ]
    },
    {
     "cell_type": "code",
     "collapsed": false,
     "input": [
      "import astropy.units as u\n",
      "15 * u.km / u.s"
     ],
     "language": "python",
     "metadata": {},
     "outputs": [
      {
       "latex": [
        "$15 \\; \\mathrm{\\frac{km}{s}}$"
       ],
       "output_type": "pyout",
       "prompt_number": 1,
       "text": [
        "<Quantity 15 km / s>"
       ]
      }
     ],
     "prompt_number": 1
    },
    {
     "cell_type": "code",
     "collapsed": false,
     "input": [
      "u.picogauss"
     ],
     "language": "python",
     "metadata": {},
     "outputs": []
    },
    {
     "cell_type": "markdown",
     "metadata": {},
     "source": [
      "Arithmetic with `Unit` objects returns `Quantity` objects, which represent a number plus units."
     ]
    },
    {
     "cell_type": "code",
     "collapsed": false,
     "input": [
      "u.km"
     ],
     "language": "python",
     "metadata": {},
     "outputs": []
    },
    {
     "cell_type": "code",
     "collapsed": false,
     "input": [
      "q = 15 * u.km / u.s\n",
      "type(q)"
     ],
     "language": "python",
     "metadata": {},
     "outputs": []
    },
    {
     "cell_type": "code",
     "collapsed": false,
     "input": [
      "q.value, q.unit"
     ],
     "language": "python",
     "metadata": {},
     "outputs": []
    },
    {
     "cell_type": "code",
     "collapsed": false,
     "input": [
      "q"
     ],
     "language": "python",
     "metadata": {},
     "outputs": []
    },
    {
     "cell_type": "markdown",
     "metadata": {},
     "source": [
      "Integrated with `constants` subpackage, which contains familiar physical constants"
     ]
    },
    {
     "cell_type": "code",
     "collapsed": false,
     "input": [
      "from astropy.constants import G, M_sun, c\n",
      "G * M_sun / c**2"
     ],
     "language": "python",
     "metadata": {},
     "outputs": [
      {
       "latex": [
        "$1477.04 \\; \\mathrm{m}$"
       ],
       "output_type": "pyout",
       "prompt_number": 3,
       "text": [
        "<Quantity 1477.03573321 m>"
       ]
      }
     ],
     "prompt_number": 3
    },
    {
     "cell_type": "code",
     "collapsed": false,
     "input": [
      "(G * M_sun / c**2).cgs"
     ],
     "language": "python",
     "metadata": {},
     "outputs": [
      {
       "latex": [
        "$147704 \\; \\mathrm{cm}$"
       ],
       "output_type": "pyout",
       "prompt_number": 4,
       "text": [
        "<Quantity 147703.573321 cm>"
       ]
      }
     ],
     "prompt_number": 4
    },
    {
     "cell_type": "code",
     "collapsed": false,
     "input": [
      "(G * M_sun / c**2).to(u.R_sun)"
     ],
     "language": "python",
     "metadata": {},
     "outputs": [
      {
       "latex": [
        "$2.12368\\times 10^{-06} \\; \\mathrm{R_{\\odot}}$"
       ],
       "output_type": "pyout",
       "prompt_number": 5,
       "text": [
        "<Quantity 2.12367899896e-06 solRad>"
       ]
      }
     ],
     "prompt_number": 5
    },
    {
     "cell_type": "code",
     "collapsed": false,
     "input": [
      "u.R_sun"
     ],
     "language": "python",
     "metadata": {},
     "outputs": []
    },
    {
     "cell_type": "markdown",
     "metadata": {},
     "source": [
      "Also works with Numpy arrays of numbers:"
     ]
    },
    {
     "cell_type": "code",
     "collapsed": false,
     "input": [
      "q = np.array([15,11,23]) * u.km / u.hr\n",
      "q"
     ],
     "language": "python",
     "metadata": {},
     "outputs": []
    },
    {
     "cell_type": "code",
     "collapsed": false,
     "input": [
      "q.to(u.mile / u.hr)"
     ],
     "language": "python",
     "metadata": {},
     "outputs": []
    },
    {
     "cell_type": "markdown",
     "metadata": {},
     "source": [
      "__Caveats__:\n",
      "\n",
      "* No support for arbitrary floating point powers, e.g. no $G^{0.5132}$"
     ]
    },
    {
     "cell_type": "markdown",
     "metadata": {},
     "source": [
      "-----------"
     ]
    },
    {
     "cell_type": "markdown",
     "metadata": {},
     "source": [
      "Coordinates\n",
      "-------------\n",
      "Classes for representing celestial coordinates, tools for converting between standard systems"
     ]
    },
    {
     "cell_type": "markdown",
     "metadata": {},
     "source": [
      "Defining coordinates is done through a number of coordinate classes:"
     ]
    },
    {
     "cell_type": "code",
     "collapsed": false,
     "input": [
      "import astropy.units as u\n",
      "import astropy.coordinates as coord\n",
      "c = coord.ICRSCoordinates(15.43151, 41.2141, unit=(u.hour, u.degree))\n",
      "print c"
     ],
     "language": "python",
     "metadata": {},
     "outputs": []
    },
    {
     "cell_type": "markdown",
     "metadata": {},
     "source": [
      "But what if I have a string, e.g. read from a text file list of coordinates:"
     ]
    },
    {
     "cell_type": "code",
     "collapsed": false,
     "input": [
      "c = coord.ICRSCoordinates('00h42m44.3s +41d16m9s')\n",
      "print c"
     ],
     "language": "python",
     "metadata": {},
     "outputs": []
    },
    {
     "cell_type": "markdown",
     "metadata": {},
     "source": [
      "Once you have a `Coordinates` class, you can transform to any of the built-in astronomical coordinate systems (or define your own to transform to!)"
     ]
    },
    {
     "cell_type": "code",
     "collapsed": false,
     "input": [
      "c.galactic"
     ],
     "language": "python",
     "metadata": {},
     "outputs": []
    },
    {
     "cell_type": "markdown",
     "metadata": {},
     "source": [
      "To compute the angle subtended between two points, use the `separation()` method:"
     ]
    },
    {
     "cell_type": "code",
     "collapsed": false,
     "input": [
      "c2 = coord.ICRSCoordinates(19.1412, 37.6623, unit=(u.hour, u.degree))\n",
      "c.separation(c2)"
     ],
     "language": "python",
     "metadata": {},
     "outputs": []
    },
    {
     "cell_type": "markdown",
     "metadata": {},
     "source": [
      "You may also want to define a distance (e.g. the radius part of your 3D spherical coordinates):"
     ]
    },
    {
     "cell_type": "code",
     "collapsed": false,
     "input": [
      "c = coord.ICRSCoordinates('00h42m44.3s +41d16m9s', distance=coord.Distance(15., unit=u.kpc))\n",
      "c2 = coord.ICRSCoordinates(19.1412, 37.6623, unit=(u.hour, u.degree), distance=coord.Distance(11.513, unit=u.kpc))"
     ],
     "language": "python",
     "metadata": {},
     "outputs": []
    },
    {
     "cell_type": "markdown",
     "metadata": {},
     "source": [
      "Now you can compute the physical 3D distance between the points using the `separation_3d` method:"
     ]
    },
    {
     "cell_type": "code",
     "collapsed": false,
     "input": [
      "c.separation_3d(c2)"
     ],
     "language": "python",
     "metadata": {},
     "outputs": []
    },
    {
     "cell_type": "code",
     "collapsed": false,
     "input": [
      "coord.ICRSCoordinates.from_name(\"M42\")"
     ],
     "language": "python",
     "metadata": {},
     "outputs": []
    },
    {
     "cell_type": "markdown",
     "metadata": {},
     "source": [
      "__Caveats:__\n",
      "\n",
      " * Still in active development -- API could change in the future\n",
      " * Array support coming in 0.3"
     ]
    },
    {
     "cell_type": "markdown",
     "metadata": {},
     "source": [
      "---------"
     ]
    },
    {
     "cell_type": "markdown",
     "metadata": {},
     "source": [
      "Time\n",
      "-----\n",
      "Functionality for manipulating times and dates (including JD, MJD, etc.)"
     ]
    },
    {
     "cell_type": "code",
     "collapsed": false,
     "input": [
      "from astropy.time import Time\n",
      "t = Time('2011-03-14 08:06:07.5309', format='iso', scale='utc')\n",
      "t"
     ],
     "language": "python",
     "metadata": {},
     "outputs": []
    },
    {
     "cell_type": "code",
     "collapsed": false,
     "input": [
      "t.mjd, t.jd"
     ],
     "language": "python",
     "metadata": {},
     "outputs": []
    },
    {
     "cell_type": "code",
     "collapsed": false,
     "input": [
      "Time('2012-10-14', scale='utc').mjd"
     ],
     "language": "python",
     "metadata": {},
     "outputs": []
    },
    {
     "cell_type": "code",
     "collapsed": false,
     "input": [
      "import datetime\n",
      "Time(datetime.datetime.utcnow().isoformat(), scale='utc').mjd"
     ],
     "language": "python",
     "metadata": {},
     "outputs": []
    },
    {
     "cell_type": "markdown",
     "metadata": {},
     "source": [
      "-----"
     ]
    },
    {
     "cell_type": "markdown",
     "metadata": {},
     "source": [
      "Cosmology\n",
      "-----\n",
      "Classes for representing cosmologies, and utility functions for calculating commonly used quantities that depend on a cosmological model"
     ]
    },
    {
     "cell_type": "markdown",
     "metadata": {},
     "source": [
      "All the WMAP cosomologies are included:"
     ]
    },
    {
     "cell_type": "code",
     "collapsed": false,
     "input": [
      "from astropy.cosmology import WMAP7, WMAP9\n",
      "print WMAP7.comoving_distance(z=1.321)\n",
      "print WMAP7.Om(1.321)\n",
      "\n",
      "print WMAP9.comoving_distance(z=1.321)\n",
      "print WMAP9.Om(1.321)"
     ],
     "language": "python",
     "metadata": {},
     "outputs": []
    },
    {
     "cell_type": "markdown",
     "metadata": {},
     "source": [
      "You can also create your own:"
     ]
    },
    {
     "cell_type": "code",
     "collapsed": false,
     "input": [
      "from astropy.cosmology import LambdaCDM\n",
      "cosmo = LambdaCDM(H0=85., Om0=0.5, Ode0=0.5)\n",
      "print \"Custom lookback time: {0}, WMAP7 lookback time: {1}\".format(cosmo.lookback_time(0.612), WMAP7.lookback_time(0.612))"
     ],
     "language": "python",
     "metadata": {},
     "outputs": []
    },
    {
     "cell_type": "markdown",
     "metadata": {},
     "source": [
      "__Caveats:__\n",
      "\n",
      " * Currently doesn't use `units` or `coordinates` subpackages, but coming soon!"
     ]
    },
    {
     "cell_type": "markdown",
     "metadata": {},
     "source": [
      "--------------------"
     ]
    },
    {
     "cell_type": "markdown",
     "metadata": {},
     "source": [
      "Table / ascii\n",
      "-------------\n",
      "Functionality for storing and manipulating heterogenous tables of data"
     ]
    },
    {
     "cell_type": "markdown",
     "metadata": {},
     "source": [
      "Can read/write useful formats for astronomers e.g. Latex, Daophot, IPAC, CDS/Vizier (and familiar table-delimited)"
     ]
    },
    {
     "cell_type": "markdown",
     "metadata": {},
     "source": [
      "As an example, let's take a table from IPAC and write it to a Latex table (tabular):"
     ]
    },
    {
     "cell_type": "code",
     "collapsed": false,
     "input": [
      "from astropy.io import ascii\n",
      "wise_data = ascii.read(\"wise.tbl\")\n",
      "wise_data"
     ],
     "language": "python",
     "metadata": {},
     "outputs": []
    },
    {
     "cell_type": "code",
     "collapsed": false,
     "input": [
      "print \"Rows: {0}, Columns: {1}\".format(len(wise_data), len(wise_data.columns))"
     ],
     "language": "python",
     "metadata": {},
     "outputs": []
    },
    {
     "cell_type": "code",
     "collapsed": false,
     "input": [
      "ascii.write(wise_data, Writer=ascii.Latex, include_names=[\"ra\", \"dec\", \"dist\"])"
     ],
     "language": "python",
     "metadata": {},
     "outputs": []
    },
    {
     "cell_type": "code",
     "collapsed": false,
     "input": [
      "ascii.write(wise_data, Writer=ascii.Latex, exclude_names=[\"ra\", \"dec\", \"dist\"])"
     ],
     "language": "python",
     "metadata": {},
     "outputs": []
    },
    {
     "cell_type": "markdown",
     "metadata": {},
     "source": [
      "-----"
     ]
    },
    {
     "cell_type": "markdown",
     "metadata": {},
     "source": [
      "NDData\n",
      "-----\n",
      "N-dimensional data sets that may have uncertainties, metadata -- keep it all in one place!"
     ]
    },
    {
     "cell_type": "markdown",
     "metadata": {},
     "source": [
      "Example: CCD image with bitmask(s), uncertainties"
     ]
    },
    {
     "cell_type": "code",
     "collapsed": false,
     "input": [
      "from astropy.nddata import NDData\n",
      "\n",
      "data = np.random.normal(0., 10., size=(2048, 1024))\n",
      "bitmask = data > 10\n",
      "metadata = dict(telescope=\"MDM 2.4m\", exposure_time=\"2s\")"
     ],
     "language": "python",
     "metadata": {},
     "outputs": []
    },
    {
     "cell_type": "code",
     "collapsed": false,
     "input": [
      "ndd = NDData(data, meta=metadata, mask=bitmask)\n",
      "ndd.data, ndd.meta, ndd.mask"
     ],
     "language": "python",
     "metadata": {},
     "outputs": []
    },
    {
     "cell_type": "markdown",
     "metadata": {},
     "source": [
      "__Caveats:__\n",
      "\n",
      "* Really just the base class for a bunch of objects to come! (`CCDImage`, `Spectrum`, etc.)\n",
      "* Will handle propagation of uncertainties, provided you use one of our uncertainty classes (e.g. add two images with associated `InverseVarianceUncertainty` objects)"
     ]
    },
    {
     "cell_type": "markdown",
     "metadata": {},
     "source": [
      "FITS\n",
      "-----\n",
      "Pyfits will be deprecated and merged into `astropy.io.fits`, but functionality is the same!"
     ]
    },
    {
     "cell_type": "markdown",
     "metadata": {},
     "source": [
      "WCS (World Coordinate Systems)\n",
      "----------------------\n",
      "Utilities for managing World Coordinate System (WCS) transformations in FITS files (formerly `pywcs`)"
     ]
    }
   ],
   "metadata": {}
  }
 ]
}