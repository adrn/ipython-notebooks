{
 "metadata": {
  "name": "01_basic_plotting"
 },
 "nbformat": 2,
 "nbformat_minor": 0,
 "worksheets": [
  {
   "cells": [
    {
     "cell_type": "markdown",
     "metadata": {},
     "source": [
      "# Matplotlib Tutorial: 1. Basic Plot Interface"
     ]
    },
    {
     "cell_type": "markdown",
     "metadata": {},
     "source": [
      "In this notebook, we will explore the basic plot interface using ``pylab.plot`` and ``pylab.scatter``.  We will also discuss the difference between the `pylab interface`, which offers plotting with the feel of Matlab.  In the following sections, we will introduce the `object-oriented interface`, which offers more flexibility and will be used throughout the remainter of the tutorial."
     ]
    },
    {
     "cell_type": "markdown",
     "metadata": {},
     "source": [
      "## Setting up IPython"
     ]
    },
    {
     "cell_type": "markdown",
     "metadata": {},
     "source": [
      "IPython has a built-in mode to work cleanly with matplotlib figures.  There are a few ways to invoke it:\n",
      "\n",
      "1. On startup, you can add a command line argument:\n",
      "   \n",
      "        ipython [notebook] --pylab\n",
      "   \n",
      "   or:\n",
      "     \n",
      "        ipython notebook --pylab inline\n",
      "\n",
      "   The first can be used with the notebook or with the normal IPython interpreter.  The second specifies\n",
      "   that figures should be shown `inline`, directly in the notebook.  This is not available with the standard\n",
      "   IPython interpreter.\n",
      "\n",
      "2. After starting IPython, the same can be accomplished through the ``%pylab`` `magic command`:\n",
      "   \n",
      "        %pylab\n",
      "\n",
      "   or:\n",
      "\n",
      "        %pylab inline\n",
      "\n",
      "   The first works in either the interpreter or the notebook; the second should be used in the notebook.\n",
      "   This is useful if an IPython session has already started.\n",
      "\n",
      "We'll take the second route here, and tell IPython we want figures plotted inline:"
     ]
    },
    {
     "cell_type": "code",
     "collapsed": false,
     "input": [
      "%pylab inline"
     ],
     "language": "python",
     "metadata": {},
     "outputs": [
      {
       "output_type": "stream",
       "stream": "stdout",
       "text": [
        "\n",
        "Welcome to pylab, a matplotlib-based Python environment [backend: module://IPython.zmq.pylab.backend_inline].\n",
        "For more information, type 'help(pylab)'.\n"
       ]
      }
     ],
     "prompt_number": 1
    },
    {
     "cell_type": "markdown",
     "metadata": {},
     "source": [
      "## A first plot: the Pylab interface"
     ]
    },
    {
     "cell_type": "markdown",
     "metadata": {},
     "source": [
      "Now we're ready for a plot.  The ``%pylab`` mode we entered above does a few things, among which is the\n",
      "import of ``pylab`` into the current namespace.  For clarity, we'll do this directly here.  We'll also\n",
      "import ``numpy`` in order to easily manipulate the arrays we'll plot:"
     ]
    },
    {
     "cell_type": "code",
     "collapsed": false,
     "input": [
      "import pylab\n",
      "import numpy as np"
     ],
     "language": "python",
     "metadata": {},
     "outputs": [],
     "prompt_number": 2
    },
    {
     "cell_type": "markdown",
     "metadata": {},
     "source": [
      "Let's make some simple data to plot: a sinusoid"
     ]
    },
    {
     "cell_type": "code",
     "collapsed": false,
     "input": [],
     "language": "python",
     "metadata": {},
     "outputs": [],
     "prompt_number": 3
    },
    {
     "cell_type": "markdown",
     "metadata": {},
     "source": [
      "### Customizing the plot: Axes Limits"
     ]
    },
    {
     "cell_type": "markdown",
     "metadata": {},
     "source": [
      "Let's play around with this a bit: first we can change the axis limits using ``xlim()`` and ``ylim()``"
     ]
    },
    {
     "cell_type": "code",
     "collapsed": false,
     "input": [],
     "language": "python",
     "metadata": {},
     "outputs": [],
     "prompt_number": 4
    },
    {
     "cell_type": "markdown",
     "metadata": {},
     "source": [
      "### Customizing the plot: Axes Labels and Titles"
     ]
    },
    {
     "cell_type": "markdown",
     "metadata": {},
     "source": [
      "We can label the axes and add a title:"
     ]
    },
    {
     "cell_type": "code",
     "collapsed": false,
     "input": [],
     "language": "python",
     "metadata": {},
     "outputs": [],
     "prompt_number": 5
    },
    {
     "cell_type": "markdown",
     "metadata": {},
     "source": [
      "Labels can also be rendered using LaTeX symbols:"
     ]
    },
    {
     "cell_type": "code",
     "collapsed": false,
     "input": [],
     "language": "python",
     "metadata": {},
     "outputs": [],
     "prompt_number": 6
    },
    {
     "cell_type": "markdown",
     "metadata": {},
     "source": [
      "### Customizing the plot: Line Styles"
     ]
    },
    {
     "cell_type": "markdown",
     "metadata": {},
     "source": [
      "We can vary the line color or the line symbol:"
     ]
    },
    {
     "cell_type": "code",
     "collapsed": false,
     "input": [],
     "language": "python",
     "metadata": {},
     "outputs": [],
     "prompt_number": 7
    },
    {
     "cell_type": "markdown",
     "metadata": {},
     "source": [
      "Other options for the color characters are:\n",
      "\n",
      "     'r' = red\n",
      "     'g' = green\n",
      "     'b' = blue\n",
      "     'c' = cyan\n",
      "     'm' = magenta\n",
      "     'y' = yellow\n",
      "     'k' = black\n",
      "     'w' = white\n",
      "\n",
      "Options for line styles are\n",
      "\n",
      "     '-' = solid\n",
      "     '--' = dashed\n",
      "     ':' = dotted\n",
      "     '-.' = dot-dashed\n",
      "     '.' = points\n",
      "     'o' = filled circles\n",
      "     '^' = filled triangles\n",
      "\n",
      "and many, many more.\n",
      "\n",
      "For more information, view the documentation of the plot function.  In IPython, this can be\n",
      "accomplished using the ``?`` functionality:\n",
      " "
     ]
    },
    {
     "cell_type": "code",
     "collapsed": false,
     "input": [],
     "language": "python",
     "metadata": {},
     "outputs": [],
     "prompt_number": 8
    },
    {
     "cell_type": "markdown",
     "metadata": {},
     "source": [
      "Also see the online version of this help: http://matplotlib.org/api/pyplot_api.html#matplotlib.pyplot.plot"
     ]
    },
    {
     "cell_type": "markdown",
     "metadata": {},
     "source": [
      "### Cusomizing the Plot: Legends"
     ]
    },
    {
     "cell_type": "markdown",
     "metadata": {},
     "source": [
      "Multiple lines can be shown on the same plot.  In this case, you can use a legend\n",
      "to label the two lines:"
     ]
    },
    {
     "cell_type": "code",
     "collapsed": false,
     "input": [],
     "language": "python",
     "metadata": {},
     "outputs": [],
     "prompt_number": 9
    },
    {
     "cell_type": "markdown",
     "metadata": {},
     "source": [
      "### Exercise: Linestyles & Plot Customization"
     ]
    },
    {
     "cell_type": "markdown",
     "metadata": {},
     "source": [
      "Below are two sets of arrays ``x1, y1``, and ``x2, y2``.  Create a plot where\n",
      "``x1`` and ``y1`` are represented by blue circles, and ``x2`` and ``y2`` are\n",
      "represented by a dotted black line.  Label the symbols \"sampled\" and\n",
      "\"continuous\", and add a legend.  Adjust the y limits to suit your taste."
     ]
    },
    {
     "cell_type": "code",
     "collapsed": false,
     "input": [
      "x1 = np.linspace(0, 10, 20)\n",
      "y1 = np.sin(x1)\n",
      "\n",
      "x2 = np.linspace(0, 10, 1000)\n",
      "y2 = np.sin(x2)"
     ],
     "language": "python",
     "metadata": {},
     "outputs": [],
     "prompt_number": 10
    },
    {
     "cell_type": "code",
     "collapsed": false,
     "input": [],
     "language": "python",
     "metadata": {},
     "outputs": [],
     "prompt_number": 11
    }
   ],
   "metadata": {}
  }
 ]
}