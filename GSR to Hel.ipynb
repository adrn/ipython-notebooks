{
 "metadata": {
  "name": "GSR to Hel"
 },
 "nbformat": 3,
 "nbformat_minor": 0,
 "worksheets": [
  {
   "cells": [
    {
     "cell_type": "heading",
     "level": 2,
     "metadata": {},
     "source": [
      "Convert GSR velocity to Heliocentric velocity"
     ]
    },
    {
     "cell_type": "code",
     "collapsed": false,
     "input": [
      "import astropy.units as u"
     ],
     "language": "python",
     "metadata": {},
     "outputs": [],
     "prompt_number": 1
    },
    {
     "cell_type": "code",
     "collapsed": false,
     "input": [
      "def gsr_to_heliocentric(r_gsr, v_gsr, \n",
      "                        r_sun=[-8.,0.]*u.kpc, \n",
      "                        v_sun_lsr=[9.,11]*u.km/u.s, \n",
      "                        v_circ=220*u.km/u.s):\n",
      "    \"\"\" Convert a position and velocity from the Galactic standard of\n",
      "        rest (GSR) to heliocentric coordinates. Position and velocity \n",
      "        of the Sun must be given in Galactocentric cartesian coordinates\n",
      "        -- e.g., the Sun is typically at x = -8 kpc with a velocity \n",
      "        relative to the LSR of (9, 11, 6) km/s and a circular velocity\n",
      "        of 220 km/s.\n",
      "    \"\"\"\n",
      "    \n",
      "    if r_gsr.value.ndim == 1:\n",
      "        r_gsr = r_gsr.value[np.newaxis]*r_gsr.unit\n",
      "    \n",
      "    if v_gsr.value.ndim == 1:\n",
      "        v_gsr = v_gsr.value[np.newaxis]*v_gsr.unit\n",
      "    \n",
      "    if r_gsr.value.shape != v_gsr.value.shape:\n",
      "        raise ValueError(\"Positions and velocities must have same shape!\")\n",
      "    \n",
      "    v_sun_gsr = v_sun_lsr + [0., v_circ.value]*v_circ.unit\n",
      "    v_rel = v_gsr - v_sun_gsr\n",
      "    \n",
      "    r_hel = r_gsr - r_sun\n",
      "    r_hat = r_hel / np.array([np.linalg.norm(r) for r in r_hel.value])[np.newaxis].T\n",
      "    theta = np.arccos(r_hat[:,1])\n",
      "    t = np.array([np.cos(theta), np.sin(theta)]).T\n",
      "    \n",
      "    v_hel = v_rel.value * t\n",
      "    \n",
      "    return r_hel, v_hel"
     ],
     "language": "python",
     "metadata": {},
     "outputs": [],
     "prompt_number": 202
    },
    {
     "cell_type": "code",
     "collapsed": false,
     "input": [
      "r_gsr = np.array([[-8., 0.5]])*u.kpc\n",
      "v_gsr = np.array([[19., 231.]])*u.km/u.s\n",
      "\n",
      "gsr_to_heliocentric(r_gsr, v_gsr)"
     ],
     "language": "python",
     "metadata": {},
     "outputs": [
      {
       "output_type": "pyout",
       "prompt_number": 207,
       "text": [
        "(<Quantity [[ 0.   0.5]] kpc>, array([[ 10.,   0.]]))"
       ]
      }
     ],
     "prompt_number": 207
    },
    {
     "cell_type": "code",
     "collapsed": false,
     "input": [
      "r_gsr = np.array([[-8., 0.5],\n",
      "                 [-5., 3.5]])*u.kpc\n",
      "v_gsr = np.array([[19., 231.],\n",
      "                  [-50,100]])*u.km/u.s\n",
      "\n",
      "gsr_to_heliocentric(r_gsr, v_gsr)"
     ],
     "language": "python",
     "metadata": {},
     "outputs": [
      {
       "output_type": "pyout",
       "prompt_number": 208,
       "text": [
        "(<Quantity [[ 0.   0.5]\n",
        " [ 3.   3.5]] kpc>,\n",
        " array([[ 10.        ,   0.        ],\n",
        "       [-44.79613954, -85.25366992]]))"
       ]
      }
     ],
     "prompt_number": 208
    },
    {
     "cell_type": "code",
     "collapsed": false,
     "input": [
      "print r_star_hel[0],r_star_hel[1],v_star_hel[0],v_star_hel[1]"
     ],
     "language": "python",
     "metadata": {},
     "outputs": [
      {
       "output_type": "stream",
       "stream": "stdout",
       "text": [
        "10.0 7.0 -154.814053963 -155.387439348\n"
       ]
      }
     ],
     "prompt_number": 209
    },
    {
     "cell_type": "code",
     "collapsed": false,
     "input": [
      "figsize(10,5)\n",
      "subplot(121)\n",
      "quiver(r_star_gc[0],r_star_gc[1],v_star_gc[0],v_star_gc[1])\n",
      "quiver(r_sun_gc[0],r_sun_gc[1],v_sun_gc[0],v_sun_gc[1])\n",
      "\n",
      "xlim(-10,10)\n",
      "ylim(-10,10)\n",
      "\n",
      "subplot(122)\n",
      "quiver(r_star_hel[0],r_star_hel[1],v_star_rel[0],v_star_rel[1])\n",
      "plot(0,0)\n",
      "\n",
      "xlim(-5,15)\n",
      "ylim(-10,10)\n",
      "subplots_adjust(hspace=0.05,wspace=0.1)"
     ],
     "language": "python",
     "metadata": {},
     "outputs": [
      {
       "output_type": "display_data",
       "png": "[encoded data removed]"
      }
     ],
     "prompt_number": 87
    },
    {
     "cell_type": "code",
     "collapsed": false,
     "input": [],
     "language": "python",
     "metadata": {},
     "outputs": []
    },
    {
     "cell_type": "code",
     "collapsed": false,
     "input": [],
     "language": "python",
     "metadata": {},
     "outputs": []
    }
   ],
   "metadata": {}
  }
 ]
}