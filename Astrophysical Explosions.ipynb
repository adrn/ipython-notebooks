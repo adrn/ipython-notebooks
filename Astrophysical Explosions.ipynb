{
 "metadata": {
  "name": "Astrophysical Explosions"
 },
 "nbformat": 3,
 "nbformat_minor": 0,
 "worksheets": [
  {
   "cells": [
    {
     "cell_type": "code",
     "collapsed": false,
     "input": [
      "import astropy.units as u"
     ],
     "language": "python",
     "metadata": {},
     "outputs": [],
     "prompt_number": 21
    },
    {
     "cell_type": "markdown",
     "metadata": {},
     "source": [
      "Using Taylor 1949, we can solve the equations of motion for an expanding blast wave and solve for the radius vs. time of the expanding shell of material in some ambient medium (Air or ISM)."
     ]
    },
    {
     "cell_type": "heading",
     "level": 2,
     "metadata": {},
     "source": [
      "ISM"
     ]
    },
    {
     "cell_type": "markdown",
     "metadata": {},
     "source": [
      "If we're interested in the Radius-Time relation for a supernova going off in the ISM, we can assume:\n",
      "\n",
      "* $E\\sim10^{51}$\n",
      "* $\\gamma = 5/3$\n",
      "* ??\n",
      "\n",
      "With these assumptions, we can solve the following equation using approximate solutions for the dimensionless forms of the pressure, density, and radial velocity:\n",
      "\n",
      "$\\frac{dR}{dt} = A R^{-3/2} = R^{-3/2} E ^{1/2} (B\\rho_0)^{-1/2}$ \n",
      "\n",
      "where\n",
      "\n",
      "$B = 2\\pi \\int^1_0 \\psi\\phi^2\\eta^2d\\eta + \\frac{4\\pi}{\\gamma(\\gamma - 1)} \\int^1_0 f\\eta^2d\\eta$\n",
      "\n",
      "Using approximate solutions for $\\phi$, $\\psi$, and $f$:\n",
      "\n",
      "$$\n",
      "\\begin{align}\n",
      "\\phi &= \\eta/\\gamma + \\alpha\\eta^n\\\\\\\\\n",
      "\\psi &= D\\eta^{3/(\\gamma-1)} \\\\\\\\\n",
      "\\log f &= \\log\\frac{2\\gamma}{\\gamma + 1} - \\frac{2\\gamma^2 + 7\\gamma - 3}{7-\\gamma}\\log\\big(\\frac{\\gamma+1}{\\gamma} - \\frac{\\eta^{n-1}}{\\gamma}\\big)\n",
      "\\end{align}\n",
      "$$\n",
      "\n",
      "where\n",
      "\n",
      "$$\n",
      "\\begin{align}\n",
      "n &= \\frac{7\\gamma - 1}{\\gamma^2 - 1} \\\\\\\\\n",
      "\\alpha &= \\frac{\\gamma - 1}{\\gamma(\\gamma + 1)} \\\\\\\\\n",
      "\\log D &= \\log\\frac{\\gamma + 1}{\\gamma-1}-2\\frac{(\\gamma+5)}{7-\\gamma}\\log\\big(\\frac{\\gamma+1}{\\gamma}\\big)\n",
      "\\end{align}\n",
      "$$"
     ]
    },
    {
     "cell_type": "markdown",
     "metadata": {},
     "source": [
      "----\n",
      "\n",
      "In the code below:\n",
      "\n",
      "* `g` = $\\gamma$\n",
      "* `al` = $\\alpha$"
     ]
    },
    {
     "cell_type": "code",
     "collapsed": false,
     "input": [
      "n = lambda g: (7*g - 1) / (g**2 - 1)\n",
      "al = lambda g: (g-1) / (g*(g+1))\n",
      "\n",
      "def D(g):\n",
      "    logD = np.log((g+1)/(g-1)) - 2*(g+5)/(7-g)*np.log((g+1)/g)\n",
      "    return np.exp(logD)"
     ],
     "language": "python",
     "metadata": {},
     "outputs": [],
     "prompt_number": 4
    },
    {
     "cell_type": "markdown",
     "metadata": {},
     "source": [
      "Make sure the functions are correct (confirm with results from paper for $\\gamma=1.4$ ):"
     ]
    },
    {
     "cell_type": "code",
     "collapsed": false,
     "input": [
      "np.testing.assert_almost_equal(n(1.4), 9.166666666666)\n",
      "np.testing.assert_almost_equal(al(1.4), 0.119047619)\n",
      "np.testing.assert_almost_equal(D(1.4), 1.76, 1)"
     ],
     "language": "python",
     "metadata": {},
     "outputs": [],
     "prompt_number": 12
    },
    {
     "cell_type": "code",
     "collapsed": false,
     "input": [
      "g = 5./3\n",
      "print \"n={0}\".format(n(g))\n",
      "print \"alpha={0}\".format(al(g))\n",
      "print \"D={0}\".format(D(g))\n",
      "\n",
      "# get coefficients for expression in f\n",
      "c1 = np.log( (2*g) / (g+1))\n",
      "c2 = (2*g**2+7*g-3) / (7-g)\n",
      "c3 = (g+1)/g\n",
      "print \"\\log f = {0} - {1}\\log({2} - 3\\eta^5/5)\".format(c1, c2, c3)"
     ],
     "language": "python",
     "metadata": {},
     "outputs": [
      {
       "output_type": "stream",
       "stream": "stdout",
       "text": [
        "n=6.0\n",
        "alpha=0.15\n",
        "D=1.235264711\n",
        "\\log f = 0.223143551314 - 2.66666666667\\log(1.6 - 3\\eta^5/5)\n"
       ]
      }
     ],
     "prompt_number": 18
    },
    {
     "cell_type": "markdown",
     "metadata": {},
     "source": [
      "$\\log f = 0.223143551314 - 2.66666666667\\log(1.6 - 3\\eta^5/5)$"
     ]
    },
    {
     "cell_type": "markdown",
     "metadata": {},
     "source": [
      "For these values, we can write out an expression for $B$:\n",
      "\n",
      "$$\n",
      "\\begin{align}\n",
      "B &= 2\\pi \\int^1_0 (1.235\\eta^{4.5})(3\\eta/5 + 0.15\\eta^6)^2 \\eta^2d\\eta + \\frac{4\\pi}{\\gamma(\\gamma - 1)} \\int^1_0 f\\eta^2d\\eta \\\\\\\\\n",
      "B &\\approx 0.5757\n",
      "\\end{align}\n",
      "$$"
     ]
    },
    {
     "cell_type": "markdown",
     "metadata": {},
     "source": [
      "Now we can finally solve our initial equation!\n",
      "\n",
      "$\\frac{dR}{dt} = (B\\rho_0)^{-1/2} R^{-3/2} E^{1/2}$\n",
      "\n",
      "Assuming:\n",
      "\n",
      "$$\n",
      "\\begin{align}\n",
      "n_H &\\approx 0.6 \\mathrm{cm}^{-3} = 6\\times10^5 \\mathrm{m}^{-3} \\\\\\\\\n",
      "\\rho_0 &= \\frac{M_H}{N_A} n_H \\approx 2.46\\times 10^{-26} \\mathrm{M}_\\odot \\mathrm{pc}^{-3}\\\\\\\\\n",
      "\\end{align}\n",
      "$$"
     ]
    },
    {
     "cell_type": "code",
     "collapsed": false,
     "input": [
      "n_H = 6.E5\n",
      "rho_0 = 1.E-24 # g/cm^3"
     ],
     "language": "python",
     "metadata": {},
     "outputs": [],
     "prompt_number": 44
    },
    {
     "cell_type": "code",
     "collapsed": false,
     "input": [
      "B = 0.5757\n",
      "\"{0:e}\".format(((B*rho_0)**(-0.5) * (10**51)**0.5)**(2./5))"
     ],
     "language": "python",
     "metadata": {},
     "outputs": [
      {
       "output_type": "pyout",
       "prompt_number": 47,
       "text": [
        "'1.116762e+15'"
       ]
      }
     ],
     "prompt_number": 47
    },
    {
     "cell_type": "code",
     "collapsed": false,
     "input": [],
     "language": "python",
     "metadata": {},
     "outputs": []
    }
   ],
   "metadata": {}
  }
 ]
}