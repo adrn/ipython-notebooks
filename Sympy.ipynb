{
 "metadata": {
  "name": ""
 },
 "nbformat": 3,
 "nbformat_minor": 0,
 "worksheets": [
  {
   "cells": [
    {
     "cell_type": "code",
     "collapsed": false,
     "input": [
      "import sympy\n",
      "from sympy import *\n",
      "from sympy.abc import alpha, beta, S"
     ],
     "language": "python",
     "metadata": {},
     "outputs": [],
     "prompt_number": 92
    },
    {
     "cell_type": "code",
     "collapsed": false,
     "input": [
      "from sympy import init_printing\n",
      "init_printing()"
     ],
     "language": "python",
     "metadata": {},
     "outputs": [],
     "prompt_number": 93
    },
    {
     "cell_type": "code",
     "collapsed": false,
     "input": [
      "X = S*cos(alpha)*sin(beta)\n",
      "Y = S*sin(alpha)*sin(beta)\n",
      "Z = S*cos(beta)\n",
      "X"
     ],
     "language": "python",
     "metadata": {},
     "outputs": [
      {
       "latex": [
        "$$S \\sin{\\left (\\beta \\right )} \\cos{\\left (\\alpha \\right )}$$"
       ],
       "metadata": {},
       "output_type": "pyout",
       "png": "[encoded data removed]",
       "prompt_number": 94,
       "text": [
        "S\u22c5sin(\u03b2)\u22c5cos(\u03b1)"
       ]
      }
     ],
     "prompt_number": 94
    },
    {
     "cell_type": "code",
     "collapsed": false,
     "input": [
      "Jac = Matrix([[diff(X, S), diff(X, alpha), diff(X, beta)],\n",
      "              [diff(Y, S), diff(Y, alpha), diff(Y, beta)],\n",
      "              [diff(Z, S), diff(Z, alpha), diff(Z, beta)]])"
     ],
     "language": "python",
     "metadata": {},
     "outputs": [],
     "prompt_number": 95
    },
    {
     "cell_type": "code",
     "collapsed": false,
     "input": [
      "Jac.det().simplify()"
     ],
     "language": "python",
     "metadata": {},
     "outputs": [
      {
       "latex": [
        "$$- S^{2} \\sin{\\left (\\beta \\right )}$$"
       ],
       "metadata": {},
       "output_type": "pyout",
       "png": "[encoded data removed]",
       "prompt_number": 96,
       "text": [
        "  2       \n",
        "-S \u22c5sin(\u03b2)"
       ]
      }
     ],
     "prompt_number": 96
    },
    {
     "cell_type": "code",
     "collapsed": false,
     "input": [
      "X = exp(S)*cos(alpha)*sin(beta)\n",
      "Y = exp(S)*sin(alpha)*sin(beta)\n",
      "Z = exp(S)*cos(beta)\n",
      "\n",
      "Jac = Matrix([[diff(X, S), diff(X, alpha), diff(X, beta)],\n",
      "              [diff(Y, S), diff(Y, alpha), diff(Y, beta)],\n",
      "              [diff(Z, S), diff(Z, alpha), diff(Z, beta)]])\n",
      "\n",
      "Jac.det().simplify()"
     ],
     "language": "python",
     "metadata": {},
     "outputs": [
      {
       "latex": [
        "$$- e^{3 S} \\sin{\\left (\\beta \\right )}$$"
       ],
       "metadata": {},
       "output_type": "pyout",
       "png": "[encoded data removed]",
       "prompt_number": 97,
       "text": [
        "  3\u22c5S       \n",
        "-\u212f   \u22c5sin(\u03b2)"
       ]
      }
     ],
     "prompt_number": 97
    },
    {
     "cell_type": "markdown",
     "metadata": {},
     "source": [
      "---"
     ]
    },
    {
     "cell_type": "code",
     "collapsed": false,
     "input": [
      "from sympy.abc import l,b,d"
     ],
     "language": "python",
     "metadata": {},
     "outputs": [],
     "prompt_number": 98
    },
    {
     "cell_type": "code",
     "collapsed": false,
     "input": [
      "Rsun = Symbol(r\"Rsun\")\n",
      "Vcirc = Symbol(\"Vc\")\n",
      "mul = Symbol(\"mul\")\n",
      "mub = Symbol(\"mub\")\n",
      "vr = Symbol(\"vr\")"
     ],
     "language": "python",
     "metadata": {},
     "outputs": [],
     "prompt_number": 99
    },
    {
     "cell_type": "code",
     "collapsed": false,
     "input": [
      "# transform from spherical to cartesian\n",
      "x = d*cos(b)*cos(l) - Rsun\n",
      "y = d*cos(b)*sin(l)\n",
      "z = d*sin(b)\n",
      "\n",
      "vx = x/d*vr + y*mul + z*cos(l)*mub\n",
      "vy = y/d*vr - x*mul + z*sin(l)*mub + Vcirc\n",
      "vz = z/d*vr - d*cos(b)*mub"
     ],
     "language": "python",
     "metadata": {},
     "outputs": [],
     "prompt_number": 100
    },
    {
     "cell_type": "code",
     "collapsed": false,
     "input": [
      "_M = []\n",
      "for row_sym in [x,y,z,vx,vy,vz]:\n",
      "    row = []\n",
      "    for col_sym in [d,l,b,mul,mub,vr]:\n",
      "        row.append(diff(row_sym, col_sym))\n",
      "    _M.append(row)\n",
      "M = Matrix(_M)\n",
      "M"
     ],
     "language": "python",
     "metadata": {},
     "outputs": [
      {
       "latex": [
        "$$\\left[\\begin{smallmatrix}{}\\cos{\\left (b \\right )} \\cos{\\left (l \\right )} & - d \\sin{\\left (l \\right )} \\cos{\\left (b \\right )} & - d \\sin{\\left (b \\right )} \\cos{\\left (l \\right )} & 0 & 0 & 0\\\\\\sin{\\left (l \\right )} \\cos{\\left (b \\right )} & d \\cos{\\left (b \\right )} \\cos{\\left (l \\right )} & - d \\sin{\\left (b \\right )} \\sin{\\left (l \\right )} & 0 & 0 & 0\\\\\\sin{\\left (b \\right )} & 0 & d \\cos{\\left (b \\right )} & 0 & 0 & 0\\\\mub \\sin{\\left (b \\right )} \\cos{\\left (l \\right )} + mul \\sin{\\left (l \\right )} \\cos{\\left (b \\right )} + \\frac{vr}{d} \\cos{\\left (b \\right )} \\cos{\\left (l \\right )} - \\frac{vr}{d^{2}} \\left(- Rsun + d \\cos{\\left (b \\right )} \\cos{\\left (l \\right )}\\right) & - d mub \\sin{\\left (b \\right )} \\sin{\\left (l \\right )} + d mul \\cos{\\left (b \\right )} \\cos{\\left (l \\right )} - vr \\sin{\\left (l \\right )} \\cos{\\left (b \\right )} & d mub \\cos{\\left (b \\right )} \\cos{\\left (l \\right )} - d mul \\sin{\\left (b \\right )} \\sin{\\left (l \\right )} - vr \\sin{\\left (b \\right )} \\cos{\\left (l \\right )} & d \\sin{\\left (l \\right )} \\cos{\\left (b \\right )} & d \\sin{\\left (b \\right )} \\cos{\\left (l \\right )} & \\frac{1}{d} \\left(- Rsun + d \\cos{\\left (b \\right )} \\cos{\\left (l \\right )}\\right)\\\\mub \\sin{\\left (b \\right )} \\sin{\\left (l \\right )} - mul \\cos{\\left (b \\right )} \\cos{\\left (l \\right )} & d mub \\sin{\\left (b \\right )} \\cos{\\left (l \\right )} + d mul \\sin{\\left (l \\right )} \\cos{\\left (b \\right )} + vr \\cos{\\left (b \\right )} \\cos{\\left (l \\right )} & d mub \\sin{\\left (l \\right )} \\cos{\\left (b \\right )} + d mul \\sin{\\left (b \\right )} \\cos{\\left (l \\right )} - vr \\sin{\\left (b \\right )} \\sin{\\left (l \\right )} & Rsun - d \\cos{\\left (b \\right )} \\cos{\\left (l \\right )} & d \\sin{\\left (b \\right )} \\sin{\\left (l \\right )} & \\sin{\\left (l \\right )} \\cos{\\left (b \\right )}\\\\- mub \\cos{\\left (b \\right )} & 0 & d mub \\sin{\\left (b \\right )} + vr \\cos{\\left (b \\right )} & 0 & - d \\cos{\\left (b \\right )} & \\sin{\\left (b \\right )}\\end{smallmatrix}\\right]$$"
       ],
       "metadata": {},
       "output_type": "pyout",
       "png": "[encoded data removed]",
       "prompt_number": 101,
       "text": [
        "\u23a1                                     cos(b)\u22c5cos(l)                           \n",
        "\u23a2                                                                             \n",
        "\u23a2                                     sin(l)\u22c5cos(b)                           \n",
        "\u23a2                                                                             \n",
        "\u23a2                                        sin(b)                               \n",
        "\u23a2                                                                             \n",
        "\u23a2                                        vr\u22c5cos(b)\u22c5cos(l)   vr\u22c5(-Rsun + d\u22c5cos(\n",
        "\u23a2mub\u22c5sin(b)\u22c5cos(l) + mul\u22c5sin(l)\u22c5cos(b) + \u2500\u2500\u2500\u2500\u2500\u2500\u2500\u2500\u2500\u2500\u2500\u2500\u2500\u2500\u2500\u2500 - \u2500\u2500\u2500\u2500\u2500\u2500\u2500\u2500\u2500\u2500\u2500\u2500\u2500\u2500\u2500\u2500\u2500\u2500\n",
        "\u23a2                                               d                         2   \n",
        "\u23a2                                                                        d    \n",
        "\u23a2                                                                             \n",
        "\u23a2                         mub\u22c5sin(b)\u22c5sin(l) - mul\u22c5cos(b)\u22c5cos(l)               \n",
        "\u23a2                                                                             \n",
        "\u23a3                                      -mub\u22c5cos(b)                            \n",
        "\n",
        "                                  -d\u22c5sin(l)\u22c5cos(b)                            \n",
        "                                                                              \n",
        "                                   d\u22c5cos(b)\u22c5cos(l)                            \n",
        "                                                                              \n",
        "                                          0                                   \n",
        "                                                                              \n",
        "b)\u22c5cos(l))                                                                    \n",
        "\u2500\u2500\u2500\u2500\u2500\u2500\u2500\u2500\u2500\u2500  -d\u22c5mub\u22c5sin(b)\u22c5sin(l) + d\u22c5mul\u22c5cos(b)\u22c5cos(l) - vr\u22c5sin(l)\u22c5cos(b)  d\u22c5m\n",
        "                                                                              \n",
        "                                                                              \n",
        "                                                                              \n",
        "            d\u22c5mub\u22c5sin(b)\u22c5cos(l) + d\u22c5mul\u22c5sin(l)\u22c5cos(b) + vr\u22c5cos(b)\u22c5cos(l)   d\u22c5m\n",
        "                                                                              \n",
        "                                          0                                   \n",
        "\n",
        "                   -d\u22c5sin(b)\u22c5cos(l)                                  0        \n",
        "                                                                              \n",
        "                   -d\u22c5sin(b)\u22c5sin(l)                                  0        \n",
        "                                                                              \n",
        "                       d\u22c5cos(b)                                      0        \n",
        "                                                                              \n",
        "                                                                              \n",
        "ub\u22c5cos(b)\u22c5cos(l) - d\u22c5mul\u22c5sin(b)\u22c5sin(l) - vr\u22c5sin(b)\u22c5cos(l)     d\u22c5sin(l)\u22c5cos(b) \n",
        "                                                                              \n",
        "                                                                              \n",
        "                                                                              \n",
        "ub\u22c5sin(l)\u22c5cos(b) + d\u22c5mul\u22c5sin(b)\u22c5cos(l) - vr\u22c5sin(b)\u22c5sin(l)  Rsun - d\u22c5cos(b)\u22c5cos\n",
        "                                                                              \n",
        "               d\u22c5mub\u22c5sin(b) + vr\u22c5cos(b)                              0        \n",
        "\n",
        "            0                    0           \u23a4\n",
        "                                             \u23a5\n",
        "            0                    0           \u23a5\n",
        "                                             \u23a5\n",
        "            0                    0           \u23a5\n",
        "                                             \u23a5\n",
        "                      -Rsun + d\u22c5cos(b)\u22c5cos(l)\u23a5\n",
        "     d\u22c5sin(b)\u22c5cos(l)  \u2500\u2500\u2500\u2500\u2500\u2500\u2500\u2500\u2500\u2500\u2500\u2500\u2500\u2500\u2500\u2500\u2500\u2500\u2500\u2500\u2500\u2500\u2500\u23a5\n",
        "                                 d           \u23a5\n",
        "                                             \u23a5\n",
        "                                             \u23a5\n",
        "(l)  d\u22c5sin(b)\u22c5sin(l)       sin(l)\u22c5cos(b)     \u23a5\n",
        "                                             \u23a5\n",
        "        -d\u22c5cos(b)             sin(b)         \u23a6"
       ]
      }
     ],
     "prompt_number": 101
    },
    {
     "cell_type": "code",
     "collapsed": false,
     "input": [
      "M.det().simplify()"
     ],
     "language": "python",
     "metadata": {},
     "outputs": [
      {
       "latex": [
        "$$d^{2} \\left(Rsun^{2} \\cos{\\left (b \\right )} + Rsun d \\sin^{2}{\\left (b \\right )} \\cos{\\left (l \\right )} - 2 Rsun d \\cos{\\left (l \\right )} + d^{2} \\sin^{4}{\\left (b \\right )} \\cos{\\left (b \\right )} - d^{2} \\cos^{5}{\\left (b \\right )} + 2 d^{2} \\cos^{3}{\\left (b \\right )}\\right) \\cos{\\left (b \\right )}$$"
       ],
       "metadata": {},
       "output_type": "pyout",
       "png": "[encoded data removed]",
       "prompt_number": 127,
       "text": [
        " 2 \u239b    2                    2                                2    4          \n",
        "d \u22c5\u239dRsun \u22c5cos(b) + Rsun\u22c5d\u22c5sin (b)\u22c5cos(l) - 2\u22c5Rsun\u22c5d\u22c5cos(l) + d \u22c5sin (b)\u22c5cos(b)\n",
        "\n",
        "    2    5         2    3   \u239e       \n",
        " - d \u22c5cos (b) + 2\u22c5d \u22c5cos (b)\u23a0\u22c5cos(b)"
       ]
      }
     ],
     "prompt_number": 127
    },
    {
     "cell_type": "code",
     "collapsed": false,
     "input": [
      "repr(M.det().simplify())"
     ],
     "language": "python",
     "metadata": {},
     "outputs": [
      {
       "metadata": {},
       "output_type": "pyout",
       "prompt_number": 128,
       "text": [
        "'d**2*(Rsun**2*cos(b) + Rsun*d*sin(b)**2*cos(l) - 2*Rsun*d*cos(l) + d**2*sin(b)**4*cos(b) - d**2*cos(b)**5 + 2*d**2*cos(b)**3)*cos(b)'"
       ]
      }
     ],
     "prompt_number": 128
    },
    {
     "cell_type": "markdown",
     "metadata": {},
     "source": [
      "---"
     ]
    },
    {
     "cell_type": "markdown",
     "metadata": {},
     "source": [
      "LM10 halo"
     ]
    },
    {
     "cell_type": "code",
     "collapsed": false,
     "input": [
      "from astropy.constants import G as _G\n",
      "_G = _G.decompose([u.kpc, u.radian, u.Myr, u.M_sun]).value"
     ],
     "language": "python",
     "metadata": {},
     "outputs": [],
     "prompt_number": 103
    },
    {
     "cell_type": "code",
     "collapsed": false,
     "input": [
      "C1,C2,C3 = symbols(\"C_1,C_2,C_3\")\n",
      "q1,q2,qz = symbols(\"q_1,q_2,q_z\")\n",
      "x,y,z = symbols(\"x,y,z\")\n",
      "vh,rh,phi = symbols(\"v_h, r_h, phi\")\n",
      "G,pi = symbols(\"G, pi\")\n",
      "\n",
      "a,b,c = symbols(\"a,b,c\")\n",
      "Mdisk,Mspher = symbols(\"M_{disk}, M_{spher}\")\n",
      "r = sqrt(x**2+y**2+z**2)\n",
      "R = sqrt(x**2+y**2)"
     ],
     "language": "python",
     "metadata": {},
     "outputs": [],
     "prompt_number": 104
    },
    {
     "cell_type": "code",
     "collapsed": false,
     "input": [
      "Phi_d = -(G*Mdisk)/sqrt(R**2 + (a + sqrt(z**2 + b**2))**2)\n",
      "Phi_b = -(G*Mspher)/(r + c)\n",
      "Phi_h = vh**2*ln(C1*x**2 + C2*y**2 + C3*x*y + (z/qz)**2 + rh**2)\n",
      "\n",
      "Phi = Phi_h + Phi_d + Phi_b\n",
      "Phi"
     ],
     "language": "python",
     "metadata": {},
     "outputs": [
      {
       "latex": [
        "$$- \\frac{G M_{{disk}}}{\\sqrt{x^{2} + y^{2} + \\left(a + \\sqrt{b^{2} + z^{2}}\\right)^{2}}} - \\frac{G M_{{spher}}}{c + \\sqrt{x^{2} + y^{2} + z^{2}}} + v_{h}^{2} \\log{\\left (C_{1} x^{2} + C_{2} y^{2} + C_{3} x y + r_{h}^{2} + \\frac{z^{2}}{q_{z}^{2}} \\right )}$$"
       ],
       "metadata": {},
       "output_type": "pyout",
       "png": "[encoded data removed]",
       "prompt_number": 105,
       "text": [
        "                                                                         \u239b    \n",
        "               G\u22c5M_{disk}                     G\u22c5M_{spher}           2    \u239c    \n",
        "- \u2500\u2500\u2500\u2500\u2500\u2500\u2500\u2500\u2500\u2500\u2500\u2500\u2500\u2500\u2500\u2500\u2500\u2500\u2500\u2500\u2500\u2500\u2500\u2500\u2500\u2500\u2500\u2500\u2500\u2500\u2500\u2500\u2500\u2500\u2500\u2500 - \u2500\u2500\u2500\u2500\u2500\u2500\u2500\u2500\u2500\u2500\u2500\u2500\u2500\u2500\u2500\u2500\u2500\u2500\u2500\u2500\u2500 + v_h \u22c5log\u239cC\u2081\u22c5x\n",
        "       _______________________________          ______________           \u239c    \n",
        "      \u2571                             2          \u2571  2    2    2            \u239d    \n",
        "     \u2571            \u239b       _________\u239e     c + \u2572\u2571  x  + y  + z                  \n",
        "    \u2571    2    2   \u239c      \u2571  2    2 \u239f                                          \n",
        "  \u2572\u2571    x  + y  + \u239da + \u2572\u2571  b  + z  \u23a0                                          \n",
        "\n",
        "                              2 \u239e\n",
        "2       2               2    z  \u239f\n",
        "  + C\u2082\u22c5y  + C\u2083\u22c5x\u22c5y + r_h  + \u2500\u2500\u2500\u2500\u239f\n",
        "                               2\u239f\n",
        "                            q_z \u23a0\n",
        "                                 \n",
        "                                 \n",
        "                                 "
       ]
      }
     ],
     "prompt_number": 105
    },
    {
     "cell_type": "code",
     "collapsed": false,
     "input": [
      "c1 = cos(phi)**2/q1**2 + sin(phi)**2/q2**2\n",
      "c2 = sin(phi)**2/q1**2 + cos(phi)**2/q2**2\n",
      "c3 = 2*sin(phi)*cos(phi) * (q1**-2 - q2**-2)"
     ],
     "language": "python",
     "metadata": {},
     "outputs": [],
     "prompt_number": 106
    },
    {
     "cell_type": "markdown",
     "metadata": {},
     "source": [
      "---"
     ]
    },
    {
     "cell_type": "markdown",
     "metadata": {},
     "source": [
      "Here I'll get teh determinant for transforming to energy space"
     ]
    },
    {
     "cell_type": "code",
     "collapsed": false,
     "input": [
      "Phi"
     ],
     "language": "python",
     "metadata": {},
     "outputs": [
      {
       "latex": [
        "$$- \\frac{G M_{{disk}}}{\\sqrt{x^{2} + y^{2} + \\left(a + \\sqrt{b^{2} + z^{2}}\\right)^{2}}} - \\frac{G M_{{spher}}}{c + \\sqrt{x^{2} + y^{2} + z^{2}}} + v_{h}^{2} \\log{\\left (C_{1} x^{2} + C_{2} y^{2} + C_{3} x y + r_{h}^{2} + \\frac{z^{2}}{q_{z}^{2}} \\right )}$$"
       ],
       "metadata": {},
       "output_type": "pyout",
       "png": "[encoded data removed]",
       "prompt_number": 107,
       "text": [
        "                                                                         \u239b    \n",
        "               G\u22c5M_{disk}                     G\u22c5M_{spher}           2    \u239c    \n",
        "- \u2500\u2500\u2500\u2500\u2500\u2500\u2500\u2500\u2500\u2500\u2500\u2500\u2500\u2500\u2500\u2500\u2500\u2500\u2500\u2500\u2500\u2500\u2500\u2500\u2500\u2500\u2500\u2500\u2500\u2500\u2500\u2500\u2500\u2500\u2500\u2500 - \u2500\u2500\u2500\u2500\u2500\u2500\u2500\u2500\u2500\u2500\u2500\u2500\u2500\u2500\u2500\u2500\u2500\u2500\u2500\u2500\u2500 + v_h \u22c5log\u239cC\u2081\u22c5x\n",
        "       _______________________________          ______________           \u239c    \n",
        "      \u2571                             2          \u2571  2    2    2            \u239d    \n",
        "     \u2571            \u239b       _________\u239e     c + \u2572\u2571  x  + y  + z                  \n",
        "    \u2571    2    2   \u239c      \u2571  2    2 \u239f                                          \n",
        "  \u2572\u2571    x  + y  + \u239da + \u2572\u2571  b  + z  \u23a0                                          \n",
        "\n",
        "                              2 \u239e\n",
        "2       2               2    z  \u239f\n",
        "  + C\u2082\u22c5y  + C\u2083\u22c5x\u22c5y + r_h  + \u2500\u2500\u2500\u2500\u239f\n",
        "                               2\u239f\n",
        "                            q_z \u23a0\n",
        "                                 \n",
        "                                 \n",
        "                                 "
       ]
      }
     ],
     "prompt_number": 107
    },
    {
     "cell_type": "markdown",
     "metadata": {},
     "source": [
      "---"
     ]
    },
    {
     "cell_type": "markdown",
     "metadata": {},
     "source": [
      "Find the circular velocity at the sun"
     ]
    },
    {
     "cell_type": "code",
     "collapsed": false,
     "input": [
      "dists = np.linspace(0., 70, 100)"
     ],
     "language": "python",
     "metadata": {},
     "outputs": [],
     "prompt_number": 108
    },
    {
     "cell_type": "code",
     "collapsed": false,
     "input": [
      "def vh_to_vsun(vhalo):\n",
      "    vhalo = vhalo.to(u.kpc/u.Myr).value\n",
      "    \n",
      "    vc_disk_f = sqrt(abs( diff(Phi_d.subs({Mdisk:1E11, a:6.5, b:0.26, G:_G})\\\n",
      "                                    .subs({x:Symbol('r'), y:0., z:0.}),\n",
      "                               Symbol('r')) * Symbol('r')))\n",
      "    vc_disk_sun = float(vc_disk_f.evalf(subs={Symbol('r'):8}))*u.kpc/u.Myr\n",
      "    vc_disk = np.array([float(vc_disk_f.evalf(subs={Symbol('r'):dist})) for dist in dists])*u.kpc/u.Myr\n",
      "    \n",
      "    vc_spher_f = sqrt(abs( diff(Phi_b.subs({Mspher:3.4e10,c:0.7, G:_G})\\\n",
      "                                     .subs({x:Symbol('r'), y:0., z:0.}),\n",
      "                                Symbol('r')) * Symbol('r')))\n",
      "    vc_spher_sun = float(vc_spher_f.evalf(subs={Symbol('r'):8}))*u.kpc/u.Myr\n",
      "    vc_spher = np.array([float(vc_spher_f.evalf(subs={Symbol('r'):dist})) for dist in dists])*u.kpc/u.Myr\n",
      "    \n",
      "    vc_halo_f = sqrt(abs( diff(Phi_h.subs({C1:c1,C2:c2,C3:c3})\\\n",
      "                                    .subs({vh:vhalo,phi:1.6929,q1:1.38,q2:1.,qz:1.36,rh:12.,G:_G})\\\n",
      "                                    .subs({x:Symbol('r'), y:0., z:0.}),\n",
      "                                Symbol('r')) * Symbol('r')))\n",
      "    vc_halo_sun = float(vc_halo_f.evalf(subs={Symbol('r'):8}))*u.kpc/u.Myr\n",
      "    vc_halo = np.array([float(vc_halo_f.evalf(subs={Symbol('r'):dist})) for dist in dists])*u.kpc/u.Myr\n",
      "    \n",
      "#     plt.figure(figsize=(6,6))\n",
      "#     plt.plot(dists, np.sqrt(vc_disk**2 + vc_spher**2 + vc_halo**2).to(u.km/u.s).value, ls='-', lw=2.)\n",
      "#     plt.plot(dists, vc_disk.to(u.km/u.s).value, ls='--')\n",
      "#     plt.plot(dists, vc_spher.to(u.km/u.s).value, ls='--')\n",
      "#     plt.plot(dists, vc_halo.to(u.km/u.s).value, ls='--')\n",
      "    \n",
      "    return np.sqrt(vc_disk_sun**2 + vc_spher_sun**2 + vc_halo_sun**2).to(u.km/u.s)"
     ],
     "language": "python",
     "metadata": {},
     "outputs": [],
     "prompt_number": 109
    },
    {
     "cell_type": "code",
     "collapsed": false,
     "input": [
      "vh_to_vsun((0.120*u.kpc/u.Myr).to(u.km/u.s))"
     ],
     "language": "python",
     "metadata": {},
     "outputs": [
      {
       "latex": [
        "$218.759 \\; \\mathrm{\\frac{km}{s}}$"
       ],
       "metadata": {},
       "output_type": "pyout",
       "prompt_number": 131,
       "text": [
        "<Quantity 218.758727542303 km / s>"
       ]
      }
     ],
     "prompt_number": 131
    },
    {
     "cell_type": "code",
     "collapsed": false,
     "input": [
      "vhs = np.linspace(100,200,100)\n",
      "vsuns = np.array([vh_to_vsun(vhh*u.km/u.s).value for vhh in vhs])"
     ],
     "language": "python",
     "metadata": {},
     "outputs": [
      {
       "ename": "ValueError",
       "evalue": "sequence too large; must be smaller than 32",
       "output_type": "pyerr",
       "traceback": [
        "\u001b[0;31m---------------------------------------------------------------------------\u001b[0m\n\u001b[0;31mValueError\u001b[0m                                Traceback (most recent call last)",
        "\u001b[0;32m<ipython-input-111-52c56d502ccf>\u001b[0m in \u001b[0;36m<module>\u001b[0;34m()\u001b[0m\n\u001b[1;32m      2\u001b[0m \u001b[0mvsuns\u001b[0m \u001b[0;34m=\u001b[0m \u001b[0mnp\u001b[0m\u001b[0;34m.\u001b[0m\u001b[0marray\u001b[0m\u001b[0;34m(\u001b[0m\u001b[0;34m[\u001b[0m\u001b[0mvh_to_vsun\u001b[0m\u001b[0;34m(\u001b[0m\u001b[0mvhh\u001b[0m\u001b[0;34m*\u001b[0m\u001b[0mu\u001b[0m\u001b[0;34m.\u001b[0m\u001b[0mkm\u001b[0m\u001b[0;34m/\u001b[0m\u001b[0mu\u001b[0m\u001b[0;34m.\u001b[0m\u001b[0ms\u001b[0m\u001b[0;34m)\u001b[0m\u001b[0;34m.\u001b[0m\u001b[0mvalue\u001b[0m \u001b[0;32mfor\u001b[0m \u001b[0mvhh\u001b[0m \u001b[0;32min\u001b[0m \u001b[0mvhs\u001b[0m\u001b[0;34m]\u001b[0m\u001b[0;34m)\u001b[0m\u001b[0;34m\u001b[0m\u001b[0m\n\u001b[1;32m      3\u001b[0m \u001b[0;34m\u001b[0m\u001b[0m\n\u001b[0;32m----> 4\u001b[0;31m \u001b[0mplot\u001b[0m\u001b[0;34m(\u001b[0m\u001b[0mvhs\u001b[0m\u001b[0;34m,\u001b[0m \u001b[0mvsuns\u001b[0m\u001b[0;34m)\u001b[0m\u001b[0;34m\u001b[0m\u001b[0m\n\u001b[0m",
        "\u001b[0;32m/Users/adrian/anaconda/lib/python2.7/site-packages/sympy/plotting/plot.pyc\u001b[0m in \u001b[0;36mplot\u001b[0;34m(*args, **kwargs)\u001b[0m\n\u001b[1;32m   1193\u001b[0m \u001b[0;34m\u001b[0m\u001b[0m\n\u001b[1;32m   1194\u001b[0m     \"\"\"\n\u001b[0;32m-> 1195\u001b[0;31m     \u001b[0margs\u001b[0m \u001b[0;34m=\u001b[0m \u001b[0mmap\u001b[0m\u001b[0;34m(\u001b[0m\u001b[0msympify\u001b[0m\u001b[0;34m,\u001b[0m \u001b[0margs\u001b[0m\u001b[0;34m)\u001b[0m\u001b[0;34m\u001b[0m\u001b[0m\n\u001b[0m\u001b[1;32m   1196\u001b[0m     \u001b[0mshow\u001b[0m \u001b[0;34m=\u001b[0m \u001b[0mkwargs\u001b[0m\u001b[0;34m.\u001b[0m\u001b[0mpop\u001b[0m\u001b[0;34m(\u001b[0m\u001b[0;34m'show'\u001b[0m\u001b[0;34m,\u001b[0m \u001b[0mTrue\u001b[0m\u001b[0;34m)\u001b[0m\u001b[0;34m\u001b[0m\u001b[0m\n\u001b[1;32m   1197\u001b[0m     \u001b[0mseries\u001b[0m \u001b[0;34m=\u001b[0m \u001b[0;34m[\u001b[0m\u001b[0;34m]\u001b[0m\u001b[0;34m\u001b[0m\u001b[0m\n",
        "\u001b[0;32m/Users/adrian/anaconda/lib/python2.7/site-packages/sympy/core/sympify.pyc\u001b[0m in \u001b[0;36msympify\u001b[0;34m(a, locals, convert_xor, strict, rational)\u001b[0m\n\u001b[1;32m    254\u001b[0m         \u001b[0;32mtry\u001b[0m\u001b[0;34m:\u001b[0m\u001b[0;34m\u001b[0m\u001b[0m\n\u001b[1;32m    255\u001b[0m             return type(a)([sympify(x, locals=locals, convert_xor=convert_xor,\n\u001b[0;32m--> 256\u001b[0;31m                 rational=rational) for x in a])\n\u001b[0m\u001b[1;32m    257\u001b[0m         \u001b[0;32mexcept\u001b[0m \u001b[0mTypeError\u001b[0m\u001b[0;34m:\u001b[0m\u001b[0;34m\u001b[0m\u001b[0m\n\u001b[1;32m    258\u001b[0m             \u001b[0;31m# Not all iterables are rebuildable with their type.\u001b[0m\u001b[0;34m\u001b[0m\u001b[0;34m\u001b[0m\u001b[0m\n",
        "\u001b[0;31mValueError\u001b[0m: sequence too large; must be smaller than 32"
       ]
      },
      {
       "output_type": "stream",
       "stream": "stdout",
       "text": [
        "ERROR: ValueError: sequence too large; must be smaller than 32 [sympy.core.sympify]\n"
       ]
      }
     ],
     "prompt_number": 111
    },
    {
     "cell_type": "code",
     "collapsed": false,
     "input": [
      "plt.plot(vhs, vsuns, color='k', linestyle='-')"
     ],
     "language": "python",
     "metadata": {},
     "outputs": [
      {
       "metadata": {},
       "output_type": "pyout",
       "prompt_number": 125,
       "text": [
        "[<matplotlib.lines.Line2D at 0x107a29810>]"
       ]
      },
      {
       "metadata": {},
       "output_type": "display_data",
       "png": "[encoded data removed]",
       "text": [
        "<matplotlib.figure.Figure at 0x1078c28d0>"
       ]
      }
     ],
     "prompt_number": 125
    },
    {
     "cell_type": "code",
     "collapsed": false,
     "input": [
      "print vh_to_vsun(121.9*u.km/u.s)\n",
      "print vh_to_vsun(100.*u.km/u.s)\n",
      "print vh_to_vsun(200.*u.km/u.s)"
     ],
     "language": "python",
     "metadata": {},
     "outputs": []
    },
    {
     "cell_type": "markdown",
     "metadata": {},
     "source": [
      "-----"
     ]
    },
    {
     "cell_type": "code",
     "collapsed": false,
     "input": [
      "x,y,z = symbols(\"x,y,z\")\n",
      "G,pi = symbols(\"G, pi\")\n",
      "\n",
      "a,b,c,d = symbols(\"a,b,c,d\")\n",
      "Mdisk,Mspher,Mhalo = symbols(\"M_{disk}, M_{spher}, M_{halo}\")\n",
      "r = sqrt(x**2+y**2+z**2)\n",
      "R = sqrt(x**2+y**2)\n",
      "\n",
      "Phi_d = -(G*Mdisk)/sqrt(R**2 + (a + sqrt(z**2 + b**2))**2)\n",
      "Phi_b = -(G*Mspher)/(r + c)\n",
      "Phi_h = 3*G*Mhalo/r * (log(1+r/d)/r - 1/(r+d))\n",
      "\n",
      "Phi = Phi_h + Phi_d + Phi_b\n",
      "Phi"
     ],
     "language": "python",
     "metadata": {},
     "outputs": [
      {
       "latex": [
        "$$- \\frac{G M_{{disk}}}{\\sqrt{x^{2} + y^{2} + \\left(a + \\sqrt{b^{2} + z^{2}}\\right)^{2}}} + \\frac{3 G M_{{halo}}}{\\sqrt{x^{2} + y^{2} + z^{2}}} \\left(\\frac{1}{\\sqrt{x^{2} + y^{2} + z^{2}}} \\log{\\left (1 + \\frac{1}{d} \\sqrt{x^{2} + y^{2} + z^{2}} \\right )} - \\frac{1}{d + \\sqrt{x^{2} + y^{2} + z^{2}}}\\right) - \\frac{G M_{{spher}}}{c + \\sqrt{x^{2} + y^{2} + z^{2}}}$$"
       ],
       "metadata": {},
       "output_type": "pyout",
       "png": "[encoded data removed]",
       "prompt_number": 48,
       "text": [
        "                                                      \u239b   \u239b       ____________\n",
        "                                                      \u239c   \u239c      \u2571  2    2    \n",
        "                                                      \u239c   \u239c    \u2572\u2571  x  + y  + z\n",
        "                                                      \u239clog\u239c1 + \u2500\u2500\u2500\u2500\u2500\u2500\u2500\u2500\u2500\u2500\u2500\u2500\u2500\u2500\u2500\n",
        "                                                      \u239c   \u239d            d      \n",
        "                                         3\u22c5G\u22c5M_{halo}\u22c5\u239c\u2500\u2500\u2500\u2500\u2500\u2500\u2500\u2500\u2500\u2500\u2500\u2500\u2500\u2500\u2500\u2500\u2500\u2500\u2500\u2500\u2500\u2500\u2500\n",
        "                                                      \u239c       ______________  \n",
        "                                                      \u239c      \u2571  2    2    2   \n",
        "               G\u22c5M_{disk}                             \u239d    \u2572\u2571  x  + y  + z    \n",
        "- \u2500\u2500\u2500\u2500\u2500\u2500\u2500\u2500\u2500\u2500\u2500\u2500\u2500\u2500\u2500\u2500\u2500\u2500\u2500\u2500\u2500\u2500\u2500\u2500\u2500\u2500\u2500\u2500\u2500\u2500\u2500\u2500\u2500\u2500\u2500\u2500 + \u2500\u2500\u2500\u2500\u2500\u2500\u2500\u2500\u2500\u2500\u2500\u2500\u2500\u2500\u2500\u2500\u2500\u2500\u2500\u2500\u2500\u2500\u2500\u2500\u2500\u2500\u2500\u2500\u2500\u2500\u2500\u2500\u2500\u2500\u2500\u2500\u2500\n",
        "       _______________________________                              __________\n",
        "      \u2571                             2                              \u2571  2    2  \n",
        "     \u2571            \u239b       _________\u239e                             \u2572\u2571  x  + y  +\n",
        "    \u2571    2    2   \u239c      \u2571  2    2 \u239f                                          \n",
        "  \u2572\u2571    x  + y  + \u239da + \u2572\u2571  b  + z  \u23a0                                          \n",
        "\n",
        "__\u239e                        \u239e                        \n",
        "2 \u239f                        \u239f                        \n",
        "  \u239f                        \u239f                        \n",
        "\u2500\u2500\u239f                        \u239f                        \n",
        "  \u23a0             1          \u239f                        \n",
        "\u2500\u2500\u2500 - \u2500\u2500\u2500\u2500\u2500\u2500\u2500\u2500\u2500\u2500\u2500\u2500\u2500\u2500\u2500\u2500\u2500\u2500\u2500\u2500\u2500\u239f                        \n",
        "             ______________\u239f                        \n",
        "            \u2571  2    2    2 \u239f                        \n",
        "      d + \u2572\u2571  x  + y  + z  \u23a0        G\u22c5M_{spher}     \n",
        "\u2500\u2500\u2500\u2500\u2500\u2500\u2500\u2500\u2500\u2500\u2500\u2500\u2500\u2500\u2500\u2500\u2500\u2500\u2500\u2500\u2500\u2500\u2500\u2500\u2500\u2500\u2500\u2500 - \u2500\u2500\u2500\u2500\u2500\u2500\u2500\u2500\u2500\u2500\u2500\u2500\u2500\u2500\u2500\u2500\u2500\u2500\u2500\u2500\u2500\n",
        "____                                  ______________\n",
        "  2                                  \u2571  2    2    2 \n",
        " z                             c + \u2572\u2571  x  + y  + z  \n",
        "                                                    \n",
        "                                                    "
       ]
      }
     ],
     "prompt_number": 48
    },
    {
     "cell_type": "code",
     "collapsed": false,
     "input": [
      "dists = np.linspace(0.01, 70, 100)\n",
      "\n",
      "def Mhalo_to_vsun(Mhalooo):\n",
      "    vc_disk_f = sqrt(abs( diff(Phi_d.subs({Mdisk:1E11, a:6.5, b:0.26, G:_G})\\\n",
      "                                    .subs({x:Symbol('r'), y:0., z:0.}),\n",
      "                               Symbol('r')) * Symbol('r')))\n",
      "    vc_disk_sun = float(vc_disk_f.evalf(subs={Symbol('r'):8}))*u.kpc/u.Myr\n",
      "    vc_disk = np.array([float(vc_disk_f.evalf(subs={Symbol('r'):dist})) for dist in dists])*u.kpc/u.Myr\n",
      "    \n",
      "    vc_spher_f = sqrt(abs( diff(Phi_b.subs({Mspher:3.4e10,c:0.7, G:_G})\\\n",
      "                                     .subs({x:Symbol('r'), y:0., z:0.}),\n",
      "                                Symbol('r')) * Symbol('r')))\n",
      "    vc_spher_sun = float(vc_spher_f.evalf(subs={Symbol('r'):8}))*u.kpc/u.Myr\n",
      "    vc_spher = np.array([float(vc_spher_f.evalf(subs={Symbol('r'):dist})) for dist in dists])*u.kpc/u.Myr\n",
      "    \n",
      "    vc_halo_f = sqrt(abs( diff(Phi_h.subs({Mhalo:Mhalooo, d:6., G:_G})\\\n",
      "                                    .subs({x:Symbol('r'), y:0., z:0.}),\n",
      "                                Symbol('r')) * Symbol('r')))\n",
      "    vc_halo_sun = float(vc_halo_f.evalf(subs={Symbol('r'):8}))*u.kpc/u.Myr\n",
      "    vc_halo = np.array([float(vc_halo_f.evalf(subs={Symbol('r'):dist})) for dist in dists])*u.kpc/u.Myr\n",
      "    \n",
      "    plt.figure(figsize=(6,6))\n",
      "    plt.plot(dists, np.sqrt(vc_disk**2 + vc_spher**2 + vc_halo**2).to(u.km/u.s).value, ls='-', lw=2.)\n",
      "    plt.plot(dists, vc_disk.to(u.km/u.s).value, ls='--')\n",
      "    plt.plot(dists, vc_spher.to(u.km/u.s).value, ls='--')\n",
      "    plt.plot(dists, vc_halo.to(u.km/u.s).value, ls='--')\n",
      "    \n",
      "    return np.sqrt(vc_disk_sun**2 + vc_spher_sun**2 + vc_halo_sun**2).to(u.km/u.s)"
     ],
     "language": "python",
     "metadata": {},
     "outputs": [],
     "prompt_number": 57
    },
    {
     "cell_type": "code",
     "collapsed": false,
     "input": [
      "Mhalo_to_vsun(2.5E11)"
     ],
     "language": "python",
     "metadata": {},
     "outputs": [
      {
       "latex": [
        "$225.341 \\; \\mathrm{\\frac{km}{s}}$"
       ],
       "metadata": {},
       "output_type": "pyout",
       "prompt_number": 61,
       "text": [
        "<Quantity 225.34068406824136 km / s>"
       ]
      },
      {
       "metadata": {},
       "output_type": "display_data",
       "png": "[encoded data removed]",
       "text": [
        "<matplotlib.figure.Figure at 0x10576d790>"
       ]
      }
     ],
     "prompt_number": 61
    },
    {
     "cell_type": "code",
     "collapsed": false,
     "input": [],
     "language": "python",
     "metadata": {},
     "outputs": []
    }
   ],
   "metadata": {}
  }
 ]
}